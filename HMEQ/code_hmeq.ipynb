{
 "cells": [
  {
   "cell_type": "markdown",
   "id": "752306e9",
   "metadata": {},
   "source": [
    "$\\textbf{Description de la base}$\n",
    "\n",
    "L'ensemble de données HMEQ rapporte les caractéristiques et les informations sur les impayés pour 5960 prêts sur valeur domiciliaire. Un prêt sur valeur domiciliaire est un prêt dans lequel le débiteur utilise la valeur nette de son logement comme garantie sous-jacente. \n",
    "\n",
    "L'ensemble de données présente les caractéristiques suivantes :\n",
    "\n",
    "•\t$\\textbf{BAD}$ :\n",
    "\t\n",
    "    1 = demandeur en défaut de paiement ou gravement en souffrance ; \n",
    "    \n",
    "\t0 = prêt payé par le demandeur\n",
    "\n",
    "•\t$\\textbf{LOAN}$ (Numérique) : Montant de la demande de prêt\n",
    "\n",
    "•\t$\\textbf{MORTDUE}$ (Numérique) : Montant dû sur l'hypothèque existante\n",
    "\n",
    "•\t$\\textbf{VALUE}$ (Numérique) : Valeur de la propriété actuelle\n",
    "\n",
    "•\t$\\textbf{REASON}$ :\n",
    "\n",
    "\tDebtCon = consolidation de la dette\n",
    "    \n",
    "    HomeImp = amélioration de l'habitat\n",
    "    \n",
    "•\t$\\textbf{JOB}$ : Catégories professionnelles\n",
    "\n",
    "•\t$\\textbf{YOJ}$ : Nombres d’années dans l'emploi actuel\n",
    "\n",
    "•\t$\\textbf{DEROG}$ : Nombre de signalements dérogatoires majeurs\n",
    "\n",
    "•\t$\\textbf{DELINQ}$ : Nombre de lignes de crédit en souffrance\n",
    "\n",
    "•\t$\\textbf{CLAGE}$ : Âge de la ligne de crédit la plus ancienne en mois\n",
    "\n",
    "•\t$\\textbf{NINQ}$ : Nombre de demandes de crédit récentes\n",
    "\n",
    "•\t$\\textbf{CLNO}$ : Nombre de lignes de crédit\n",
    "\n",
    "•\t$\\textbf{DEBTINC}$ : Ratio dette/revenu\n",
    "\n"
   ]
  },
  {
   "cell_type": "markdown",
   "id": "3fe3562c",
   "metadata": {},
   "source": [
    "# Importation des librairies"
   ]
  },
  {
   "cell_type": "code",
   "execution_count": 1,
   "id": "799ae879",
   "metadata": {},
   "outputs": [],
   "source": [
    "# -*-coding:Latin-1 -*\n",
    "def clearall():\n",
    "    all = [var for var in globals() if var[0] != \"_\"]\n",
    "    for var in all:\n",
    "        del globals()[var]\n",
    "\n",
    "clearall()"
   ]
  },
  {
   "cell_type": "code",
   "execution_count": 2,
   "id": "be7652a6",
   "metadata": {},
   "outputs": [],
   "source": [
    "import numpy as np\n",
    "import pandas as pd\n",
    "import matplotlib.pyplot as plt"
   ]
  },
  {
   "cell_type": "markdown",
   "id": "501d48c1",
   "metadata": {},
   "source": [
    "#### Import des données"
   ]
  },
  {
   "cell_type": "code",
   "execution_count": 3,
   "id": "dc39ddf2",
   "metadata": {},
   "outputs": [
    {
     "data": {
      "text/html": [
       "<div>\n",
       "<style scoped>\n",
       "    .dataframe tbody tr th:only-of-type {\n",
       "        vertical-align: middle;\n",
       "    }\n",
       "\n",
       "    .dataframe tbody tr th {\n",
       "        vertical-align: top;\n",
       "    }\n",
       "\n",
       "    .dataframe thead th {\n",
       "        text-align: right;\n",
       "    }\n",
       "</style>\n",
       "<table border=\"1\" class=\"dataframe\">\n",
       "  <thead>\n",
       "    <tr style=\"text-align: right;\">\n",
       "      <th></th>\n",
       "      <th>BAD</th>\n",
       "      <th>LOAN</th>\n",
       "      <th>MORTDUE</th>\n",
       "      <th>VALUE</th>\n",
       "      <th>REASON</th>\n",
       "      <th>JOB</th>\n",
       "      <th>YOJ</th>\n",
       "      <th>DEROG</th>\n",
       "      <th>DELINQ</th>\n",
       "      <th>CLAGE</th>\n",
       "      <th>NINQ</th>\n",
       "      <th>CLNO</th>\n",
       "      <th>DEBTINC</th>\n",
       "    </tr>\n",
       "  </thead>\n",
       "  <tbody>\n",
       "    <tr>\n",
       "      <th>0</th>\n",
       "      <td>1</td>\n",
       "      <td>1100</td>\n",
       "      <td>25860.0</td>\n",
       "      <td>39025.0</td>\n",
       "      <td>HomeImp</td>\n",
       "      <td>Other</td>\n",
       "      <td>10.5</td>\n",
       "      <td>0.0</td>\n",
       "      <td>0.0</td>\n",
       "      <td>94.366667</td>\n",
       "      <td>1.0</td>\n",
       "      <td>9.0</td>\n",
       "      <td>NaN</td>\n",
       "    </tr>\n",
       "    <tr>\n",
       "      <th>1</th>\n",
       "      <td>1</td>\n",
       "      <td>1300</td>\n",
       "      <td>70053.0</td>\n",
       "      <td>68400.0</td>\n",
       "      <td>HomeImp</td>\n",
       "      <td>Other</td>\n",
       "      <td>7.0</td>\n",
       "      <td>0.0</td>\n",
       "      <td>2.0</td>\n",
       "      <td>121.833333</td>\n",
       "      <td>0.0</td>\n",
       "      <td>14.0</td>\n",
       "      <td>NaN</td>\n",
       "    </tr>\n",
       "    <tr>\n",
       "      <th>2</th>\n",
       "      <td>1</td>\n",
       "      <td>1500</td>\n",
       "      <td>13500.0</td>\n",
       "      <td>16700.0</td>\n",
       "      <td>HomeImp</td>\n",
       "      <td>Other</td>\n",
       "      <td>4.0</td>\n",
       "      <td>0.0</td>\n",
       "      <td>0.0</td>\n",
       "      <td>149.466667</td>\n",
       "      <td>1.0</td>\n",
       "      <td>10.0</td>\n",
       "      <td>NaN</td>\n",
       "    </tr>\n",
       "    <tr>\n",
       "      <th>3</th>\n",
       "      <td>1</td>\n",
       "      <td>1500</td>\n",
       "      <td>NaN</td>\n",
       "      <td>NaN</td>\n",
       "      <td>NaN</td>\n",
       "      <td>NaN</td>\n",
       "      <td>NaN</td>\n",
       "      <td>NaN</td>\n",
       "      <td>NaN</td>\n",
       "      <td>NaN</td>\n",
       "      <td>NaN</td>\n",
       "      <td>NaN</td>\n",
       "      <td>NaN</td>\n",
       "    </tr>\n",
       "    <tr>\n",
       "      <th>4</th>\n",
       "      <td>0</td>\n",
       "      <td>1700</td>\n",
       "      <td>97800.0</td>\n",
       "      <td>112000.0</td>\n",
       "      <td>HomeImp</td>\n",
       "      <td>Office</td>\n",
       "      <td>3.0</td>\n",
       "      <td>0.0</td>\n",
       "      <td>0.0</td>\n",
       "      <td>93.333333</td>\n",
       "      <td>0.0</td>\n",
       "      <td>14.0</td>\n",
       "      <td>NaN</td>\n",
       "    </tr>\n",
       "  </tbody>\n",
       "</table>\n",
       "</div>"
      ],
      "text/plain": [
       "   BAD  LOAN  MORTDUE     VALUE   REASON     JOB   YOJ  DEROG  DELINQ  \\\n",
       "0    1  1100  25860.0   39025.0  HomeImp   Other  10.5    0.0     0.0   \n",
       "1    1  1300  70053.0   68400.0  HomeImp   Other   7.0    0.0     2.0   \n",
       "2    1  1500  13500.0   16700.0  HomeImp   Other   4.0    0.0     0.0   \n",
       "3    1  1500      NaN       NaN      NaN     NaN   NaN    NaN     NaN   \n",
       "4    0  1700  97800.0  112000.0  HomeImp  Office   3.0    0.0     0.0   \n",
       "\n",
       "        CLAGE  NINQ  CLNO  DEBTINC  \n",
       "0   94.366667   1.0   9.0      NaN  \n",
       "1  121.833333   0.0  14.0      NaN  \n",
       "2  149.466667   1.0  10.0      NaN  \n",
       "3         NaN   NaN   NaN      NaN  \n",
       "4   93.333333   0.0  14.0      NaN  "
      ]
     },
     "execution_count": 3,
     "metadata": {},
     "output_type": "execute_result"
    }
   ],
   "source": [
    "data_hmeq=pd.read_csv('hmeq.csv')\n",
    "data_hmeq.head(5)"
   ]
  },
  {
   "cell_type": "markdown",
   "id": "bb163da0",
   "metadata": {},
   "source": [
    "### Renommer les variables"
   ]
  },
  {
   "cell_type": "code",
   "execution_count": 4,
   "id": "a9541e3f",
   "metadata": {},
   "outputs": [],
   "source": [
    "hmeq=data_hmeq.copy()\n",
    "hmeq=hmeq.rename(columns={\n",
    "    'BAD': 'reponse',\n",
    "    'LOAN' : 'montant_pret',\n",
    "    'MORTDUE': 'hypo',\n",
    "    'VALUE' : 'valeur_prop',\n",
    "    'REASON':'but',\n",
    "    'JOB' :'emploi',\n",
    "    'YOJ' : 'annee_emploi',\n",
    "    'DEROG':'signal',\n",
    "    'DELINQ' :'cred_souffre',\n",
    "    'CLAGE' : 'age_cred',\n",
    "    'NINQ' :'nbre_demande',\n",
    "    'CLNO': 'nbre_credit',\n",
    "    'DEBTINC' : 'dette_rev'\n",
    "})"
   ]
  },
  {
   "cell_type": "code",
   "execution_count": 5,
   "id": "48d874ab",
   "metadata": {},
   "outputs": [
    {
     "data": {
      "text/html": [
       "<div>\n",
       "<style scoped>\n",
       "    .dataframe tbody tr th:only-of-type {\n",
       "        vertical-align: middle;\n",
       "    }\n",
       "\n",
       "    .dataframe tbody tr th {\n",
       "        vertical-align: top;\n",
       "    }\n",
       "\n",
       "    .dataframe thead th {\n",
       "        text-align: right;\n",
       "    }\n",
       "</style>\n",
       "<table border=\"1\" class=\"dataframe\">\n",
       "  <thead>\n",
       "    <tr style=\"text-align: right;\">\n",
       "      <th></th>\n",
       "      <th>reponse</th>\n",
       "      <th>montant_pret</th>\n",
       "      <th>hypo</th>\n",
       "      <th>valeur_prop</th>\n",
       "      <th>but</th>\n",
       "      <th>emploi</th>\n",
       "      <th>annee_emploi</th>\n",
       "      <th>signal</th>\n",
       "      <th>cred_souffre</th>\n",
       "      <th>age_cred</th>\n",
       "      <th>nbre_demande</th>\n",
       "      <th>nbre_credit</th>\n",
       "      <th>dette_rev</th>\n",
       "    </tr>\n",
       "  </thead>\n",
       "  <tbody>\n",
       "    <tr>\n",
       "      <th>0</th>\n",
       "      <td>1</td>\n",
       "      <td>1100</td>\n",
       "      <td>25860.0</td>\n",
       "      <td>39025.0</td>\n",
       "      <td>HomeImp</td>\n",
       "      <td>Other</td>\n",
       "      <td>10.5</td>\n",
       "      <td>0.0</td>\n",
       "      <td>0.0</td>\n",
       "      <td>94.366667</td>\n",
       "      <td>1.0</td>\n",
       "      <td>9.0</td>\n",
       "      <td>NaN</td>\n",
       "    </tr>\n",
       "    <tr>\n",
       "      <th>1</th>\n",
       "      <td>1</td>\n",
       "      <td>1300</td>\n",
       "      <td>70053.0</td>\n",
       "      <td>68400.0</td>\n",
       "      <td>HomeImp</td>\n",
       "      <td>Other</td>\n",
       "      <td>7.0</td>\n",
       "      <td>0.0</td>\n",
       "      <td>2.0</td>\n",
       "      <td>121.833333</td>\n",
       "      <td>0.0</td>\n",
       "      <td>14.0</td>\n",
       "      <td>NaN</td>\n",
       "    </tr>\n",
       "    <tr>\n",
       "      <th>2</th>\n",
       "      <td>1</td>\n",
       "      <td>1500</td>\n",
       "      <td>13500.0</td>\n",
       "      <td>16700.0</td>\n",
       "      <td>HomeImp</td>\n",
       "      <td>Other</td>\n",
       "      <td>4.0</td>\n",
       "      <td>0.0</td>\n",
       "      <td>0.0</td>\n",
       "      <td>149.466667</td>\n",
       "      <td>1.0</td>\n",
       "      <td>10.0</td>\n",
       "      <td>NaN</td>\n",
       "    </tr>\n",
       "    <tr>\n",
       "      <th>3</th>\n",
       "      <td>1</td>\n",
       "      <td>1500</td>\n",
       "      <td>NaN</td>\n",
       "      <td>NaN</td>\n",
       "      <td>NaN</td>\n",
       "      <td>NaN</td>\n",
       "      <td>NaN</td>\n",
       "      <td>NaN</td>\n",
       "      <td>NaN</td>\n",
       "      <td>NaN</td>\n",
       "      <td>NaN</td>\n",
       "      <td>NaN</td>\n",
       "      <td>NaN</td>\n",
       "    </tr>\n",
       "    <tr>\n",
       "      <th>4</th>\n",
       "      <td>0</td>\n",
       "      <td>1700</td>\n",
       "      <td>97800.0</td>\n",
       "      <td>112000.0</td>\n",
       "      <td>HomeImp</td>\n",
       "      <td>Office</td>\n",
       "      <td>3.0</td>\n",
       "      <td>0.0</td>\n",
       "      <td>0.0</td>\n",
       "      <td>93.333333</td>\n",
       "      <td>0.0</td>\n",
       "      <td>14.0</td>\n",
       "      <td>NaN</td>\n",
       "    </tr>\n",
       "  </tbody>\n",
       "</table>\n",
       "</div>"
      ],
      "text/plain": [
       "   reponse  montant_pret     hypo  valeur_prop      but  emploi  annee_emploi  \\\n",
       "0        1          1100  25860.0      39025.0  HomeImp   Other          10.5   \n",
       "1        1          1300  70053.0      68400.0  HomeImp   Other           7.0   \n",
       "2        1          1500  13500.0      16700.0  HomeImp   Other           4.0   \n",
       "3        1          1500      NaN          NaN      NaN     NaN           NaN   \n",
       "4        0          1700  97800.0     112000.0  HomeImp  Office           3.0   \n",
       "\n",
       "   signal  cred_souffre    age_cred  nbre_demande  nbre_credit  dette_rev  \n",
       "0     0.0           0.0   94.366667           1.0          9.0        NaN  \n",
       "1     0.0           2.0  121.833333           0.0         14.0        NaN  \n",
       "2     0.0           0.0  149.466667           1.0         10.0        NaN  \n",
       "3     NaN           NaN         NaN           NaN          NaN        NaN  \n",
       "4     0.0           0.0   93.333333           0.0         14.0        NaN  "
      ]
     },
     "execution_count": 5,
     "metadata": {},
     "output_type": "execute_result"
    }
   ],
   "source": [
    "hmeq.head(5)"
   ]
  },
  {
   "cell_type": "markdown",
   "id": "8ff100be",
   "metadata": {},
   "source": [
    "# Détection des données manquantes"
   ]
  },
  {
   "cell_type": "code",
   "execution_count": 6,
   "id": "b06e646e",
   "metadata": {},
   "outputs": [
    {
     "name": "stdout",
     "output_type": "stream",
     "text": [
      "<class 'pandas.core.frame.DataFrame'>\n",
      "RangeIndex: 5960 entries, 0 to 5959\n",
      "Data columns (total 13 columns):\n",
      " #   Column        Non-Null Count  Dtype  \n",
      "---  ------        --------------  -----  \n",
      " 0   reponse       5960 non-null   int64  \n",
      " 1   montant_pret  5960 non-null   int64  \n",
      " 2   hypo          5442 non-null   float64\n",
      " 3   valeur_prop   5848 non-null   float64\n",
      " 4   but           5708 non-null   object \n",
      " 5   emploi        5681 non-null   object \n",
      " 6   annee_emploi  5445 non-null   float64\n",
      " 7   signal        5252 non-null   float64\n",
      " 8   cred_souffre  5380 non-null   float64\n",
      " 9   age_cred      5652 non-null   float64\n",
      " 10  nbre_demande  5450 non-null   float64\n",
      " 11  nbre_credit   5738 non-null   float64\n",
      " 12  dette_rev     4693 non-null   float64\n",
      "dtypes: float64(9), int64(2), object(2)\n",
      "memory usage: 605.4+ KB\n"
     ]
    }
   ],
   "source": [
    "hmeq.info()"
   ]
  },
  {
   "cell_type": "markdown",
   "id": "8ad7b2bb",
   "metadata": {},
   "source": [
    "### Proportion de données manquantes"
   ]
  },
  {
   "cell_type": "code",
   "execution_count": 7,
   "id": "b2f92f4f",
   "metadata": {},
   "outputs": [
    {
     "data": {
      "text/plain": [
       "reponse            0\n",
       "montant_pret       0\n",
       "hypo             518\n",
       "valeur_prop      112\n",
       "but              252\n",
       "emploi           279\n",
       "annee_emploi     515\n",
       "signal           708\n",
       "cred_souffre     580\n",
       "age_cred         308\n",
       "nbre_demande     510\n",
       "nbre_credit      222\n",
       "dette_rev       1267\n",
       "dtype: int64"
      ]
     },
     "execution_count": 7,
     "metadata": {},
     "output_type": "execute_result"
    }
   ],
   "source": [
    "mis_data=hmeq.isnull().sum()\n",
    "mis_data"
   ]
  },
  {
   "cell_type": "code",
   "execution_count": 8,
   "id": "f009ec86",
   "metadata": {
    "scrolled": true
   },
   "outputs": [
    {
     "data": {
      "text/html": [
       "<div>\n",
       "<style scoped>\n",
       "    .dataframe tbody tr th:only-of-type {\n",
       "        vertical-align: middle;\n",
       "    }\n",
       "\n",
       "    .dataframe tbody tr th {\n",
       "        vertical-align: top;\n",
       "    }\n",
       "\n",
       "    .dataframe thead th {\n",
       "        text-align: right;\n",
       "    }\n",
       "</style>\n",
       "<table border=\"1\" class=\"dataframe\">\n",
       "  <thead>\n",
       "    <tr style=\"text-align: right;\">\n",
       "      <th></th>\n",
       "      <th>Nbre de donnees manq</th>\n",
       "      <th>Pourcentage (%)</th>\n",
       "    </tr>\n",
       "  </thead>\n",
       "  <tbody>\n",
       "    <tr>\n",
       "      <th>reponse</th>\n",
       "      <td>0</td>\n",
       "      <td>0.000000</td>\n",
       "    </tr>\n",
       "    <tr>\n",
       "      <th>montant_pret</th>\n",
       "      <td>0</td>\n",
       "      <td>0.000000</td>\n",
       "    </tr>\n",
       "    <tr>\n",
       "      <th>hypo</th>\n",
       "      <td>518</td>\n",
       "      <td>8.691275</td>\n",
       "    </tr>\n",
       "    <tr>\n",
       "      <th>valeur_prop</th>\n",
       "      <td>112</td>\n",
       "      <td>1.879195</td>\n",
       "    </tr>\n",
       "    <tr>\n",
       "      <th>but</th>\n",
       "      <td>252</td>\n",
       "      <td>4.228188</td>\n",
       "    </tr>\n",
       "    <tr>\n",
       "      <th>emploi</th>\n",
       "      <td>279</td>\n",
       "      <td>4.681208</td>\n",
       "    </tr>\n",
       "    <tr>\n",
       "      <th>annee_emploi</th>\n",
       "      <td>515</td>\n",
       "      <td>8.640940</td>\n",
       "    </tr>\n",
       "    <tr>\n",
       "      <th>signal</th>\n",
       "      <td>708</td>\n",
       "      <td>11.879195</td>\n",
       "    </tr>\n",
       "    <tr>\n",
       "      <th>cred_souffre</th>\n",
       "      <td>580</td>\n",
       "      <td>9.731544</td>\n",
       "    </tr>\n",
       "    <tr>\n",
       "      <th>age_cred</th>\n",
       "      <td>308</td>\n",
       "      <td>5.167785</td>\n",
       "    </tr>\n",
       "    <tr>\n",
       "      <th>nbre_demande</th>\n",
       "      <td>510</td>\n",
       "      <td>8.557047</td>\n",
       "    </tr>\n",
       "    <tr>\n",
       "      <th>nbre_credit</th>\n",
       "      <td>222</td>\n",
       "      <td>3.724832</td>\n",
       "    </tr>\n",
       "    <tr>\n",
       "      <th>dette_rev</th>\n",
       "      <td>1267</td>\n",
       "      <td>21.258389</td>\n",
       "    </tr>\n",
       "  </tbody>\n",
       "</table>\n",
       "</div>"
      ],
      "text/plain": [
       "              Nbre de donnees manq  Pourcentage (%)\n",
       "reponse                          0         0.000000\n",
       "montant_pret                     0         0.000000\n",
       "hypo                           518         8.691275\n",
       "valeur_prop                    112         1.879195\n",
       "but                            252         4.228188\n",
       "emploi                         279         4.681208\n",
       "annee_emploi                   515         8.640940\n",
       "signal                         708        11.879195\n",
       "cred_souffre                   580         9.731544\n",
       "age_cred                       308         5.167785\n",
       "nbre_demande                   510         8.557047\n",
       "nbre_credit                    222         3.724832\n",
       "dette_rev                     1267        21.258389"
      ]
     },
     "execution_count": 8,
     "metadata": {},
     "output_type": "execute_result"
    }
   ],
   "source": [
    "mis_prop=(mis_data/len(hmeq))*100\n",
    "####\n",
    "mis_table=pd.DataFrame({'Nbre de donnees manq':mis_data,\n",
    "                        'Pourcentage (%)':mis_prop})\n",
    "mis_table"
   ]
  },
  {
   "cell_type": "markdown",
   "id": "88617c26",
   "metadata": {},
   "source": [
    "# Imputation des valeurs manquantes"
   ]
  },
  {
   "cell_type": "code",
   "execution_count": 9,
   "id": "4d3b26b4",
   "metadata": {},
   "outputs": [
    {
     "name": "stdout",
     "output_type": "stream",
     "text": [
      "Defaulting to user installation because normal site-packages is not writeable\n",
      "Requirement already satisfied: missingno in c:\\users\\hp\\appdata\\roaming\\python\\python39\\site-packages (0.5.2)\n",
      "Requirement already satisfied: numpy in c:\\programdata\\anaconda3\\lib\\site-packages (from missingno) (1.21.5)\n",
      "Requirement already satisfied: scipy in c:\\programdata\\anaconda3\\lib\\site-packages (from missingno) (1.7.3)\n",
      "Requirement already satisfied: seaborn in c:\\programdata\\anaconda3\\lib\\site-packages (from missingno) (0.11.2)\n",
      "Requirement already satisfied: matplotlib in c:\\programdata\\anaconda3\\lib\\site-packages (from missingno) (3.5.1)\n",
      "Requirement already satisfied: python-dateutil>=2.7 in c:\\programdata\\anaconda3\\lib\\site-packages (from matplotlib->missingno) (2.8.2)\n",
      "Requirement already satisfied: pillow>=6.2.0 in c:\\programdata\\anaconda3\\lib\\site-packages (from matplotlib->missingno) (9.0.1)\n",
      "Requirement already satisfied: cycler>=0.10 in c:\\programdata\\anaconda3\\lib\\site-packages (from matplotlib->missingno) (0.11.0)\n",
      "Requirement already satisfied: kiwisolver>=1.0.1 in c:\\programdata\\anaconda3\\lib\\site-packages (from matplotlib->missingno) (1.3.2)\n",
      "Requirement already satisfied: fonttools>=4.22.0 in c:\\programdata\\anaconda3\\lib\\site-packages (from matplotlib->missingno) (4.25.0)\n",
      "Requirement already satisfied: pyparsing>=2.2.1 in c:\\programdata\\anaconda3\\lib\\site-packages (from matplotlib->missingno) (3.0.4)\n",
      "Requirement already satisfied: packaging>=20.0 in c:\\programdata\\anaconda3\\lib\\site-packages (from matplotlib->missingno) (21.3)\n",
      "Requirement already satisfied: six>=1.5 in c:\\programdata\\anaconda3\\lib\\site-packages (from python-dateutil>=2.7->matplotlib->missingno) (1.16.0)\n",
      "Requirement already satisfied: pandas>=0.23 in c:\\programdata\\anaconda3\\lib\\site-packages (from seaborn->missingno) (1.4.2)\n",
      "Requirement already satisfied: pytz>=2020.1 in c:\\programdata\\anaconda3\\lib\\site-packages (from pandas>=0.23->seaborn->missingno) (2021.3)\n",
      "Note: you may need to restart the kernel to use updated packages.\n"
     ]
    }
   ],
   "source": [
    "pip install missingno"
   ]
  },
  {
   "cell_type": "code",
   "execution_count": 10,
   "id": "77d63e5b",
   "metadata": {},
   "outputs": [],
   "source": [
    "import missingno as msno"
   ]
  },
  {
   "cell_type": "markdown",
   "id": "9783edc2",
   "metadata": {},
   "source": [
    "### Visualisation graphique des données manquantes"
   ]
  },
  {
   "cell_type": "code",
   "execution_count": 11,
   "id": "d95cb4d0",
   "metadata": {},
   "outputs": [
    {
     "data": {
      "text/plain": [
       "<Figure size 432x288 with 0 Axes>"
      ]
     },
     "metadata": {},
     "output_type": "display_data"
    },
    {
     "data": {
      "image/png": "[encoded data removed]",
      "text/plain": [
       "<Figure size 1800x720 with 2 Axes>"
      ]
     },
     "metadata": {
      "needs_background": "light"
     },
     "output_type": "display_data"
    }
   ],
   "source": [
    "plt.figure()\n",
    "msno.matrix(hmeq)\n",
    "plt.show()"
   ]
  },
  {
   "cell_type": "code",
   "execution_count": 12,
   "id": "33a44afd",
   "metadata": {
    "scrolled": true
   },
   "outputs": [
    {
     "data": {
      "image/png": "[encoded data removed]",
      "text/plain": [
       "<Figure size 1800x720 with 3 Axes>"
      ]
     },
     "metadata": {
      "needs_background": "light"
     },
     "output_type": "display_data"
    }
   ],
   "source": [
    "plt.figure()\n",
    "msno.bar(hmeq)\n",
    "plt.show()"
   ]
  },
  {
   "cell_type": "markdown",
   "id": "741b8367",
   "metadata": {},
   "source": [
    "### Correlation entre les données manquantes"
   ]
  },
  {
   "cell_type": "code",
   "execution_count": 13,
   "id": "08444b8d",
   "metadata": {},
   "outputs": [
    {
     "data": {
      "text/plain": [
       "<Figure size 432x288 with 0 Axes>"
      ]
     },
     "metadata": {},
     "output_type": "display_data"
    },
    {
     "data": {
      "image/png": "[encoded data removed]",
      "text/plain": [
       "<Figure size 1440x864 with 2 Axes>"
      ]
     },
     "metadata": {
      "needs_background": "light"
     },
     "output_type": "display_data"
    }
   ],
   "source": [
    "plt.figure()\n",
    "msno.heatmap(hmeq)\n",
    "plt.show()"
   ]
  },
  {
   "cell_type": "code",
   "execution_count": 14,
   "id": "5aecb9f8",
   "metadata": {},
   "outputs": [
    {
     "data": {
      "text/plain": [
       "<Figure size 432x288 with 0 Axes>"
      ]
     },
     "metadata": {},
     "output_type": "display_data"
    },
    {
     "data": {
      "image/png": "[encoded data removed]",
      "text/plain": [
       "<Figure size 1800x720 with 1 Axes>"
      ]
     },
     "metadata": {
      "needs_background": "light"
     },
     "output_type": "display_data"
    }
   ],
   "source": [
    "###Variables très corrélées\n",
    "plt.figure()\n",
    "msno.dendrogram(hmeq)\n",
    "plt.show()"
   ]
  },
  {
   "cell_type": "markdown",
   "id": "9f70a7ba",
   "metadata": {},
   "source": [
    "### Récuperer les variables dont les proportions de données sont au dessous de 5%"
   ]
  },
  {
   "cell_type": "code",
   "execution_count": 15,
   "id": "02bbe1c1",
   "metadata": {},
   "outputs": [],
   "source": [
    "###Séparer les variables qualitatives et quantitatives\n",
    "#var_cat=[]\n",
    "#var_num=[]\n",
    "###\n",
    "#for var in hmeq.columns:\n",
    "#    if hmeq[var].dtype=='object':\n",
    "#        var_cat.append(var)\n",
    "#    else:\n",
    "#        var_num.append(var)"
   ]
  },
  {
   "cell_type": "code",
   "execution_count": 16,
   "id": "3e449d26",
   "metadata": {},
   "outputs": [
    {
     "data": {
      "text/plain": [
       "(5960, 13)"
      ]
     },
     "execution_count": 16,
     "metadata": {},
     "output_type": "execute_result"
    }
   ],
   "source": [
    "hmeq.shape"
   ]
  },
  {
   "cell_type": "code",
   "execution_count": 17,
   "id": "a652b8bd",
   "metadata": {},
   "outputs": [
    {
     "name": "stdout",
     "output_type": "stream",
     "text": [
      "Les variables quantitatives sont \n",
      " Index(['reponse', 'montant_pret', 'hypo', 'valeur_prop', 'annee_emploi',\n",
      "       'signal', 'cred_souffre', 'age_cred', 'nbre_demande', 'nbre_credit',\n",
      "       'dette_rev'],\n",
      "      dtype='object')\n"
     ]
    },
    {
     "data": {
      "text/plain": [
       "(5960, 11)"
      ]
     },
     "execution_count": 17,
     "metadata": {},
     "output_type": "execute_result"
    }
   ],
   "source": [
    "hmeq_num=hmeq.select_dtypes(include=['int','float'])\n",
    "print('Les variables quantitatives sont','\\n',hmeq_num.columns)\n",
    "hmeq_num.shape"
   ]
  },
  {
   "cell_type": "code",
   "execution_count": 18,
   "id": "6a75a494",
   "metadata": {},
   "outputs": [
    {
     "name": "stdout",
     "output_type": "stream",
     "text": [
      "Les variables qualitatives sont \n",
      " Index(['but', 'emploi'], dtype='object')\n"
     ]
    },
    {
     "data": {
      "text/plain": [
       "(5960, 2)"
      ]
     },
     "execution_count": 18,
     "metadata": {},
     "output_type": "execute_result"
    }
   ],
   "source": [
    "hmeq_cat=hmeq.select_dtypes(include='object')\n",
    "print('Les variables qualitatives sont','\\n',hmeq_cat.columns)\n",
    "hmeq_cat.shape"
   ]
  },
  {
   "cell_type": "code",
   "execution_count": 19,
   "id": "b14b1531",
   "metadata": {},
   "outputs": [
    {
     "name": "stdout",
     "output_type": "stream",
     "text": [
      "les variables sans données manquantes \n",
      " ['reponse', 'montant_pret']\n"
     ]
    }
   ],
   "source": [
    "####Séparer les variables selon les taux de valeurs manquantes\n",
    "varcat_imput=[] ###Les variables quali à imputer avec le mode\n",
    "##\n",
    "varnum_imput=[]  ###les variables num à imputer avec la médiance ou la moyenne\n",
    "varnum_KNN=[]    ###les variables num à imputer avec KNN\n",
    "\n",
    "var_ok=[]   ### variables sans valeurs manquantes\n",
    "\n",
    "for var in hmeq_cat.columns:\n",
    "    if (mis_prop[var]<=5) &  (mis_prop[var]>0):\n",
    "        varcat_imput.append(var)\n",
    "    elif (mis_prop[var]==0):\n",
    "        var_ok.append(var)\n",
    "for var in hmeq_num.columns:\n",
    "    if (mis_prop[var]<=5) &  (mis_prop[var]>0):\n",
    "        varnum_imput.append(var)\n",
    "    elif (mis_prop[var]>5):\n",
    "        varnum_KNN.append(var)\n",
    "    elif (mis_prop[var]==0):\n",
    "        var_ok.append(var)\n",
    "        \n",
    "print('les variables sans données manquantes','\\n',var_ok)"
   ]
  },
  {
   "cell_type": "markdown",
   "id": "acdf2be2",
   "metadata": {},
   "source": [
    "### Définition d'une nouvelle base de données"
   ]
  },
  {
   "cell_type": "code",
   "execution_count": 20,
   "id": "04e9ebfc",
   "metadata": {},
   "outputs": [
    {
     "data": {
      "text/html": [
       "<div>\n",
       "<style scoped>\n",
       "    .dataframe tbody tr th:only-of-type {\n",
       "        vertical-align: middle;\n",
       "    }\n",
       "\n",
       "    .dataframe tbody tr th {\n",
       "        vertical-align: top;\n",
       "    }\n",
       "\n",
       "    .dataframe thead th {\n",
       "        text-align: right;\n",
       "    }\n",
       "</style>\n",
       "<table border=\"1\" class=\"dataframe\">\n",
       "  <thead>\n",
       "    <tr style=\"text-align: right;\">\n",
       "      <th></th>\n",
       "      <th>reponse</th>\n",
       "      <th>montant_pret</th>\n",
       "    </tr>\n",
       "  </thead>\n",
       "  <tbody>\n",
       "    <tr>\n",
       "      <th>0</th>\n",
       "      <td>1</td>\n",
       "      <td>1100</td>\n",
       "    </tr>\n",
       "    <tr>\n",
       "      <th>1</th>\n",
       "      <td>1</td>\n",
       "      <td>1300</td>\n",
       "    </tr>\n",
       "    <tr>\n",
       "      <th>2</th>\n",
       "      <td>1</td>\n",
       "      <td>1500</td>\n",
       "    </tr>\n",
       "    <tr>\n",
       "      <th>3</th>\n",
       "      <td>1</td>\n",
       "      <td>1500</td>\n",
       "    </tr>\n",
       "    <tr>\n",
       "      <th>4</th>\n",
       "      <td>0</td>\n",
       "      <td>1700</td>\n",
       "    </tr>\n",
       "  </tbody>\n",
       "</table>\n",
       "</div>"
      ],
      "text/plain": [
       "   reponse  montant_pret\n",
       "0        1          1100\n",
       "1        1          1300\n",
       "2        1          1500\n",
       "3        1          1500\n",
       "4        0          1700"
      ]
     },
     "execution_count": 20,
     "metadata": {},
     "output_type": "execute_result"
    }
   ],
   "source": [
    "hmeq_new=pd.DataFrame({})\n",
    "for var in var_ok:\n",
    "    hmeq_new[var]=hmeq[var]\n",
    "    \n",
    "hmeq_new.head(5)"
   ]
  },
  {
   "cell_type": "markdown",
   "id": "692eca84",
   "metadata": {},
   "source": [
    "### Imputation par la médiane"
   ]
  },
  {
   "cell_type": "code",
   "execution_count": 21,
   "id": "29372f8e",
   "metadata": {},
   "outputs": [
    {
     "name": "stdout",
     "output_type": "stream",
     "text": [
      "<class 'pandas.core.frame.DataFrame'>\n",
      "RangeIndex: 5960 entries, 0 to 5959\n",
      "Data columns (total 4 columns):\n",
      " #   Column        Non-Null Count  Dtype  \n",
      "---  ------        --------------  -----  \n",
      " 0   reponse       5960 non-null   int64  \n",
      " 1   montant_pret  5960 non-null   int64  \n",
      " 2   valeur_prop   5960 non-null   float64\n",
      " 3   nbre_credit   5960 non-null   float64\n",
      "dtypes: float64(2), int64(2)\n",
      "memory usage: 186.4 KB\n"
     ]
    }
   ],
   "source": [
    "for var in varnum_imput:\n",
    "    Med=hmeq[var].median()\n",
    "    hmeq_new[var]=hmeq[var].fillna(Med)\n",
    "\n",
    "hmeq_new.info()"
   ]
  },
  {
   "cell_type": "code",
   "execution_count": 22,
   "id": "79873bfc",
   "metadata": {},
   "outputs": [
    {
     "data": {
      "text/html": [
       "<div>\n",
       "<style scoped>\n",
       "    .dataframe tbody tr th:only-of-type {\n",
       "        vertical-align: middle;\n",
       "    }\n",
       "\n",
       "    .dataframe tbody tr th {\n",
       "        vertical-align: top;\n",
       "    }\n",
       "\n",
       "    .dataframe thead th {\n",
       "        text-align: right;\n",
       "    }\n",
       "</style>\n",
       "<table border=\"1\" class=\"dataframe\">\n",
       "  <thead>\n",
       "    <tr style=\"text-align: right;\">\n",
       "      <th></th>\n",
       "      <th>reponse</th>\n",
       "      <th>montant_pret</th>\n",
       "      <th>valeur_prop</th>\n",
       "      <th>nbre_credit</th>\n",
       "    </tr>\n",
       "  </thead>\n",
       "  <tbody>\n",
       "    <tr>\n",
       "      <th>0</th>\n",
       "      <td>1</td>\n",
       "      <td>1100</td>\n",
       "      <td>39025.0</td>\n",
       "      <td>9.0</td>\n",
       "    </tr>\n",
       "    <tr>\n",
       "      <th>1</th>\n",
       "      <td>1</td>\n",
       "      <td>1300</td>\n",
       "      <td>68400.0</td>\n",
       "      <td>14.0</td>\n",
       "    </tr>\n",
       "    <tr>\n",
       "      <th>2</th>\n",
       "      <td>1</td>\n",
       "      <td>1500</td>\n",
       "      <td>16700.0</td>\n",
       "      <td>10.0</td>\n",
       "    </tr>\n",
       "    <tr>\n",
       "      <th>3</th>\n",
       "      <td>1</td>\n",
       "      <td>1500</td>\n",
       "      <td>89235.5</td>\n",
       "      <td>20.0</td>\n",
       "    </tr>\n",
       "    <tr>\n",
       "      <th>4</th>\n",
       "      <td>0</td>\n",
       "      <td>1700</td>\n",
       "      <td>112000.0</td>\n",
       "      <td>14.0</td>\n",
       "    </tr>\n",
       "  </tbody>\n",
       "</table>\n",
       "</div>"
      ],
      "text/plain": [
       "   reponse  montant_pret  valeur_prop  nbre_credit\n",
       "0        1          1100      39025.0          9.0\n",
       "1        1          1300      68400.0         14.0\n",
       "2        1          1500      16700.0         10.0\n",
       "3        1          1500      89235.5         20.0\n",
       "4        0          1700     112000.0         14.0"
      ]
     },
     "execution_count": 22,
     "metadata": {},
     "output_type": "execute_result"
    }
   ],
   "source": [
    "hmeq_new.head(5)"
   ]
  },
  {
   "cell_type": "markdown",
   "id": "ddbd8c6e",
   "metadata": {},
   "source": [
    "### Imputation par le mode"
   ]
  },
  {
   "cell_type": "code",
   "execution_count": 23,
   "id": "51f4945d",
   "metadata": {},
   "outputs": [
    {
     "data": {
      "text/html": [
       "<div>\n",
       "<style scoped>\n",
       "    .dataframe tbody tr th:only-of-type {\n",
       "        vertical-align: middle;\n",
       "    }\n",
       "\n",
       "    .dataframe tbody tr th {\n",
       "        vertical-align: top;\n",
       "    }\n",
       "\n",
       "    .dataframe thead th {\n",
       "        text-align: right;\n",
       "    }\n",
       "</style>\n",
       "<table border=\"1\" class=\"dataframe\">\n",
       "  <thead>\n",
       "    <tr style=\"text-align: right;\">\n",
       "      <th></th>\n",
       "      <th>reponse</th>\n",
       "      <th>montant_pret</th>\n",
       "      <th>valeur_prop</th>\n",
       "      <th>nbre_credit</th>\n",
       "      <th>but</th>\n",
       "      <th>emploi</th>\n",
       "    </tr>\n",
       "  </thead>\n",
       "  <tbody>\n",
       "    <tr>\n",
       "      <th>0</th>\n",
       "      <td>1</td>\n",
       "      <td>1100</td>\n",
       "      <td>39025.0</td>\n",
       "      <td>9.0</td>\n",
       "      <td>HomeImp</td>\n",
       "      <td>Other</td>\n",
       "    </tr>\n",
       "    <tr>\n",
       "      <th>1</th>\n",
       "      <td>1</td>\n",
       "      <td>1300</td>\n",
       "      <td>68400.0</td>\n",
       "      <td>14.0</td>\n",
       "      <td>HomeImp</td>\n",
       "      <td>Other</td>\n",
       "    </tr>\n",
       "    <tr>\n",
       "      <th>2</th>\n",
       "      <td>1</td>\n",
       "      <td>1500</td>\n",
       "      <td>16700.0</td>\n",
       "      <td>10.0</td>\n",
       "      <td>HomeImp</td>\n",
       "      <td>Other</td>\n",
       "    </tr>\n",
       "    <tr>\n",
       "      <th>3</th>\n",
       "      <td>1</td>\n",
       "      <td>1500</td>\n",
       "      <td>89235.5</td>\n",
       "      <td>20.0</td>\n",
       "      <td>DebtCon</td>\n",
       "      <td>Other</td>\n",
       "    </tr>\n",
       "    <tr>\n",
       "      <th>4</th>\n",
       "      <td>0</td>\n",
       "      <td>1700</td>\n",
       "      <td>112000.0</td>\n",
       "      <td>14.0</td>\n",
       "      <td>HomeImp</td>\n",
       "      <td>Office</td>\n",
       "    </tr>\n",
       "  </tbody>\n",
       "</table>\n",
       "</div>"
      ],
      "text/plain": [
       "   reponse  montant_pret  valeur_prop  nbre_credit      but  emploi\n",
       "0        1          1100      39025.0          9.0  HomeImp   Other\n",
       "1        1          1300      68400.0         14.0  HomeImp   Other\n",
       "2        1          1500      16700.0         10.0  HomeImp   Other\n",
       "3        1          1500      89235.5         20.0  DebtCon   Other\n",
       "4        0          1700     112000.0         14.0  HomeImp  Office"
      ]
     },
     "execution_count": 23,
     "metadata": {},
     "output_type": "execute_result"
    }
   ],
   "source": [
    "from statistics import mode\n",
    "for var in varcat_imput:\n",
    "    Mode=mode(hmeq[var])\n",
    "    hmeq_new[var]=hmeq[var].fillna(Mode)\n",
    "\n",
    "hmeq_new.head(5)"
   ]
  },
  {
   "cell_type": "markdown",
   "id": "384ed250",
   "metadata": {},
   "source": [
    "### Imputation par la méthode $\\textbf{KNN}$ ($K$ proches voisins)"
   ]
  },
  {
   "cell_type": "markdown",
   "id": "bae8e12c",
   "metadata": {},
   "source": [
    "les $k$ individus qui ressemblent à l'individus ayant la valeur manquante. Les valeurs utilisées seront les médianes ou les moyennes des k individus"
   ]
  },
  {
   "cell_type": "code",
   "execution_count": 24,
   "id": "0ef8956b",
   "metadata": {},
   "outputs": [],
   "source": [
    "from sklearn.impute import KNNImputer"
   ]
  },
  {
   "cell_type": "code",
   "execution_count": 25,
   "id": "2ffa68b4",
   "metadata": {
    "scrolled": true
   },
   "outputs": [],
   "source": [
    "imputer= KNNImputer(n_neighbors=3)\n",
    "####\n",
    "for var in varnum_KNN:\n",
    "    hmeq_new[var]=imputer.fit_transform(np.array(hmeq[var]).reshape(-1, 1))\n"
   ]
  },
  {
   "cell_type": "code",
   "execution_count": 26,
   "id": "f3660cdf",
   "metadata": {},
   "outputs": [
    {
     "data": {
      "text/html": [
       "<div>\n",
       "<style scoped>\n",
       "    .dataframe tbody tr th:only-of-type {\n",
       "        vertical-align: middle;\n",
       "    }\n",
       "\n",
       "    .dataframe tbody tr th {\n",
       "        vertical-align: top;\n",
       "    }\n",
       "\n",
       "    .dataframe thead th {\n",
       "        text-align: right;\n",
       "    }\n",
       "</style>\n",
       "<table border=\"1\" class=\"dataframe\">\n",
       "  <thead>\n",
       "    <tr style=\"text-align: right;\">\n",
       "      <th></th>\n",
       "      <th>reponse</th>\n",
       "      <th>montant_pret</th>\n",
       "      <th>valeur_prop</th>\n",
       "      <th>nbre_credit</th>\n",
       "      <th>but</th>\n",
       "      <th>emploi</th>\n",
       "      <th>hypo</th>\n",
       "      <th>annee_emploi</th>\n",
       "      <th>signal</th>\n",
       "      <th>cred_souffre</th>\n",
       "      <th>age_cred</th>\n",
       "      <th>nbre_demande</th>\n",
       "      <th>dette_rev</th>\n",
       "    </tr>\n",
       "  </thead>\n",
       "  <tbody>\n",
       "    <tr>\n",
       "      <th>0</th>\n",
       "      <td>1</td>\n",
       "      <td>1100</td>\n",
       "      <td>39025.0</td>\n",
       "      <td>9.0</td>\n",
       "      <td>HomeImp</td>\n",
       "      <td>Other</td>\n",
       "      <td>25860.0000</td>\n",
       "      <td>10.500000</td>\n",
       "      <td>0.00000</td>\n",
       "      <td>0.000000</td>\n",
       "      <td>94.366667</td>\n",
       "      <td>1.000000</td>\n",
       "      <td>33.779915</td>\n",
       "    </tr>\n",
       "    <tr>\n",
       "      <th>1</th>\n",
       "      <td>1</td>\n",
       "      <td>1300</td>\n",
       "      <td>68400.0</td>\n",
       "      <td>14.0</td>\n",
       "      <td>HomeImp</td>\n",
       "      <td>Other</td>\n",
       "      <td>70053.0000</td>\n",
       "      <td>7.000000</td>\n",
       "      <td>0.00000</td>\n",
       "      <td>2.000000</td>\n",
       "      <td>121.833333</td>\n",
       "      <td>0.000000</td>\n",
       "      <td>33.779915</td>\n",
       "    </tr>\n",
       "    <tr>\n",
       "      <th>2</th>\n",
       "      <td>1</td>\n",
       "      <td>1500</td>\n",
       "      <td>16700.0</td>\n",
       "      <td>10.0</td>\n",
       "      <td>HomeImp</td>\n",
       "      <td>Other</td>\n",
       "      <td>13500.0000</td>\n",
       "      <td>4.000000</td>\n",
       "      <td>0.00000</td>\n",
       "      <td>0.000000</td>\n",
       "      <td>149.466667</td>\n",
       "      <td>1.000000</td>\n",
       "      <td>33.779915</td>\n",
       "    </tr>\n",
       "    <tr>\n",
       "      <th>3</th>\n",
       "      <td>1</td>\n",
       "      <td>1500</td>\n",
       "      <td>89235.5</td>\n",
       "      <td>20.0</td>\n",
       "      <td>DebtCon</td>\n",
       "      <td>Other</td>\n",
       "      <td>73760.8172</td>\n",
       "      <td>8.922268</td>\n",
       "      <td>0.25457</td>\n",
       "      <td>0.449442</td>\n",
       "      <td>179.766275</td>\n",
       "      <td>1.186055</td>\n",
       "      <td>33.779915</td>\n",
       "    </tr>\n",
       "    <tr>\n",
       "      <th>4</th>\n",
       "      <td>0</td>\n",
       "      <td>1700</td>\n",
       "      <td>112000.0</td>\n",
       "      <td>14.0</td>\n",
       "      <td>HomeImp</td>\n",
       "      <td>Office</td>\n",
       "      <td>97800.0000</td>\n",
       "      <td>3.000000</td>\n",
       "      <td>0.00000</td>\n",
       "      <td>0.000000</td>\n",
       "      <td>93.333333</td>\n",
       "      <td>0.000000</td>\n",
       "      <td>33.779915</td>\n",
       "    </tr>\n",
       "  </tbody>\n",
       "</table>\n",
       "</div>"
      ],
      "text/plain": [
       "   reponse  montant_pret  valeur_prop  nbre_credit      but  emploi  \\\n",
       "0        1          1100      39025.0          9.0  HomeImp   Other   \n",
       "1        1          1300      68400.0         14.0  HomeImp   Other   \n",
       "2        1          1500      16700.0         10.0  HomeImp   Other   \n",
       "3        1          1500      89235.5         20.0  DebtCon   Other   \n",
       "4        0          1700     112000.0         14.0  HomeImp  Office   \n",
       "\n",
       "         hypo  annee_emploi   signal  cred_souffre    age_cred  nbre_demande  \\\n",
       "0  25860.0000     10.500000  0.00000      0.000000   94.366667      1.000000   \n",
       "1  70053.0000      7.000000  0.00000      2.000000  121.833333      0.000000   \n",
       "2  13500.0000      4.000000  0.00000      0.000000  149.466667      1.000000   \n",
       "3  73760.8172      8.922268  0.25457      0.449442  179.766275      1.186055   \n",
       "4  97800.0000      3.000000  0.00000      0.000000   93.333333      0.000000   \n",
       "\n",
       "   dette_rev  \n",
       "0  33.779915  \n",
       "1  33.779915  \n",
       "2  33.779915  \n",
       "3  33.779915  \n",
       "4  33.779915  "
      ]
     },
     "execution_count": 26,
     "metadata": {},
     "output_type": "execute_result"
    }
   ],
   "source": [
    "hmeq_new.head(5)"
   ]
  },
  {
   "cell_type": "code",
   "execution_count": 27,
   "id": "8da14ef1",
   "metadata": {},
   "outputs": [
    {
     "data": {
      "text/plain": [
       "(5960, 13)"
      ]
     },
     "execution_count": 27,
     "metadata": {},
     "output_type": "execute_result"
    }
   ],
   "source": [
    "hmeq_new.shape"
   ]
  },
  {
   "cell_type": "markdown",
   "id": "e8d8b7d6",
   "metadata": {},
   "source": [
    "### Vérification"
   ]
  },
  {
   "cell_type": "code",
   "execution_count": 28,
   "id": "70a68222",
   "metadata": {
    "scrolled": true
   },
   "outputs": [
    {
     "data": {
      "text/plain": [
       "reponse         0\n",
       "montant_pret    0\n",
       "valeur_prop     0\n",
       "nbre_credit     0\n",
       "but             0\n",
       "emploi          0\n",
       "hypo            0\n",
       "annee_emploi    0\n",
       "signal          0\n",
       "cred_souffre    0\n",
       "age_cred        0\n",
       "nbre_demande    0\n",
       "dette_rev       0\n",
       "dtype: int64"
      ]
     },
     "execution_count": 28,
     "metadata": {},
     "output_type": "execute_result"
    }
   ],
   "source": [
    "hmeq_new.isna().sum()"
   ]
  },
  {
   "cell_type": "code",
   "execution_count": 29,
   "id": "7eabe330",
   "metadata": {},
   "outputs": [
    {
     "data": {
      "text/plain": [
       "reponse            0\n",
       "montant_pret       0\n",
       "hypo             518\n",
       "valeur_prop      112\n",
       "but              252\n",
       "emploi           279\n",
       "annee_emploi     515\n",
       "signal           708\n",
       "cred_souffre     580\n",
       "age_cred         308\n",
       "nbre_demande     510\n",
       "nbre_credit      222\n",
       "dette_rev       1267\n",
       "dtype: int64"
      ]
     },
     "execution_count": 29,
     "metadata": {},
     "output_type": "execute_result"
    }
   ],
   "source": [
    "hmeq.isna().sum()"
   ]
  },
  {
   "cell_type": "markdown",
   "id": "4354ad78",
   "metadata": {},
   "source": [
    "### Imputation itérative par la régression linéaire"
   ]
  },
  {
   "cell_type": "code",
   "execution_count": 30,
   "id": "840ac906",
   "metadata": {},
   "outputs": [],
   "source": [
    "from sklearn.experimental import enable_iterative_imputer\n",
    "from sklearn.impute import IterativeImputer"
   ]
  },
  {
   "cell_type": "code",
   "execution_count": 31,
   "id": "0ed6803f",
   "metadata": {},
   "outputs": [],
   "source": [
    "###Imputer par la moyenne\n",
    "hmeq_iter=pd.DataFrame({})\n",
    "imp_iter = IterativeImputer(max_iter=10,random_state=0,sample_posterior=True)\n",
    "hmeq_iter=pd.DataFrame(imp_iter.fit_transform(hmeq[hmeq_num.columns[2:]]),\\\n",
    "                      columns=['hypo','valeur_prop','annee_emploi',\\\n",
    "                               'signal','cred_souffre','age_cred','nbre_demande','nbre_credit',\\\n",
    "                               'dette_rev'])"
   ]
  },
  {
   "cell_type": "code",
   "execution_count": 32,
   "id": "5c6354cc",
   "metadata": {},
   "outputs": [
    {
     "name": "stdout",
     "output_type": "stream",
     "text": [
      "(5960, 9)\n"
     ]
    },
    {
     "data": {
      "text/html": [
       "<div>\n",
       "<style scoped>\n",
       "    .dataframe tbody tr th:only-of-type {\n",
       "        vertical-align: middle;\n",
       "    }\n",
       "\n",
       "    .dataframe tbody tr th {\n",
       "        vertical-align: top;\n",
       "    }\n",
       "\n",
       "    .dataframe thead th {\n",
       "        text-align: right;\n",
       "    }\n",
       "</style>\n",
       "<table border=\"1\" class=\"dataframe\">\n",
       "  <thead>\n",
       "    <tr style=\"text-align: right;\">\n",
       "      <th></th>\n",
       "      <th>hypo</th>\n",
       "      <th>valeur_prop</th>\n",
       "      <th>annee_emploi</th>\n",
       "      <th>signal</th>\n",
       "      <th>cred_souffre</th>\n",
       "      <th>age_cred</th>\n",
       "      <th>nbre_demande</th>\n",
       "      <th>nbre_credit</th>\n",
       "      <th>dette_rev</th>\n",
       "    </tr>\n",
       "  </thead>\n",
       "  <tbody>\n",
       "    <tr>\n",
       "      <th>0</th>\n",
       "      <td>25860.000000</td>\n",
       "      <td>39025.000000</td>\n",
       "      <td>10.500000</td>\n",
       "      <td>0.000000</td>\n",
       "      <td>0.00000</td>\n",
       "      <td>94.366667</td>\n",
       "      <td>1.000000</td>\n",
       "      <td>9.000000</td>\n",
       "      <td>20.720087</td>\n",
       "    </tr>\n",
       "    <tr>\n",
       "      <th>1</th>\n",
       "      <td>70053.000000</td>\n",
       "      <td>68400.000000</td>\n",
       "      <td>7.000000</td>\n",
       "      <td>0.000000</td>\n",
       "      <td>2.00000</td>\n",
       "      <td>121.833333</td>\n",
       "      <td>0.000000</td>\n",
       "      <td>14.000000</td>\n",
       "      <td>27.266804</td>\n",
       "    </tr>\n",
       "    <tr>\n",
       "      <th>2</th>\n",
       "      <td>13500.000000</td>\n",
       "      <td>16700.000000</td>\n",
       "      <td>4.000000</td>\n",
       "      <td>0.000000</td>\n",
       "      <td>0.00000</td>\n",
       "      <td>149.466667</td>\n",
       "      <td>1.000000</td>\n",
       "      <td>10.000000</td>\n",
       "      <td>20.729699</td>\n",
       "    </tr>\n",
       "    <tr>\n",
       "      <th>3</th>\n",
       "      <td>58005.142508</td>\n",
       "      <td>53043.216813</td>\n",
       "      <td>4.208101</td>\n",
       "      <td>-0.578696</td>\n",
       "      <td>-0.06551</td>\n",
       "      <td>196.184985</td>\n",
       "      <td>-1.747602</td>\n",
       "      <td>30.038724</td>\n",
       "      <td>33.400399</td>\n",
       "    </tr>\n",
       "    <tr>\n",
       "      <th>4</th>\n",
       "      <td>97800.000000</td>\n",
       "      <td>112000.000000</td>\n",
       "      <td>3.000000</td>\n",
       "      <td>0.000000</td>\n",
       "      <td>0.00000</td>\n",
       "      <td>93.333333</td>\n",
       "      <td>0.000000</td>\n",
       "      <td>14.000000</td>\n",
       "      <td>30.185521</td>\n",
       "    </tr>\n",
       "  </tbody>\n",
       "</table>\n",
       "</div>"
      ],
      "text/plain": [
       "           hypo    valeur_prop  annee_emploi    signal  cred_souffre  \\\n",
       "0  25860.000000   39025.000000     10.500000  0.000000       0.00000   \n",
       "1  70053.000000   68400.000000      7.000000  0.000000       2.00000   \n",
       "2  13500.000000   16700.000000      4.000000  0.000000       0.00000   \n",
       "3  58005.142508   53043.216813      4.208101 -0.578696      -0.06551   \n",
       "4  97800.000000  112000.000000      3.000000  0.000000       0.00000   \n",
       "\n",
       "     age_cred  nbre_demande  nbre_credit  dette_rev  \n",
       "0   94.366667      1.000000     9.000000  20.720087  \n",
       "1  121.833333      0.000000    14.000000  27.266804  \n",
       "2  149.466667      1.000000    10.000000  20.729699  \n",
       "3  196.184985     -1.747602    30.038724  33.400399  \n",
       "4   93.333333      0.000000    14.000000  30.185521  "
      ]
     },
     "execution_count": 32,
     "metadata": {},
     "output_type": "execute_result"
    }
   ],
   "source": [
    "print(hmeq_iter.shape)\n",
    "hmeq_iter.head(5)"
   ]
  },
  {
   "cell_type": "code",
   "execution_count": 33,
   "id": "37b027ac",
   "metadata": {},
   "outputs": [
    {
     "name": "stdout",
     "output_type": "stream",
     "text": [
      "(5960, 12)\n"
     ]
    },
    {
     "data": {
      "text/html": [
       "<div>\n",
       "<style scoped>\n",
       "    .dataframe tbody tr th:only-of-type {\n",
       "        vertical-align: middle;\n",
       "    }\n",
       "\n",
       "    .dataframe tbody tr th {\n",
       "        vertical-align: top;\n",
       "    }\n",
       "\n",
       "    .dataframe thead th {\n",
       "        text-align: right;\n",
       "    }\n",
       "</style>\n",
       "<table border=\"1\" class=\"dataframe\">\n",
       "  <thead>\n",
       "    <tr style=\"text-align: right;\">\n",
       "      <th></th>\n",
       "      <th>hypo</th>\n",
       "      <th>valeur_prop</th>\n",
       "      <th>annee_emploi</th>\n",
       "      <th>signal</th>\n",
       "      <th>cred_souffre</th>\n",
       "      <th>age_cred</th>\n",
       "      <th>nbre_demande</th>\n",
       "      <th>nbre_credit</th>\n",
       "      <th>dette_rev</th>\n",
       "      <th>but</th>\n",
       "      <th>emploi</th>\n",
       "      <th>reponse</th>\n",
       "    </tr>\n",
       "  </thead>\n",
       "  <tbody>\n",
       "    <tr>\n",
       "      <th>0</th>\n",
       "      <td>25860.000000</td>\n",
       "      <td>39025.000000</td>\n",
       "      <td>10.500000</td>\n",
       "      <td>0.000000</td>\n",
       "      <td>0.00000</td>\n",
       "      <td>94.366667</td>\n",
       "      <td>1.000000</td>\n",
       "      <td>9.000000</td>\n",
       "      <td>20.720087</td>\n",
       "      <td>HomeImp</td>\n",
       "      <td>Other</td>\n",
       "      <td>1</td>\n",
       "    </tr>\n",
       "    <tr>\n",
       "      <th>1</th>\n",
       "      <td>70053.000000</td>\n",
       "      <td>68400.000000</td>\n",
       "      <td>7.000000</td>\n",
       "      <td>0.000000</td>\n",
       "      <td>2.00000</td>\n",
       "      <td>121.833333</td>\n",
       "      <td>0.000000</td>\n",
       "      <td>14.000000</td>\n",
       "      <td>27.266804</td>\n",
       "      <td>HomeImp</td>\n",
       "      <td>Other</td>\n",
       "      <td>1</td>\n",
       "    </tr>\n",
       "    <tr>\n",
       "      <th>2</th>\n",
       "      <td>13500.000000</td>\n",
       "      <td>16700.000000</td>\n",
       "      <td>4.000000</td>\n",
       "      <td>0.000000</td>\n",
       "      <td>0.00000</td>\n",
       "      <td>149.466667</td>\n",
       "      <td>1.000000</td>\n",
       "      <td>10.000000</td>\n",
       "      <td>20.729699</td>\n",
       "      <td>HomeImp</td>\n",
       "      <td>Other</td>\n",
       "      <td>1</td>\n",
       "    </tr>\n",
       "    <tr>\n",
       "      <th>3</th>\n",
       "      <td>58005.142508</td>\n",
       "      <td>53043.216813</td>\n",
       "      <td>4.208101</td>\n",
       "      <td>-0.578696</td>\n",
       "      <td>-0.06551</td>\n",
       "      <td>196.184985</td>\n",
       "      <td>-1.747602</td>\n",
       "      <td>30.038724</td>\n",
       "      <td>33.400399</td>\n",
       "      <td>DebtCon</td>\n",
       "      <td>Other</td>\n",
       "      <td>1</td>\n",
       "    </tr>\n",
       "    <tr>\n",
       "      <th>4</th>\n",
       "      <td>97800.000000</td>\n",
       "      <td>112000.000000</td>\n",
       "      <td>3.000000</td>\n",
       "      <td>0.000000</td>\n",
       "      <td>0.00000</td>\n",
       "      <td>93.333333</td>\n",
       "      <td>0.000000</td>\n",
       "      <td>14.000000</td>\n",
       "      <td>30.185521</td>\n",
       "      <td>HomeImp</td>\n",
       "      <td>Office</td>\n",
       "      <td>0</td>\n",
       "    </tr>\n",
       "  </tbody>\n",
       "</table>\n",
       "</div>"
      ],
      "text/plain": [
       "           hypo    valeur_prop  annee_emploi    signal  cred_souffre  \\\n",
       "0  25860.000000   39025.000000     10.500000  0.000000       0.00000   \n",
       "1  70053.000000   68400.000000      7.000000  0.000000       2.00000   \n",
       "2  13500.000000   16700.000000      4.000000  0.000000       0.00000   \n",
       "3  58005.142508   53043.216813      4.208101 -0.578696      -0.06551   \n",
       "4  97800.000000  112000.000000      3.000000  0.000000       0.00000   \n",
       "\n",
       "     age_cred  nbre_demande  nbre_credit  dette_rev      but  emploi  reponse  \n",
       "0   94.366667      1.000000     9.000000  20.720087  HomeImp   Other        1  \n",
       "1  121.833333      0.000000    14.000000  27.266804  HomeImp   Other        1  \n",
       "2  149.466667      1.000000    10.000000  20.729699  HomeImp   Other        1  \n",
       "3  196.184985     -1.747602    30.038724  33.400399  DebtCon   Other        1  \n",
       "4   93.333333      0.000000    14.000000  30.185521  HomeImp  Office        0  "
      ]
     },
     "execution_count": 33,
     "metadata": {},
     "output_type": "execute_result"
    }
   ],
   "source": [
    "for var in hmeq_cat.columns:\n",
    "    Mode=mode(hmeq[var])\n",
    "    hmeq_iter[var]=hmeq[var].fillna(Mode)\n",
    "\n",
    "\n",
    "hmeq_iter['reponse']=hmeq['reponse']    \n",
    "print(hmeq_iter.shape)\n",
    "hmeq_iter.head(5)"
   ]
  },
  {
   "cell_type": "code",
   "execution_count": 34,
   "id": "9082d44c",
   "metadata": {},
   "outputs": [
    {
     "data": {
      "text/html": [
       "<div>\n",
       "<style scoped>\n",
       "    .dataframe tbody tr th:only-of-type {\n",
       "        vertical-align: middle;\n",
       "    }\n",
       "\n",
       "    .dataframe tbody tr th {\n",
       "        vertical-align: top;\n",
       "    }\n",
       "\n",
       "    .dataframe thead th {\n",
       "        text-align: right;\n",
       "    }\n",
       "</style>\n",
       "<table border=\"1\" class=\"dataframe\">\n",
       "  <thead>\n",
       "    <tr style=\"text-align: right;\">\n",
       "      <th></th>\n",
       "      <th>reponse</th>\n",
       "      <th>montant_pret</th>\n",
       "      <th>valeur_prop</th>\n",
       "      <th>nbre_credit</th>\n",
       "      <th>hypo</th>\n",
       "      <th>annee_emploi</th>\n",
       "      <th>signal</th>\n",
       "      <th>cred_souffre</th>\n",
       "      <th>age_cred</th>\n",
       "      <th>nbre_demande</th>\n",
       "      <th>dette_rev</th>\n",
       "    </tr>\n",
       "  </thead>\n",
       "  <tbody>\n",
       "    <tr>\n",
       "      <th>count</th>\n",
       "      <td>5960.000000</td>\n",
       "      <td>5960.000000</td>\n",
       "      <td>5960.000000</td>\n",
       "      <td>5960.000000</td>\n",
       "      <td>5960.000000</td>\n",
       "      <td>5960.000000</td>\n",
       "      <td>5960.000000</td>\n",
       "      <td>5960.000000</td>\n",
       "      <td>5960.000000</td>\n",
       "      <td>5960.000000</td>\n",
       "      <td>5960.000000</td>\n",
       "    </tr>\n",
       "    <tr>\n",
       "      <th>mean</th>\n",
       "      <td>0.199497</td>\n",
       "      <td>18607.969799</td>\n",
       "      <td>101540.387423</td>\n",
       "      <td>21.247819</td>\n",
       "      <td>73760.817200</td>\n",
       "      <td>8.922268</td>\n",
       "      <td>0.254570</td>\n",
       "      <td>0.449442</td>\n",
       "      <td>179.766275</td>\n",
       "      <td>1.186055</td>\n",
       "      <td>33.779915</td>\n",
       "    </tr>\n",
       "    <tr>\n",
       "      <th>std</th>\n",
       "      <td>0.399656</td>\n",
       "      <td>11207.480417</td>\n",
       "      <td>56869.436682</td>\n",
       "      <td>9.951308</td>\n",
       "      <td>42481.395689</td>\n",
       "      <td>7.239301</td>\n",
       "      <td>0.794198</td>\n",
       "      <td>1.071002</td>\n",
       "      <td>83.563059</td>\n",
       "      <td>1.653046</td>\n",
       "      <td>7.632713</td>\n",
       "    </tr>\n",
       "    <tr>\n",
       "      <th>min</th>\n",
       "      <td>0.000000</td>\n",
       "      <td>1100.000000</td>\n",
       "      <td>8000.000000</td>\n",
       "      <td>0.000000</td>\n",
       "      <td>2063.000000</td>\n",
       "      <td>0.000000</td>\n",
       "      <td>0.000000</td>\n",
       "      <td>0.000000</td>\n",
       "      <td>0.000000</td>\n",
       "      <td>0.000000</td>\n",
       "      <td>0.524499</td>\n",
       "    </tr>\n",
       "    <tr>\n",
       "      <th>25%</th>\n",
       "      <td>0.000000</td>\n",
       "      <td>11100.000000</td>\n",
       "      <td>66489.500000</td>\n",
       "      <td>15.000000</td>\n",
       "      <td>48139.000000</td>\n",
       "      <td>3.000000</td>\n",
       "      <td>0.000000</td>\n",
       "      <td>0.000000</td>\n",
       "      <td>117.371430</td>\n",
       "      <td>0.000000</td>\n",
       "      <td>30.763159</td>\n",
       "    </tr>\n",
       "    <tr>\n",
       "      <th>50%</th>\n",
       "      <td>0.000000</td>\n",
       "      <td>16300.000000</td>\n",
       "      <td>89235.500000</td>\n",
       "      <td>20.000000</td>\n",
       "      <td>69529.000000</td>\n",
       "      <td>8.000000</td>\n",
       "      <td>0.000000</td>\n",
       "      <td>0.000000</td>\n",
       "      <td>178.076005</td>\n",
       "      <td>1.000000</td>\n",
       "      <td>33.779915</td>\n",
       "    </tr>\n",
       "    <tr>\n",
       "      <th>75%</th>\n",
       "      <td>0.000000</td>\n",
       "      <td>23300.000000</td>\n",
       "      <td>119004.750000</td>\n",
       "      <td>26.000000</td>\n",
       "      <td>88200.250000</td>\n",
       "      <td>12.000000</td>\n",
       "      <td>0.000000</td>\n",
       "      <td>0.449442</td>\n",
       "      <td>227.143058</td>\n",
       "      <td>2.000000</td>\n",
       "      <td>37.949892</td>\n",
       "    </tr>\n",
       "    <tr>\n",
       "      <th>max</th>\n",
       "      <td>1.000000</td>\n",
       "      <td>89900.000000</td>\n",
       "      <td>855909.000000</td>\n",
       "      <td>71.000000</td>\n",
       "      <td>399550.000000</td>\n",
       "      <td>41.000000</td>\n",
       "      <td>10.000000</td>\n",
       "      <td>15.000000</td>\n",
       "      <td>1168.233561</td>\n",
       "      <td>17.000000</td>\n",
       "      <td>203.312149</td>\n",
       "    </tr>\n",
       "  </tbody>\n",
       "</table>\n",
       "</div>"
      ],
      "text/plain": [
       "           reponse  montant_pret    valeur_prop  nbre_credit           hypo  \\\n",
       "count  5960.000000   5960.000000    5960.000000  5960.000000    5960.000000   \n",
       "mean      0.199497  18607.969799  101540.387423    21.247819   73760.817200   \n",
       "std       0.399656  11207.480417   56869.436682     9.951308   42481.395689   \n",
       "min       0.000000   1100.000000    8000.000000     0.000000    2063.000000   \n",
       "25%       0.000000  11100.000000   66489.500000    15.000000   48139.000000   \n",
       "50%       0.000000  16300.000000   89235.500000    20.000000   69529.000000   \n",
       "75%       0.000000  23300.000000  119004.750000    26.000000   88200.250000   \n",
       "max       1.000000  89900.000000  855909.000000    71.000000  399550.000000   \n",
       "\n",
       "       annee_emploi       signal  cred_souffre     age_cred  nbre_demande  \\\n",
       "count   5960.000000  5960.000000   5960.000000  5960.000000   5960.000000   \n",
       "mean       8.922268     0.254570      0.449442   179.766275      1.186055   \n",
       "std        7.239301     0.794198      1.071002    83.563059      1.653046   \n",
       "min        0.000000     0.000000      0.000000     0.000000      0.000000   \n",
       "25%        3.000000     0.000000      0.000000   117.371430      0.000000   \n",
       "50%        8.000000     0.000000      0.000000   178.076005      1.000000   \n",
       "75%       12.000000     0.000000      0.449442   227.143058      2.000000   \n",
       "max       41.000000    10.000000     15.000000  1168.233561     17.000000   \n",
       "\n",
       "         dette_rev  \n",
       "count  5960.000000  \n",
       "mean     33.779915  \n",
       "std       7.632713  \n",
       "min       0.524499  \n",
       "25%      30.763159  \n",
       "50%      33.779915  \n",
       "75%      37.949892  \n",
       "max     203.312149  "
      ]
     },
     "execution_count": 34,
     "metadata": {},
     "output_type": "execute_result"
    }
   ],
   "source": [
    "### Analyse descriptive des deux nouvelles bases de données\n",
    "hmeq_new.describe()"
   ]
  },
  {
   "cell_type": "code",
   "execution_count": 35,
   "id": "27cdbc71",
   "metadata": {},
   "outputs": [
    {
     "data": {
      "text/html": [
       "<div>\n",
       "<style scoped>\n",
       "    .dataframe tbody tr th:only-of-type {\n",
       "        vertical-align: middle;\n",
       "    }\n",
       "\n",
       "    .dataframe tbody tr th {\n",
       "        vertical-align: top;\n",
       "    }\n",
       "\n",
       "    .dataframe thead th {\n",
       "        text-align: right;\n",
       "    }\n",
       "</style>\n",
       "<table border=\"1\" class=\"dataframe\">\n",
       "  <thead>\n",
       "    <tr style=\"text-align: right;\">\n",
       "      <th></th>\n",
       "      <th>hypo</th>\n",
       "      <th>valeur_prop</th>\n",
       "      <th>annee_emploi</th>\n",
       "      <th>signal</th>\n",
       "      <th>cred_souffre</th>\n",
       "      <th>age_cred</th>\n",
       "      <th>nbre_demande</th>\n",
       "      <th>nbre_credit</th>\n",
       "      <th>dette_rev</th>\n",
       "      <th>reponse</th>\n",
       "    </tr>\n",
       "  </thead>\n",
       "  <tbody>\n",
       "    <tr>\n",
       "      <th>count</th>\n",
       "      <td>5960.000000</td>\n",
       "      <td>5960.000000</td>\n",
       "      <td>5960.000000</td>\n",
       "      <td>5960.000000</td>\n",
       "      <td>5960.000000</td>\n",
       "      <td>5960.000000</td>\n",
       "      <td>5960.000000</td>\n",
       "      <td>5960.000000</td>\n",
       "      <td>5960.000000</td>\n",
       "      <td>5960.000000</td>\n",
       "    </tr>\n",
       "    <tr>\n",
       "      <th>mean</th>\n",
       "      <td>70945.645607</td>\n",
       "      <td>101722.904300</td>\n",
       "      <td>8.996700</td>\n",
       "      <td>0.266135</td>\n",
       "      <td>0.450076</td>\n",
       "      <td>179.027661</td>\n",
       "      <td>1.190385</td>\n",
       "      <td>21.238032</td>\n",
       "      <td>33.803768</td>\n",
       "      <td>0.199497</td>\n",
       "    </tr>\n",
       "    <tr>\n",
       "      <th>std</th>\n",
       "      <td>46669.459448</td>\n",
       "      <td>57579.813461</td>\n",
       "      <td>7.560230</td>\n",
       "      <td>0.850975</td>\n",
       "      <td>1.129200</td>\n",
       "      <td>86.030736</td>\n",
       "      <td>1.736072</td>\n",
       "      <td>10.129578</td>\n",
       "      <td>8.565878</td>\n",
       "      <td>0.399656</td>\n",
       "    </tr>\n",
       "    <tr>\n",
       "      <th>min</th>\n",
       "      <td>-52905.843433</td>\n",
       "      <td>-14907.871130</td>\n",
       "      <td>-12.645882</td>\n",
       "      <td>-2.498807</td>\n",
       "      <td>-3.215510</td>\n",
       "      <td>-54.154305</td>\n",
       "      <td>-3.590797</td>\n",
       "      <td>-5.883548</td>\n",
       "      <td>0.524499</td>\n",
       "      <td>0.000000</td>\n",
       "    </tr>\n",
       "    <tr>\n",
       "      <th>25%</th>\n",
       "      <td>43446.250000</td>\n",
       "      <td>65942.500000</td>\n",
       "      <td>3.000000</td>\n",
       "      <td>0.000000</td>\n",
       "      <td>0.000000</td>\n",
       "      <td>114.666667</td>\n",
       "      <td>0.000000</td>\n",
       "      <td>14.000000</td>\n",
       "      <td>28.833834</td>\n",
       "      <td>0.000000</td>\n",
       "    </tr>\n",
       "    <tr>\n",
       "      <th>50%</th>\n",
       "      <td>62798.500000</td>\n",
       "      <td>89183.000000</td>\n",
       "      <td>7.000000</td>\n",
       "      <td>0.000000</td>\n",
       "      <td>0.000000</td>\n",
       "      <td>172.832608</td>\n",
       "      <td>1.000000</td>\n",
       "      <td>20.000000</td>\n",
       "      <td>34.628590</td>\n",
       "      <td>0.000000</td>\n",
       "    </tr>\n",
       "    <tr>\n",
       "      <th>75%</th>\n",
       "      <td>89150.750000</td>\n",
       "      <td>120016.500000</td>\n",
       "      <td>13.000000</td>\n",
       "      <td>0.000000</td>\n",
       "      <td>0.469327</td>\n",
       "      <td>230.856686</td>\n",
       "      <td>2.000000</td>\n",
       "      <td>26.000000</td>\n",
       "      <td>39.082044</td>\n",
       "      <td>0.000000</td>\n",
       "    </tr>\n",
       "    <tr>\n",
       "      <th>max</th>\n",
       "      <td>616405.839440</td>\n",
       "      <td>855909.000000</td>\n",
       "      <td>41.000000</td>\n",
       "      <td>10.000000</td>\n",
       "      <td>15.000000</td>\n",
       "      <td>1168.233561</td>\n",
       "      <td>17.000000</td>\n",
       "      <td>71.000000</td>\n",
       "      <td>203.312149</td>\n",
       "      <td>1.000000</td>\n",
       "    </tr>\n",
       "  </tbody>\n",
       "</table>\n",
       "</div>"
      ],
      "text/plain": [
       "                hypo    valeur_prop  annee_emploi       signal  cred_souffre  \\\n",
       "count    5960.000000    5960.000000   5960.000000  5960.000000   5960.000000   \n",
       "mean    70945.645607  101722.904300      8.996700     0.266135      0.450076   \n",
       "std     46669.459448   57579.813461      7.560230     0.850975      1.129200   \n",
       "min    -52905.843433  -14907.871130    -12.645882    -2.498807     -3.215510   \n",
       "25%     43446.250000   65942.500000      3.000000     0.000000      0.000000   \n",
       "50%     62798.500000   89183.000000      7.000000     0.000000      0.000000   \n",
       "75%     89150.750000  120016.500000     13.000000     0.000000      0.469327   \n",
       "max    616405.839440  855909.000000     41.000000    10.000000     15.000000   \n",
       "\n",
       "          age_cred  nbre_demande  nbre_credit    dette_rev      reponse  \n",
       "count  5960.000000   5960.000000  5960.000000  5960.000000  5960.000000  \n",
       "mean    179.027661      1.190385    21.238032    33.803768     0.199497  \n",
       "std      86.030736      1.736072    10.129578     8.565878     0.399656  \n",
       "min     -54.154305     -3.590797    -5.883548     0.524499     0.000000  \n",
       "25%     114.666667      0.000000    14.000000    28.833834     0.000000  \n",
       "50%     172.832608      1.000000    20.000000    34.628590     0.000000  \n",
       "75%     230.856686      2.000000    26.000000    39.082044     0.000000  \n",
       "max    1168.233561     17.000000    71.000000   203.312149     1.000000  "
      ]
     },
     "execution_count": 35,
     "metadata": {},
     "output_type": "execute_result"
    }
   ],
   "source": [
    "hmeq_iter.describe()"
   ]
  },
  {
   "cell_type": "markdown",
   "id": "1a481cb5",
   "metadata": {},
   "source": [
    "# Détection des doublons"
   ]
  },
  {
   "cell_type": "code",
   "execution_count": 36,
   "id": "e69c377b",
   "metadata": {},
   "outputs": [
    {
     "data": {
      "text/html": [
       "<div>\n",
       "<style scoped>\n",
       "    .dataframe tbody tr th:only-of-type {\n",
       "        vertical-align: middle;\n",
       "    }\n",
       "\n",
       "    .dataframe tbody tr th {\n",
       "        vertical-align: top;\n",
       "    }\n",
       "\n",
       "    .dataframe thead th {\n",
       "        text-align: right;\n",
       "    }\n",
       "</style>\n",
       "<table border=\"1\" class=\"dataframe\">\n",
       "  <thead>\n",
       "    <tr style=\"text-align: right;\">\n",
       "      <th></th>\n",
       "      <th>reponse</th>\n",
       "      <th>montant_pret</th>\n",
       "      <th>valeur_prop</th>\n",
       "      <th>nbre_credit</th>\n",
       "      <th>but</th>\n",
       "      <th>emploi</th>\n",
       "      <th>hypo</th>\n",
       "      <th>annee_emploi</th>\n",
       "      <th>signal</th>\n",
       "      <th>cred_souffre</th>\n",
       "      <th>age_cred</th>\n",
       "      <th>nbre_demande</th>\n",
       "      <th>dette_rev</th>\n",
       "    </tr>\n",
       "  </thead>\n",
       "  <tbody>\n",
       "  </tbody>\n",
       "</table>\n",
       "</div>"
      ],
      "text/plain": [
       "Empty DataFrame\n",
       "Columns: [reponse, montant_pret, valeur_prop, nbre_credit, but, emploi, hypo, annee_emploi, signal, cred_souffre, age_cred, nbre_demande, dette_rev]\n",
       "Index: []"
      ]
     },
     "execution_count": 36,
     "metadata": {},
     "output_type": "execute_result"
    }
   ],
   "source": [
    "###Existence de doublons\n",
    "hmeq_new[hmeq_new.duplicated()==True]\n"
   ]
  },
  {
   "cell_type": "code",
   "execution_count": 37,
   "id": "ea5596ea",
   "metadata": {},
   "outputs": [
    {
     "data": {
      "text/plain": [
       "0"
      ]
     },
     "execution_count": 37,
     "metadata": {},
     "output_type": "execute_result"
    }
   ],
   "source": [
    "##Nombre de doublons\n",
    "len(hmeq_new)-len(hmeq_new.drop_duplicates())"
   ]
  },
  {
   "cell_type": "markdown",
   "id": "10177399",
   "metadata": {},
   "source": [
    "# Données aberrantes (Outlier) "
   ]
  },
  {
   "cell_type": "markdown",
   "id": "3cee42f2",
   "metadata": {},
   "source": [
    "### Représentation graphique (boxplots)"
   ]
  },
  {
   "cell_type": "code",
   "execution_count": 38,
   "id": "7aa3973b",
   "metadata": {},
   "outputs": [
    {
     "data": {
      "text/plain": [
       "(5960, 11)"
      ]
     },
     "execution_count": 38,
     "metadata": {},
     "output_type": "execute_result"
    }
   ],
   "source": [
    "hnew_num=hmeq_new.select_dtypes(include=['int','float'])\n",
    "hnew_num.shape"
   ]
  },
  {
   "cell_type": "code",
   "execution_count": 39,
   "id": "fd40b142",
   "metadata": {},
   "outputs": [],
   "source": [
    "#for var in var_num[1:]:\n",
    "#    plt.figure()\n",
    "#    plt.boxplot(x=hmeq_new[var],data=hmeq_new)\n",
    "#    plt.xlabel(var)\n",
    "#plt.show()"
   ]
  },
  {
   "cell_type": "code",
   "execution_count": 40,
   "id": "a0a450d9",
   "metadata": {},
   "outputs": [
    {
     "data": {
      "text/plain": [
       "<AxesSubplot:>"
      ]
     },
     "execution_count": 40,
     "metadata": {},
     "output_type": "execute_result"
    },
    {
     "data": {
      "image/png": "[encoded data removed]",
      "text/plain": [
       "<Figure size 1080x360 with 1 Axes>"
      ]
     },
     "metadata": {
      "needs_background": "light"
     },
     "output_type": "display_data"
    }
   ],
   "source": [
    "hnew_num.boxplot(figsize=(15,5))"
   ]
  },
  {
   "cell_type": "code",
   "execution_count": 41,
   "id": "4a398a9a",
   "metadata": {},
   "outputs": [
    {
     "data": {
      "text/plain": [
       "<AxesSubplot:>"
      ]
     },
     "execution_count": 41,
     "metadata": {},
     "output_type": "execute_result"
    },
    {
     "data": {
      "image/png": "[encoded data removed]",
      "text/plain": [
       "<Figure size 576x288 with 1 Axes>"
      ]
     },
     "metadata": {
      "needs_background": "light"
     },
     "output_type": "display_data"
    }
   ],
   "source": [
    "hnew_num[['montant_pret','valeur_prop','hypo']].boxplot(figsize=(8,4))"
   ]
  },
  {
   "cell_type": "markdown",
   "id": "e07a9bd9",
   "metadata": {},
   "source": [
    "### Récupérer les valeurs aberrantes et les analyser"
   ]
  },
  {
   "cell_type": "code",
   "execution_count": 42,
   "id": "0a9a9ae5",
   "metadata": {},
   "outputs": [],
   "source": [
    "#var_copy=var_num.copy()\n",
    "#var_copy.pop(0) \n",
    "#var_copy.pop(4) \n",
    "#var_copy.pop(4)\n",
    "\n",
    "###\n",
    "#Data_outlier=pd.DataFrame({})\n",
    "\n",
    "#for var in var_copy:\n",
    "#    Q1=hmeq_new[var].quantile(0.25)\n",
    "#    Q3=hmeq_new[var].quantile(0.75)\n",
    "#    IQR=Q3-Q1\n",
    "#    val_inf=Q1-1.5*IQR\n",
    "#    val_sup=Q3+1.5*IQR\n",
    "#    VAL=hmeq_new[var]\n",
    "#   print(var,': \\n', VAL[(VAL<val_inf)|(VAL>val_sup)])\n"
   ]
  },
  {
   "cell_type": "code",
   "execution_count": 43,
   "id": "f8cc8a05",
   "metadata": {},
   "outputs": [
    {
     "name": "stdout",
     "output_type": "stream",
     "text": [
      "montant_pret : \n",
      " 5704    41700\n",
      "5705    41700\n",
      "5706    41700\n",
      "5707    41700\n",
      "5708    41800\n",
      "        ...  \n",
      "5955    88900\n",
      "5956    89000\n",
      "5957    89200\n",
      "5958    89800\n",
      "5959    89900\n",
      "Name: montant_pret, Length: 256, dtype: int64\n",
      "valeur_prop : \n",
      " 140     245300.0\n",
      "194     251962.0\n",
      "291     250155.0\n",
      "326     200000.0\n",
      "345     245730.0\n",
      "          ...   \n",
      "5927    288512.0\n",
      "5928    292380.0\n",
      "5929    289430.0\n",
      "5933    215000.0\n",
      "5934    224630.0\n",
      "Name: valeur_prop, Length: 347, dtype: float64\n",
      "hypo : \n",
      " 140     170986.0\n",
      "194     179725.0\n",
      "291     172595.0\n",
      "326     179397.0\n",
      "345     171582.0\n",
      "          ...   \n",
      "5925    191972.0\n",
      "5926    197761.0\n",
      "5927    196690.0\n",
      "5928    192044.0\n",
      "5929    196601.0\n",
      "Name: hypo, Length: 308, dtype: float64\n"
     ]
    }
   ],
   "source": [
    "##Variables\n",
    "var_interest=['montant_pret','valeur_prop','hypo']\n",
    "\n",
    "Data_outlier=pd.DataFrame({})\n",
    "###\n",
    "for var in var_interest:\n",
    "    Q1=hmeq_new[var].quantile(0.25)\n",
    "    Q3=hmeq_new[var].quantile(0.75)\n",
    "    #\n",
    "    IQR=Q3-Q1\n",
    "    #\n",
    "    val_inf=Q1-1.5*IQR\n",
    "    val_sup=Q3+1.5*IQR\n",
    "    VAL=hmeq_new[var]\n",
    "    ##\n",
    "    print(var,': \\n', VAL[(VAL<val_inf)|(VAL>val_sup)])"
   ]
  },
  {
   "cell_type": "markdown",
   "id": "e11332a9",
   "metadata": {},
   "source": [
    "# Répartition des deux classes (probabilité à priori)"
   ]
  },
  {
   "cell_type": "code",
   "execution_count": 44,
   "id": "18c817f8",
   "metadata": {},
   "outputs": [
    {
     "data": {
      "image/png": "[encoded data removed]",
      "text/plain": [
       "<Figure size 432x288 with 1 Axes>"
      ]
     },
     "metadata": {},
     "output_type": "display_data"
    }
   ],
   "source": [
    "hmeq_new['reponse'].value_counts().plot(kind='pie',autopct='%1.1f%%')\n",
    "plt.show()"
   ]
  },
  {
   "cell_type": "markdown",
   "id": "3e8b6fda",
   "metadata": {},
   "source": [
    "# Corrélation entre les variables quantitatives"
   ]
  },
  {
   "cell_type": "markdown",
   "id": "2b45dffd",
   "metadata": {},
   "source": [
    "### Matrice de corrélation"
   ]
  },
  {
   "cell_type": "code",
   "execution_count": 45,
   "id": "bd661f14",
   "metadata": {},
   "outputs": [],
   "source": [
    "import seaborn as sns"
   ]
  },
  {
   "cell_type": "code",
   "execution_count": 46,
   "id": "54b4a4eb",
   "metadata": {},
   "outputs": [
    {
     "name": "stdout",
     "output_type": "stream",
     "text": [
      "               reponse  montant_pret      hypo  valeur_prop  annee_emploi  \\\n",
      "reponse       1.000000     -0.075099 -0.048219    -0.029954     -0.060238   \n",
      "montant_pret -0.075099      1.000000  0.228595     0.335393      0.105728   \n",
      "hypo         -0.048219      0.228595  1.000000     0.875666     -0.088480   \n",
      "valeur_prop  -0.029954      0.335393  0.875666     1.000000      0.007759   \n",
      "annee_emploi -0.060238      0.105728 -0.088480     0.007759      1.000000   \n",
      "signal        0.276081     -0.001302 -0.049516    -0.048689     -0.065879   \n",
      "cred_souffre  0.354107     -0.035144 -0.001044    -0.014103      0.038153   \n",
      "age_cred     -0.170499      0.088540  0.140047     0.171238      0.201718   \n",
      "nbre_demande  0.174980      0.044487  0.031392    -0.004398     -0.071627   \n",
      "nbre_credit  -0.004157      0.072631  0.323631     0.269149      0.024838   \n",
      "dette_rev     0.199835      0.084735  0.154939     0.132174     -0.055891   \n",
      "\n",
      "                signal  cred_souffre  age_cred  nbre_demande  nbre_credit  \\\n",
      "reponse       0.276081      0.354107 -0.170499      0.174980    -0.004157   \n",
      "montant_pret -0.001302     -0.035144  0.088540      0.044487     0.072631   \n",
      "hypo         -0.049516     -0.001044  0.140047      0.031392     0.323631   \n",
      "valeur_prop  -0.048689     -0.014103  0.171238     -0.004398     0.269149   \n",
      "annee_emploi -0.065879      0.038153  0.201718     -0.071627     0.024838   \n",
      "signal        1.000000      0.211832 -0.083047      0.173934     0.061884   \n",
      "cred_souffre  0.211832      1.000000  0.022488      0.067812     0.164639   \n",
      "age_cred     -0.083047      0.022488  1.000000     -0.116935     0.237987   \n",
      "nbre_demande  0.173934      0.067812 -0.116935      1.000000     0.088389   \n",
      "nbre_credit   0.061884      0.164639  0.237987      0.088389     1.000000   \n",
      "dette_rev     0.017065      0.052364 -0.046477      0.141344     0.185539   \n",
      "\n",
      "              dette_rev  \n",
      "reponse        0.199835  \n",
      "montant_pret   0.084735  \n",
      "hypo           0.154939  \n",
      "valeur_prop    0.132174  \n",
      "annee_emploi  -0.055891  \n",
      "signal         0.017065  \n",
      "cred_souffre   0.052364  \n",
      "age_cred      -0.046477  \n",
      "nbre_demande   0.141344  \n",
      "nbre_credit    0.185539  \n",
      "dette_rev      1.000000  \n"
     ]
    },
    {
     "data": {
      "image/png": "[encoded data removed]",
      "text/plain": [
       "<Figure size 432x288 with 2 Axes>"
      ]
     },
     "metadata": {
      "needs_background": "light"
     },
     "output_type": "display_data"
    }
   ],
   "source": [
    "###\n",
    "Mat_corr=hmeq_num.corr()\n",
    "print(Mat_corr)\n",
    "\n",
    "plt.figure()\n",
    "sns.heatmap(Mat_corr, cmap = 'coolwarm')\n",
    "plt.show()"
   ]
  },
  {
   "cell_type": "markdown",
   "id": "204fc82f",
   "metadata": {},
   "source": [
    "# Multicolinéarité entre les variables "
   ]
  },
  {
   "cell_type": "code",
   "execution_count": 47,
   "id": "55410c44",
   "metadata": {},
   "outputs": [],
   "source": [
    "from statsmodels.stats.outliers_influence import variance_inflation_factor "
   ]
  },
  {
   "cell_type": "code",
   "execution_count": 48,
   "id": "98306d89",
   "metadata": {},
   "outputs": [
    {
     "name": "stdout",
     "output_type": "stream",
     "text": [
      "Help on function variance_inflation_factor in module statsmodels.stats.outliers_influence:\n",
      "\n",
      "variance_inflation_factor(exog, exog_idx)\n",
      "    Variance inflation factor, VIF, for one exogenous variable\n",
      "    \n",
      "    The variance inflation factor is a measure for the increase of the\n",
      "    variance of the parameter estimates if an additional variable, given by\n",
      "    exog_idx is added to the linear regression. It is a measure for\n",
      "    multicollinearity of the design matrix, exog.\n",
      "    \n",
      "    One recommendation is that if VIF is greater than 5, then the explanatory\n",
      "    variable given by exog_idx is highly collinear with the other explanatory\n",
      "    variables, and the parameter estimates will have large standard errors\n",
      "    because of this.\n",
      "    \n",
      "    Parameters\n",
      "    ----------\n",
      "    exog : {ndarray, DataFrame}\n",
      "        design matrix with all explanatory variables, as for example used in\n",
      "        regression\n",
      "    exog_idx : int\n",
      "        index of the exogenous variable in the columns of exog\n",
      "    \n",
      "    Returns\n",
      "    -------\n",
      "    float\n",
      "        variance inflation factor\n",
      "    \n",
      "    Notes\n",
      "    -----\n",
      "    This function does not save the auxiliary regression.\n",
      "    \n",
      "    See Also\n",
      "    --------\n",
      "    xxx : class for regression diagnostics  TODO: does not exist yet\n",
      "    \n",
      "    References\n",
      "    ----------\n",
      "    https://en.wikipedia.org/wiki/Variance_inflation_factor\n",
      "\n"
     ]
    }
   ],
   "source": [
    "help(variance_inflation_factor)"
   ]
  },
  {
   "cell_type": "code",
   "execution_count": 49,
   "id": "20706650",
   "metadata": {},
   "outputs": [
    {
     "data": {
      "text/html": [
       "<div>\n",
       "<style scoped>\n",
       "    .dataframe tbody tr th:only-of-type {\n",
       "        vertical-align: middle;\n",
       "    }\n",
       "\n",
       "    .dataframe tbody tr th {\n",
       "        vertical-align: top;\n",
       "    }\n",
       "\n",
       "    .dataframe thead th {\n",
       "        text-align: right;\n",
       "    }\n",
       "</style>\n",
       "<table border=\"1\" class=\"dataframe\">\n",
       "  <thead>\n",
       "    <tr style=\"text-align: right;\">\n",
       "      <th></th>\n",
       "      <th>variable</th>\n",
       "      <th>vif</th>\n",
       "    </tr>\n",
       "  </thead>\n",
       "  <tbody>\n",
       "    <tr>\n",
       "      <th>0</th>\n",
       "      <td>montant_pret</td>\n",
       "      <td>4.220863</td>\n",
       "    </tr>\n",
       "    <tr>\n",
       "      <th>1</th>\n",
       "      <td>hypo</td>\n",
       "      <td>10.765332</td>\n",
       "    </tr>\n",
       "    <tr>\n",
       "      <th>2</th>\n",
       "      <td>valeur_prop</td>\n",
       "      <td>11.694080</td>\n",
       "    </tr>\n",
       "    <tr>\n",
       "      <th>3</th>\n",
       "      <td>annee_emploi</td>\n",
       "      <td>2.616574</td>\n",
       "    </tr>\n",
       "    <tr>\n",
       "      <th>4</th>\n",
       "      <td>signal</td>\n",
       "      <td>1.174773</td>\n",
       "    </tr>\n",
       "    <tr>\n",
       "      <th>5</th>\n",
       "      <td>cred_souffre</td>\n",
       "      <td>1.255078</td>\n",
       "    </tr>\n",
       "    <tr>\n",
       "      <th>6</th>\n",
       "      <td>age_cred</td>\n",
       "      <td>5.749848</td>\n",
       "    </tr>\n",
       "    <tr>\n",
       "      <th>7</th>\n",
       "      <td>nbre_demande</td>\n",
       "      <td>1.601614</td>\n",
       "    </tr>\n",
       "    <tr>\n",
       "      <th>8</th>\n",
       "      <td>nbre_credit</td>\n",
       "      <td>6.696821</td>\n",
       "    </tr>\n",
       "    <tr>\n",
       "      <th>9</th>\n",
       "      <td>dette_rev</td>\n",
       "      <td>9.118155</td>\n",
       "    </tr>\n",
       "  </tbody>\n",
       "</table>\n",
       "</div>"
      ],
      "text/plain": [
       "       variable        vif\n",
       "0  montant_pret   4.220863\n",
       "1          hypo  10.765332\n",
       "2   valeur_prop  11.694080\n",
       "3  annee_emploi   2.616574\n",
       "4        signal   1.174773\n",
       "5  cred_souffre   1.255078\n",
       "6      age_cred   5.749848\n",
       "7  nbre_demande   1.601614\n",
       "8   nbre_credit   6.696821\n",
       "9     dette_rev   9.118155"
      ]
     },
     "execution_count": 49,
     "metadata": {},
     "output_type": "execute_result"
    }
   ],
   "source": [
    "tab_vif=[]\n",
    "    \n",
    "for i in range(len(hmeq_num.columns[1:])):\n",
    "    tab_vif.append(variance_inflation_factor(hmeq_new[hmeq_num.columns[1:]],i))\n",
    "\n",
    "tab_res=pd.DataFrame({\n",
    "    'variable': hmeq_num.columns[1:],\n",
    "    'vif' : tab_vif\n",
    "})\n",
    "tab_res"
   ]
  },
  {
   "cell_type": "markdown",
   "id": "c716de9b",
   "metadata": {},
   "source": [
    "# Analyse des variables qualificatives"
   ]
  },
  {
   "cell_type": "code",
   "execution_count": 50,
   "id": "061b5aed",
   "metadata": {},
   "outputs": [
    {
     "data": {
      "image/png": "[encoded data removed]",
      "text/plain": [
       "<Figure size 432x288 with 1 Axes>"
      ]
     },
     "metadata": {},
     "output_type": "display_data"
    },
    {
     "data": {
      "image/png": "[encoded data removed]",
      "text/plain": [
       "<Figure size 432x288 with 1 Axes>"
      ]
     },
     "metadata": {
      "needs_background": "light"
     },
     "output_type": "display_data"
    }
   ],
   "source": [
    "for var in hmeq_cat:\n",
    "    if len(hmeq_new[var].unique())<=5:\n",
    "        hmeq_new[var].value_counts().plot(kind='pie',autopct='%1.1f%%')\n",
    "        plt.show()\n",
    "    else :\n",
    "        hmeq_new[var].value_counts().plot(kind='bar')\n",
    "        plt.title(var)\n",
    "        plt.show()"
   ]
  },
  {
   "cell_type": "markdown",
   "id": "517611a7",
   "metadata": {},
   "source": [
    "### Indépendance (Diagrammes en baton des deux classes)"
   ]
  },
  {
   "cell_type": "code",
   "execution_count": 51,
   "id": "0cd885fc",
   "metadata": {},
   "outputs": [
    {
     "name": "stdout",
     "output_type": "stream",
     "text": [
      "but      DebtCon  HomeImp\n",
      "reponse                  \n",
      "0           3387     1384\n",
      "1            793      396\n"
     ]
    },
    {
     "data": {
      "image/png": "[encoded data removed]",
      "text/plain": [
       "<Figure size 432x288 with 1 Axes>"
      ]
     },
     "metadata": {
      "needs_background": "light"
     },
     "output_type": "display_data"
    },
    {
     "name": "stdout",
     "output_type": "stream",
     "text": [
      "emploi   Mgr  Office  Other  ProfExe  Sales  Self\n",
      "reponse                                          \n",
      "0        588     823   2090     1064     71   135\n",
      "1        179     125    577      212     38    58\n"
     ]
    },
    {
     "data": {
      "image/png": "[encoded data removed]",
      "text/plain": [
       "<Figure size 432x288 with 1 Axes>"
      ]
     },
     "metadata": {
      "needs_background": "light"
     },
     "output_type": "display_data"
    }
   ],
   "source": [
    "###\n",
    "G = hmeq_new.groupby('reponse')\n",
    "for var in hmeq_cat.columns:\n",
    "    y0 = G.get_group(0)[var].value_counts()\n",
    "    y1 = G.get_group(1)[var].value_counts()\n",
    "    \n",
    "    ###\n",
    "    xx = hmeq_new[var].value_counts().index\n",
    "    nx = np.arange(len(xx))\n",
    "    h = 0.2\n",
    "    \n",
    "    print(pd.crosstab(hmeq_new['reponse'],hmeq_new[var]))\n",
    "    plt.bar(nx-h/2, y1, h, color='IndianRed',label='y=1')\n",
    "    plt.bar(nx+h/2, y0, h, color='lightsteelblue',label='y=0')\n",
    "    plt.xticks(nx, xx)\n",
    "    plt.xlabel(var, fontsize=14)\n",
    "    plt.title('Diagramme en bâtons',fontsize=15)\n",
    "    plt.legend()\n",
    "    plt.show()"
   ]
  },
  {
   "cell_type": "markdown",
   "id": "fca1b578",
   "metadata": {},
   "source": [
    "### Tests statistiques"
   ]
  },
  {
   "cell_type": "code",
   "execution_count": 52,
   "id": "fcbf6aad",
   "metadata": {},
   "outputs": [],
   "source": [
    "from scipy import stats\n",
    "from scipy.stats import chi2_contingency"
   ]
  },
  {
   "cell_type": "code",
   "execution_count": 53,
   "id": "0da00f70",
   "metadata": {},
   "outputs": [
    {
     "name": "stdout",
     "output_type": "stream",
     "text": [
      "Help on function chi2_contingency in module scipy.stats.contingency:\n",
      "\n",
      "chi2_contingency(observed, correction=True, lambda_=None)\n",
      "    Chi-square test of independence of variables in a contingency table.\n",
      "    \n",
      "    This function computes the chi-square statistic and p-value for the\n",
      "    hypothesis test of independence of the observed frequencies in the\n",
      "    contingency table [1]_ `observed`.  The expected frequencies are computed\n",
      "    based on the marginal sums under the assumption of independence; see\n",
      "    `scipy.stats.contingency.expected_freq`.  The number of degrees of\n",
      "    freedom is (expressed using numpy functions and attributes)::\n",
      "    \n",
      "        dof = observed.size - sum(observed.shape) + observed.ndim - 1\n",
      "    \n",
      "    \n",
      "    Parameters\n",
      "    ----------\n",
      "    observed : array_like\n",
      "        The contingency table. The table contains the observed frequencies\n",
      "        (i.e. number of occurrences) in each category.  In the two-dimensional\n",
      "        case, the table is often described as an \"R x C table\".\n",
      "    correction : bool, optional\n",
      "        If True, *and* the degrees of freedom is 1, apply Yates' correction\n",
      "        for continuity.  The effect of the correction is to adjust each\n",
      "        observed value by 0.5 towards the corresponding expected value.\n",
      "    lambda_ : float or str, optional\n",
      "        By default, the statistic computed in this test is Pearson's\n",
      "        chi-squared statistic [2]_.  `lambda_` allows a statistic from the\n",
      "        Cressie-Read power divergence family [3]_ to be used instead.  See\n",
      "        `power_divergence` for details.\n",
      "    \n",
      "    Returns\n",
      "    -------\n",
      "    chi2 : float\n",
      "        The test statistic.\n",
      "    p : float\n",
      "        The p-value of the test\n",
      "    dof : int\n",
      "        Degrees of freedom\n",
      "    expected : ndarray, same shape as `observed`\n",
      "        The expected frequencies, based on the marginal sums of the table.\n",
      "    \n",
      "    See Also\n",
      "    --------\n",
      "    contingency.expected_freq\n",
      "    fisher_exact\n",
      "    chisquare\n",
      "    power_divergence\n",
      "    barnard_exact\n",
      "    boschloo_exact\n",
      "    \n",
      "    Notes\n",
      "    -----\n",
      "    An often quoted guideline for the validity of this calculation is that\n",
      "    the test should be used only if the observed and expected frequencies\n",
      "    in each cell are at least 5.\n",
      "    \n",
      "    This is a test for the independence of different categories of a\n",
      "    population. The test is only meaningful when the dimension of\n",
      "    `observed` is two or more.  Applying the test to a one-dimensional\n",
      "    table will always result in `expected` equal to `observed` and a\n",
      "    chi-square statistic equal to 0.\n",
      "    \n",
      "    This function does not handle masked arrays, because the calculation\n",
      "    does not make sense with missing values.\n",
      "    \n",
      "    Like stats.chisquare, this function computes a chi-square statistic;\n",
      "    the convenience this function provides is to figure out the expected\n",
      "    frequencies and degrees of freedom from the given contingency table.\n",
      "    If these were already known, and if the Yates' correction was not\n",
      "    required, one could use stats.chisquare.  That is, if one calls::\n",
      "    \n",
      "        chi2, p, dof, ex = chi2_contingency(obs, correction=False)\n",
      "    \n",
      "    then the following is true::\n",
      "    \n",
      "        (chi2, p) == stats.chisquare(obs.ravel(), f_exp=ex.ravel(),\n",
      "                                     ddof=obs.size - 1 - dof)\n",
      "    \n",
      "    The `lambda_` argument was added in version 0.13.0 of scipy.\n",
      "    \n",
      "    References\n",
      "    ----------\n",
      "    .. [1] \"Contingency table\",\n",
      "           https://en.wikipedia.org/wiki/Contingency_table\n",
      "    .. [2] \"Pearson's chi-squared test\",\n",
      "           https://en.wikipedia.org/wiki/Pearson%27s_chi-squared_test\n",
      "    .. [3] Cressie, N. and Read, T. R. C., \"Multinomial Goodness-of-Fit\n",
      "           Tests\", J. Royal Stat. Soc. Series B, Vol. 46, No. 3 (1984),\n",
      "           pp. 440-464.\n",
      "    \n",
      "    Examples\n",
      "    --------\n",
      "    A two-way example (2 x 3):\n",
      "    \n",
      "    >>> from scipy.stats import chi2_contingency\n",
      "    >>> obs = np.array([[10, 10, 20], [20, 20, 20]])\n",
      "    >>> chi2_contingency(obs)\n",
      "    (2.7777777777777777,\n",
      "     0.24935220877729619,\n",
      "     2,\n",
      "     array([[ 12.,  12.,  16.],\n",
      "            [ 18.,  18.,  24.]]))\n",
      "    \n",
      "    Perform the test using the log-likelihood ratio (i.e. the \"G-test\")\n",
      "    instead of Pearson's chi-squared statistic.\n",
      "    \n",
      "    >>> g, p, dof, expctd = chi2_contingency(obs, lambda_=\"log-likelihood\")\n",
      "    >>> g, p\n",
      "    (2.7688587616781319, 0.25046668010954165)\n",
      "    \n",
      "    A four-way example (2 x 2 x 2 x 2):\n",
      "    \n",
      "    >>> obs = np.array(\n",
      "    ...     [[[[12, 17],\n",
      "    ...        [11, 16]],\n",
      "    ...       [[11, 12],\n",
      "    ...        [15, 16]]],\n",
      "    ...      [[[23, 15],\n",
      "    ...        [30, 22]],\n",
      "    ...       [[14, 17],\n",
      "    ...        [15, 16]]]])\n",
      "    >>> chi2_contingency(obs)\n",
      "    (8.7584514426741897,\n",
      "     0.64417725029295503,\n",
      "     11,\n",
      "     array([[[[ 14.15462386,  14.15462386],\n",
      "              [ 16.49423111,  16.49423111]],\n",
      "             [[ 11.2461395 ,  11.2461395 ],\n",
      "              [ 13.10500554,  13.10500554]]],\n",
      "            [[[ 19.5591166 ,  19.5591166 ],\n",
      "              [ 22.79202844,  22.79202844]],\n",
      "             [[ 15.54012004,  15.54012004],\n",
      "              [ 18.10873492,  18.10873492]]]]))\n",
      "\n"
     ]
    }
   ],
   "source": [
    "help(chi2_contingency)"
   ]
  },
  {
   "cell_type": "code",
   "execution_count": 54,
   "id": "d1e1b48d",
   "metadata": {},
   "outputs": [
    {
     "data": {
      "text/html": [
       "<div>\n",
       "<style scoped>\n",
       "    .dataframe tbody tr th:only-of-type {\n",
       "        vertical-align: middle;\n",
       "    }\n",
       "\n",
       "    .dataframe tbody tr th {\n",
       "        vertical-align: top;\n",
       "    }\n",
       "\n",
       "    .dataframe thead th {\n",
       "        text-align: right;\n",
       "    }\n",
       "</style>\n",
       "<table border=\"1\" class=\"dataframe\">\n",
       "  <thead>\n",
       "    <tr style=\"text-align: right;\">\n",
       "      <th></th>\n",
       "      <th>Variable</th>\n",
       "      <th>stat_chi2</th>\n",
       "      <th>p-valeur</th>\n",
       "      <th>Coef Cramer</th>\n",
       "    </tr>\n",
       "  </thead>\n",
       "  <tbody>\n",
       "    <tr>\n",
       "      <th>1</th>\n",
       "      <td>emploi</td>\n",
       "      <td>73.815093</td>\n",
       "      <td>1.643694e-14</td>\n",
       "      <td>0.107461</td>\n",
       "    </tr>\n",
       "    <tr>\n",
       "      <th>0</th>\n",
       "      <td>but</td>\n",
       "      <td>8.185164</td>\n",
       "      <td>4.223437e-03</td>\n",
       "      <td>0.034724</td>\n",
       "    </tr>\n",
       "  </tbody>\n",
       "</table>\n",
       "</div>"
      ],
      "text/plain": [
       "  Variable  stat_chi2      p-valeur  Coef Cramer\n",
       "1   emploi  73.815093  1.643694e-14     0.107461\n",
       "0      but   8.185164  4.223437e-03     0.034724"
      ]
     },
     "execution_count": 54,
     "metadata": {},
     "output_type": "execute_result"
    }
   ],
   "source": [
    "##\n",
    "nom_var=[]\n",
    "stat_chi2=[]\n",
    "pval=[]\n",
    "cramer_v=[]\n",
    "\n",
    "for var in hmeq_cat.columns:\n",
    "    ##Tableau de contingence\n",
    "    tab_contingence=pd.crosstab(hmeq_new['reponse'],hmeq_new[var])\n",
    "    \n",
    "    ##Calculer les statistiques de chi2 et les p-valeurs des tests\n",
    "    chi2, pv, dll,  freq=chi2_contingency(tab_contingence)\n",
    "    \n",
    "    ###\n",
    "    nom_var.append(var)\n",
    "    stat_chi2.append(chi2)\n",
    "    pval.append(pv)\n",
    "    \n",
    "    ##Calculer le coefficient v de Crammer\n",
    "    n=tab_contingence.sum().sum()\n",
    "    phi2=chi2/n\n",
    "    r,k=tab_contingence.shape\n",
    "    phi2corr=max(0,phi2-((k-1)*(r-1))/(n-1))\n",
    "    R=r-((r-1)**2)/(n-1)\n",
    "    K=k-((k-1)**2)/(n-1)\n",
    "    cramer_v.append(np.sqrt(phi2corr/min(R-1,K-1)))\n",
    "\n",
    "res_chi2=pd.DataFrame({\n",
    "    'Variable': nom_var,\n",
    "    'stat_chi2' : stat_chi2,\n",
    "    'p-valeur' : pval,\n",
    "    'Coef Cramer' : cramer_v\n",
    "})\n",
    "\n",
    "res_chi2.sort_values(by='Coef Cramer',inplace=True, ascending=False)\n",
    "res_chi2\n"
   ]
  },
  {
   "cell_type": "markdown",
   "id": "e0f9cf38",
   "metadata": {},
   "source": [
    "# Variables quantitatives"
   ]
  },
  {
   "cell_type": "code",
   "execution_count": 55,
   "id": "e49574d0",
   "metadata": {},
   "outputs": [
    {
     "data": {
      "text/plain": [
       "(10,)"
      ]
     },
     "execution_count": 55,
     "metadata": {},
     "output_type": "execute_result"
    }
   ],
   "source": [
    "var_copy=hmeq_num.columns[1:]\n",
    "var_copy.shape"
   ]
  },
  {
   "cell_type": "code",
   "execution_count": 56,
   "id": "2c9a5931",
   "metadata": {},
   "outputs": [
    {
     "data": {
      "image/png": "[encoded data removed]",
      "text/plain": [
       "<Figure size 432x288 with 1 Axes>"
      ]
     },
     "metadata": {
      "needs_background": "light"
     },
     "output_type": "display_data"
    },
    {
     "data": {
      "image/png": "[encoded data removed]",
      "text/plain": [
       "<Figure size 432x288 with 1 Axes>"
      ]
     },
     "metadata": {
      "needs_background": "light"
     },
     "output_type": "display_data"
    },
    {
     "data": {
      "image/png": "[encoded data removed]",
      "text/plain": [
       "<Figure size 432x288 with 1 Axes>"
      ]
     },
     "metadata": {
      "needs_background": "light"
     },
     "output_type": "display_data"
    },
    {
     "data": {
      "image/png": "[encoded data removed]",
      "text/plain": [
       "<Figure size 432x288 with 1 Axes>"
      ]
     },
     "metadata": {
      "needs_background": "light"
     },
     "output_type": "display_data"
    },
    {
     "data": {
      "image/png": "[encoded data removed]",
      "text/plain": [
       "<Figure size 432x288 with 1 Axes>"
      ]
     },
     "metadata": {
      "needs_background": "light"
     },
     "output_type": "display_data"
    },
    {
     "data": {
      "image/png": "[encoded data removed]",
      "text/plain": [
       "<Figure size 432x288 with 1 Axes>"
      ]
     },
     "metadata": {
      "needs_background": "light"
     },
     "output_type": "display_data"
    },
    {
     "data": {
      "image/png": "[encoded data removed]",
      "text/plain": [
       "<Figure size 432x288 with 1 Axes>"
      ]
     },
     "metadata": {
      "needs_background": "light"
     },
     "output_type": "display_data"
    },
    {
     "data": {
      "image/png": "[encoded data removed]",
      "text/plain": [
       "<Figure size 432x288 with 1 Axes>"
      ]
     },
     "metadata": {
      "needs_background": "light"
     },
     "output_type": "display_data"
    },
    {
     "data": {
      "image/png": "[encoded data removed]",
      "text/plain": [
       "<Figure size 432x288 with 1 Axes>"
      ]
     },
     "metadata": {
      "needs_background": "light"
     },
     "output_type": "display_data"
    },
    {
     "data": {
      "image/png": "[encoded data removed]",
      "text/plain": [
       "<Figure size 432x288 with 1 Axes>"
      ]
     },
     "metadata": {
      "needs_background": "light"
     },
     "output_type": "display_data"
    }
   ],
   "source": [
    "for var in var_copy:\n",
    "    meanprops = {'marker':'o', 'markeredgecolor':'black', 'markerfacecolor':'firebrick'}\n",
    "    sns.boxplot(x='reponse',y=var,data=hmeq_new,showmeans=True, meanprops=meanprops,hue=\"reponse\")\n",
    "    plt.xlabel(var, fontsize=14)\n",
    "    plt.show()"
   ]
  },
  {
   "cell_type": "markdown",
   "id": "1ddb8936",
   "metadata": {},
   "source": [
    "### Analyse descriptive"
   ]
  },
  {
   "cell_type": "code",
   "execution_count": 57,
   "id": "5b0d2ffd",
   "metadata": {},
   "outputs": [],
   "source": [
    "y0= hmeq_new[hmeq_new['reponse']==0]\n",
    "y1= hmeq_new[hmeq_new['reponse']==1]"
   ]
  },
  {
   "cell_type": "markdown",
   "id": "9d07570e",
   "metadata": {},
   "source": [
    "Classe 0"
   ]
  },
  {
   "cell_type": "code",
   "execution_count": 58,
   "id": "d5cc7ef6",
   "metadata": {},
   "outputs": [
    {
     "data": {
      "text/html": [
       "<div>\n",
       "<style scoped>\n",
       "    .dataframe tbody tr th:only-of-type {\n",
       "        vertical-align: middle;\n",
       "    }\n",
       "\n",
       "    .dataframe tbody tr th {\n",
       "        vertical-align: top;\n",
       "    }\n",
       "\n",
       "    .dataframe thead th {\n",
       "        text-align: right;\n",
       "    }\n",
       "</style>\n",
       "<table border=\"1\" class=\"dataframe\">\n",
       "  <thead>\n",
       "    <tr style=\"text-align: right;\">\n",
       "      <th></th>\n",
       "      <th>montant_pret</th>\n",
       "      <th>hypo</th>\n",
       "      <th>valeur_prop</th>\n",
       "      <th>annee_emploi</th>\n",
       "      <th>signal</th>\n",
       "      <th>cred_souffre</th>\n",
       "      <th>age_cred</th>\n",
       "      <th>nbre_demande</th>\n",
       "      <th>nbre_credit</th>\n",
       "      <th>dette_rev</th>\n",
       "    </tr>\n",
       "  </thead>\n",
       "  <tbody>\n",
       "    <tr>\n",
       "      <th>count</th>\n",
       "      <td>4771.000000</td>\n",
       "      <td>4771.000000</td>\n",
       "      <td>4771.000000</td>\n",
       "      <td>4771.000000</td>\n",
       "      <td>4771.000000</td>\n",
       "      <td>4771.000000</td>\n",
       "      <td>4771.000000</td>\n",
       "      <td>4771.000000</td>\n",
       "      <td>4771.000000</td>\n",
       "      <td>4771.000000</td>\n",
       "    </tr>\n",
       "    <tr>\n",
       "      <th>mean</th>\n",
       "      <td>19028.107315</td>\n",
       "      <td>74736.984556</td>\n",
       "      <td>102576.318640</td>\n",
       "      <td>9.132995</td>\n",
       "      <td>0.149882</td>\n",
       "      <td>0.266887</td>\n",
       "      <td>186.653519</td>\n",
       "      <td>1.046727</td>\n",
       "      <td>21.270384</td>\n",
       "      <td>33.306238</td>\n",
       "    </tr>\n",
       "    <tr>\n",
       "      <th>std</th>\n",
       "      <td>11115.758554</td>\n",
       "      <td>41661.286856</td>\n",
       "      <td>52712.155613</td>\n",
       "      <td>7.305305</td>\n",
       "      <td>0.481539</td>\n",
       "      <td>0.640326</td>\n",
       "      <td>82.418266</td>\n",
       "      <td>1.460496</td>\n",
       "      <td>9.512644</td>\n",
       "      <td>6.589798</td>\n",
       "    </tr>\n",
       "    <tr>\n",
       "      <th>min</th>\n",
       "      <td>1700.000000</td>\n",
       "      <td>2619.000000</td>\n",
       "      <td>8000.000000</td>\n",
       "      <td>0.000000</td>\n",
       "      <td>0.000000</td>\n",
       "      <td>0.000000</td>\n",
       "      <td>0.486711</td>\n",
       "      <td>0.000000</td>\n",
       "      <td>0.000000</td>\n",
       "      <td>0.720295</td>\n",
       "    </tr>\n",
       "    <tr>\n",
       "      <th>25%</th>\n",
       "      <td>11700.000000</td>\n",
       "      <td>49289.500000</td>\n",
       "      <td>67353.500000</td>\n",
       "      <td>4.000000</td>\n",
       "      <td>0.000000</td>\n",
       "      <td>0.000000</td>\n",
       "      <td>122.375655</td>\n",
       "      <td>0.000000</td>\n",
       "      <td>15.000000</td>\n",
       "      <td>29.580225</td>\n",
       "    </tr>\n",
       "    <tr>\n",
       "      <th>50%</th>\n",
       "      <td>16900.000000</td>\n",
       "      <td>71060.000000</td>\n",
       "      <td>90599.000000</td>\n",
       "      <td>8.000000</td>\n",
       "      <td>0.000000</td>\n",
       "      <td>0.000000</td>\n",
       "      <td>179.766275</td>\n",
       "      <td>1.000000</td>\n",
       "      <td>20.000000</td>\n",
       "      <td>33.779915</td>\n",
       "    </tr>\n",
       "    <tr>\n",
       "      <th>75%</th>\n",
       "      <td>23500.000000</td>\n",
       "      <td>89520.000000</td>\n",
       "      <td>120492.000000</td>\n",
       "      <td>12.300000</td>\n",
       "      <td>0.000000</td>\n",
       "      <td>0.000000</td>\n",
       "      <td>237.140339</td>\n",
       "      <td>1.186055</td>\n",
       "      <td>26.000000</td>\n",
       "      <td>38.326359</td>\n",
       "    </tr>\n",
       "    <tr>\n",
       "      <th>max</th>\n",
       "      <td>89900.000000</td>\n",
       "      <td>371003.000000</td>\n",
       "      <td>471827.000000</td>\n",
       "      <td>36.000000</td>\n",
       "      <td>6.000000</td>\n",
       "      <td>5.000000</td>\n",
       "      <td>649.747104</td>\n",
       "      <td>11.000000</td>\n",
       "      <td>56.000000</td>\n",
       "      <td>45.569843</td>\n",
       "    </tr>\n",
       "  </tbody>\n",
       "</table>\n",
       "</div>"
      ],
      "text/plain": [
       "       montant_pret           hypo    valeur_prop  annee_emploi       signal  \\\n",
       "count   4771.000000    4771.000000    4771.000000   4771.000000  4771.000000   \n",
       "mean   19028.107315   74736.984556  102576.318640      9.132995     0.149882   \n",
       "std    11115.758554   41661.286856   52712.155613      7.305305     0.481539   \n",
       "min     1700.000000    2619.000000    8000.000000      0.000000     0.000000   \n",
       "25%    11700.000000   49289.500000   67353.500000      4.000000     0.000000   \n",
       "50%    16900.000000   71060.000000   90599.000000      8.000000     0.000000   \n",
       "75%    23500.000000   89520.000000  120492.000000     12.300000     0.000000   \n",
       "max    89900.000000  371003.000000  471827.000000     36.000000     6.000000   \n",
       "\n",
       "       cred_souffre     age_cred  nbre_demande  nbre_credit    dette_rev  \n",
       "count   4771.000000  4771.000000   4771.000000  4771.000000  4771.000000  \n",
       "mean       0.266887   186.653519      1.046727    21.270384    33.306238  \n",
       "std        0.640326    82.418266      1.460496     9.512644     6.589798  \n",
       "min        0.000000     0.486711      0.000000     0.000000     0.720295  \n",
       "25%        0.000000   122.375655      0.000000    15.000000    29.580225  \n",
       "50%        0.000000   179.766275      1.000000    20.000000    33.779915  \n",
       "75%        0.000000   237.140339      1.186055    26.000000    38.326359  \n",
       "max        5.000000   649.747104     11.000000    56.000000    45.569843  "
      ]
     },
     "execution_count": 58,
     "metadata": {},
     "output_type": "execute_result"
    }
   ],
   "source": [
    "y0[hmeq_num.columns[1:]].describe()"
   ]
  },
  {
   "cell_type": "markdown",
   "id": "ef634e1b",
   "metadata": {},
   "source": [
    "Classe 1"
   ]
  },
  {
   "cell_type": "code",
   "execution_count": 59,
   "id": "2d092bec",
   "metadata": {},
   "outputs": [
    {
     "data": {
      "text/html": [
       "<div>\n",
       "<style scoped>\n",
       "    .dataframe tbody tr th:only-of-type {\n",
       "        vertical-align: middle;\n",
       "    }\n",
       "\n",
       "    .dataframe tbody tr th {\n",
       "        vertical-align: top;\n",
       "    }\n",
       "\n",
       "    .dataframe thead th {\n",
       "        text-align: right;\n",
       "    }\n",
       "</style>\n",
       "<table border=\"1\" class=\"dataframe\">\n",
       "  <thead>\n",
       "    <tr style=\"text-align: right;\">\n",
       "      <th></th>\n",
       "      <th>montant_pret</th>\n",
       "      <th>hypo</th>\n",
       "      <th>valeur_prop</th>\n",
       "      <th>annee_emploi</th>\n",
       "      <th>signal</th>\n",
       "      <th>cred_souffre</th>\n",
       "      <th>age_cred</th>\n",
       "      <th>nbre_demande</th>\n",
       "      <th>nbre_credit</th>\n",
       "      <th>dette_rev</th>\n",
       "    </tr>\n",
       "  </thead>\n",
       "  <tbody>\n",
       "    <tr>\n",
       "      <th>count</th>\n",
       "      <td>1189.000000</td>\n",
       "      <td>1189.000000</td>\n",
       "      <td>1189.000000</td>\n",
       "      <td>1189.000000</td>\n",
       "      <td>1189.000000</td>\n",
       "      <td>1189.000000</td>\n",
       "      <td>1189.000000</td>\n",
       "      <td>1189.000000</td>\n",
       "      <td>1189.000000</td>\n",
       "      <td>1189.000000</td>\n",
       "    </tr>\n",
       "    <tr>\n",
       "      <th>mean</th>\n",
       "      <td>16922.119428</td>\n",
       "      <td>69843.832795</td>\n",
       "      <td>97383.593616</td>\n",
       "      <td>8.076701</td>\n",
       "      <td>0.674641</td>\n",
       "      <td>1.181968</td>\n",
       "      <td>152.130415</td>\n",
       "      <td>1.745125</td>\n",
       "      <td>21.157275</td>\n",
       "      <td>35.680601</td>\n",
       "    </tr>\n",
       "    <tr>\n",
       "      <th>std</th>\n",
       "      <td>11418.455152</td>\n",
       "      <td>45432.099946</td>\n",
       "      <td>71023.941521</td>\n",
       "      <td>6.906745</td>\n",
       "      <td>1.418515</td>\n",
       "      <td>1.853755</td>\n",
       "      <td>82.442221</td>\n",
       "      <td>2.179729</td>\n",
       "      <td>11.549177</td>\n",
       "      <td>10.646448</td>\n",
       "    </tr>\n",
       "    <tr>\n",
       "      <th>min</th>\n",
       "      <td>1100.000000</td>\n",
       "      <td>2063.000000</td>\n",
       "      <td>8800.000000</td>\n",
       "      <td>0.000000</td>\n",
       "      <td>0.000000</td>\n",
       "      <td>0.000000</td>\n",
       "      <td>0.000000</td>\n",
       "      <td>0.000000</td>\n",
       "      <td>0.000000</td>\n",
       "      <td>0.524499</td>\n",
       "    </tr>\n",
       "    <tr>\n",
       "      <th>25%</th>\n",
       "      <td>9200.000000</td>\n",
       "      <td>42077.000000</td>\n",
       "      <td>61917.000000</td>\n",
       "      <td>2.900000</td>\n",
       "      <td>0.000000</td>\n",
       "      <td>0.000000</td>\n",
       "      <td>98.808206</td>\n",
       "      <td>0.000000</td>\n",
       "      <td>14.000000</td>\n",
       "      <td>33.779915</td>\n",
       "    </tr>\n",
       "    <tr>\n",
       "      <th>50%</th>\n",
       "      <td>14900.000000</td>\n",
       "      <td>63800.000000</td>\n",
       "      <td>86400.000000</td>\n",
       "      <td>7.000000</td>\n",
       "      <td>0.000000</td>\n",
       "      <td>0.449442</td>\n",
       "      <td>138.166667</td>\n",
       "      <td>1.000000</td>\n",
       "      <td>20.000000</td>\n",
       "      <td>33.779915</td>\n",
       "    </tr>\n",
       "    <tr>\n",
       "      <th>75%</th>\n",
       "      <td>21700.000000</td>\n",
       "      <td>82054.000000</td>\n",
       "      <td>112000.000000</td>\n",
       "      <td>11.000000</td>\n",
       "      <td>1.000000</td>\n",
       "      <td>2.000000</td>\n",
       "      <td>187.266667</td>\n",
       "      <td>2.000000</td>\n",
       "      <td>27.000000</td>\n",
       "      <td>33.779915</td>\n",
       "    </tr>\n",
       "    <tr>\n",
       "      <th>max</th>\n",
       "      <td>77400.000000</td>\n",
       "      <td>399550.000000</td>\n",
       "      <td>855909.000000</td>\n",
       "      <td>41.000000</td>\n",
       "      <td>10.000000</td>\n",
       "      <td>15.000000</td>\n",
       "      <td>1168.233561</td>\n",
       "      <td>17.000000</td>\n",
       "      <td>71.000000</td>\n",
       "      <td>203.312149</td>\n",
       "    </tr>\n",
       "  </tbody>\n",
       "</table>\n",
       "</div>"
      ],
      "text/plain": [
       "       montant_pret           hypo    valeur_prop  annee_emploi       signal  \\\n",
       "count   1189.000000    1189.000000    1189.000000   1189.000000  1189.000000   \n",
       "mean   16922.119428   69843.832795   97383.593616      8.076701     0.674641   \n",
       "std    11418.455152   45432.099946   71023.941521      6.906745     1.418515   \n",
       "min     1100.000000    2063.000000    8800.000000      0.000000     0.000000   \n",
       "25%     9200.000000   42077.000000   61917.000000      2.900000     0.000000   \n",
       "50%    14900.000000   63800.000000   86400.000000      7.000000     0.000000   \n",
       "75%    21700.000000   82054.000000  112000.000000     11.000000     1.000000   \n",
       "max    77400.000000  399550.000000  855909.000000     41.000000    10.000000   \n",
       "\n",
       "       cred_souffre     age_cred  nbre_demande  nbre_credit    dette_rev  \n",
       "count   1189.000000  1189.000000   1189.000000  1189.000000  1189.000000  \n",
       "mean       1.181968   152.130415      1.745125    21.157275    35.680601  \n",
       "std        1.853755    82.442221      2.179729    11.549177    10.646448  \n",
       "min        0.000000     0.000000      0.000000     0.000000     0.524499  \n",
       "25%        0.000000    98.808206      0.000000    14.000000    33.779915  \n",
       "50%        0.449442   138.166667      1.000000    20.000000    33.779915  \n",
       "75%        2.000000   187.266667      2.000000    27.000000    33.779915  \n",
       "max       15.000000  1168.233561     17.000000    71.000000   203.312149  "
      ]
     },
     "execution_count": 59,
     "metadata": {},
     "output_type": "execute_result"
    }
   ],
   "source": [
    "y1[hmeq_num.columns[1:]].describe()"
   ]
  },
  {
   "cell_type": "markdown",
   "id": "4789b3ff",
   "metadata": {},
   "source": [
    "### Test de Kruskal-Wallis"
   ]
  },
  {
   "cell_type": "code",
   "execution_count": 60,
   "id": "b729430a",
   "metadata": {},
   "outputs": [
    {
     "name": "stdout",
     "output_type": "stream",
     "text": [
      "Help on function kruskal in module scipy.stats.stats:\n",
      "\n",
      "kruskal(*args, nan_policy='propagate')\n",
      "    Compute the Kruskal-Wallis H-test for independent samples.\n",
      "    \n",
      "    The Kruskal-Wallis H-test tests the null hypothesis that the population\n",
      "    median of all of the groups are equal.  It is a non-parametric version of\n",
      "    ANOVA.  The test works on 2 or more independent samples, which may have\n",
      "    different sizes.  Note that rejecting the null hypothesis does not\n",
      "    indicate which of the groups differs.  Post hoc comparisons between\n",
      "    groups are required to determine which groups are different.\n",
      "    \n",
      "    Parameters\n",
      "    ----------\n",
      "    sample1, sample2, ... : array_like\n",
      "       Two or more arrays with the sample measurements can be given as\n",
      "       arguments. Samples must be one-dimensional.\n",
      "    nan_policy : {'propagate', 'raise', 'omit'}, optional\n",
      "        Defines how to handle when input contains nan.\n",
      "        The following options are available (default is 'propagate'):\n",
      "    \n",
      "          * 'propagate': returns nan\n",
      "          * 'raise': throws an error\n",
      "          * 'omit': performs the calculations ignoring nan values\n",
      "    \n",
      "    Returns\n",
      "    -------\n",
      "    statistic : float\n",
      "       The Kruskal-Wallis H statistic, corrected for ties.\n",
      "    pvalue : float\n",
      "       The p-value for the test using the assumption that H has a chi\n",
      "       square distribution. The p-value returned is the survival function of\n",
      "       the chi square distribution evaluated at H.\n",
      "    \n",
      "    See Also\n",
      "    --------\n",
      "    f_oneway : 1-way ANOVA.\n",
      "    mannwhitneyu : Mann-Whitney rank test on two samples.\n",
      "    friedmanchisquare : Friedman test for repeated measurements.\n",
      "    \n",
      "    Notes\n",
      "    -----\n",
      "    Due to the assumption that H has a chi square distribution, the number\n",
      "    of samples in each group must not be too small.  A typical rule is\n",
      "    that each sample must have at least 5 measurements.\n",
      "    \n",
      "    References\n",
      "    ----------\n",
      "    .. [1] W. H. Kruskal & W. W. Wallis, \"Use of Ranks in\n",
      "       One-Criterion Variance Analysis\", Journal of the American Statistical\n",
      "       Association, Vol. 47, Issue 260, pp. 583-621, 1952.\n",
      "    .. [2] https://en.wikipedia.org/wiki/Kruskal-Wallis_one-way_analysis_of_variance\n",
      "    \n",
      "    Examples\n",
      "    --------\n",
      "    >>> from scipy import stats\n",
      "    >>> x = [1, 3, 5, 7, 9]\n",
      "    >>> y = [2, 4, 6, 8, 10]\n",
      "    >>> stats.kruskal(x, y)\n",
      "    KruskalResult(statistic=0.2727272727272734, pvalue=0.6015081344405895)\n",
      "    \n",
      "    >>> x = [1, 1, 1]\n",
      "    >>> y = [2, 2, 2]\n",
      "    >>> z = [2, 2]\n",
      "    >>> stats.kruskal(x, y, z)\n",
      "    KruskalResult(statistic=7.0, pvalue=0.0301973834223185)\n",
      "\n"
     ]
    }
   ],
   "source": [
    "help(stats.kruskal)"
   ]
  },
  {
   "cell_type": "code",
   "execution_count": 61,
   "id": "d1a55079",
   "metadata": {},
   "outputs": [
    {
     "data": {
      "text/html": [
       "<div>\n",
       "<style scoped>\n",
       "    .dataframe tbody tr th:only-of-type {\n",
       "        vertical-align: middle;\n",
       "    }\n",
       "\n",
       "    .dataframe tbody tr th {\n",
       "        vertical-align: top;\n",
       "    }\n",
       "\n",
       "    .dataframe thead th {\n",
       "        text-align: right;\n",
       "    }\n",
       "</style>\n",
       "<table border=\"1\" class=\"dataframe\">\n",
       "  <thead>\n",
       "    <tr style=\"text-align: right;\">\n",
       "      <th></th>\n",
       "      <th>variable</th>\n",
       "      <th>statistique</th>\n",
       "      <th>p_valeur</th>\n",
       "    </tr>\n",
       "  </thead>\n",
       "  <tbody>\n",
       "    <tr>\n",
       "      <th>0</th>\n",
       "      <td>montant_pret</td>\n",
       "      <td>70.019901</td>\n",
       "      <td>5.870916e-17</td>\n",
       "    </tr>\n",
       "    <tr>\n",
       "      <th>1</th>\n",
       "      <td>hypo</td>\n",
       "      <td>31.493754</td>\n",
       "      <td>2.000828e-08</td>\n",
       "    </tr>\n",
       "    <tr>\n",
       "      <th>2</th>\n",
       "      <td>valeur_prop</td>\n",
       "      <td>32.763972</td>\n",
       "      <td>1.040557e-08</td>\n",
       "    </tr>\n",
       "    <tr>\n",
       "      <th>3</th>\n",
       "      <td>annee_emploi</td>\n",
       "      <td>19.496234</td>\n",
       "      <td>1.007982e-05</td>\n",
       "    </tr>\n",
       "    <tr>\n",
       "      <th>4</th>\n",
       "      <td>signal</td>\n",
       "      <td>193.918109</td>\n",
       "      <td>4.437487e-44</td>\n",
       "    </tr>\n",
       "    <tr>\n",
       "      <th>5</th>\n",
       "      <td>cred_souffre</td>\n",
       "      <td>452.129309</td>\n",
       "      <td>2.481541e-100</td>\n",
       "    </tr>\n",
       "    <tr>\n",
       "      <th>6</th>\n",
       "      <td>age_cred</td>\n",
       "      <td>192.060415</td>\n",
       "      <td>1.128754e-43</td>\n",
       "    </tr>\n",
       "    <tr>\n",
       "      <th>7</th>\n",
       "      <td>nbre_demande</td>\n",
       "      <td>109.939452</td>\n",
       "      <td>1.010300e-25</td>\n",
       "    </tr>\n",
       "    <tr>\n",
       "      <th>8</th>\n",
       "      <td>nbre_credit</td>\n",
       "      <td>1.195847</td>\n",
       "      <td>2.741532e-01</td>\n",
       "    </tr>\n",
       "    <tr>\n",
       "      <th>9</th>\n",
       "      <td>dette_rev</td>\n",
       "      <td>8.799980</td>\n",
       "      <td>3.012339e-03</td>\n",
       "    </tr>\n",
       "  </tbody>\n",
       "</table>\n",
       "</div>"
      ],
      "text/plain": [
       "       variable  statistique       p_valeur\n",
       "0  montant_pret    70.019901   5.870916e-17\n",
       "1          hypo    31.493754   2.000828e-08\n",
       "2   valeur_prop    32.763972   1.040557e-08\n",
       "3  annee_emploi    19.496234   1.007982e-05\n",
       "4        signal   193.918109   4.437487e-44\n",
       "5  cred_souffre   452.129309  2.481541e-100\n",
       "6      age_cred   192.060415   1.128754e-43\n",
       "7  nbre_demande   109.939452   1.010300e-25\n",
       "8   nbre_credit     1.195847   2.741532e-01\n",
       "9     dette_rev     8.799980   3.012339e-03"
      ]
     },
     "execution_count": 61,
     "metadata": {},
     "output_type": "execute_result"
    }
   ],
   "source": [
    "##Initialisation des variables\n",
    "Nom_var=[]\n",
    "stat_kw=[]\n",
    "p_val=[]\n",
    "\n",
    "for var in var_copy:\n",
    "    kstat, pv = stats.kruskal(y0[var], y1[var])\n",
    "\n",
    "    ###\n",
    "    Nom_var.append(var)\n",
    "    stat_kw.append(kstat)\n",
    "    p_val.append(pv)\n",
    "\n",
    "\n",
    "res_kw=pd.DataFrame({\n",
    "    'variable' : Nom_var,\n",
    "    'statistique' : stat_kw,\n",
    "    'p_valeur':p_val\n",
    "})\n",
    "\n",
    "res_kw"
   ]
  },
  {
   "cell_type": "markdown",
   "id": "25e47ac9",
   "metadata": {},
   "source": [
    "### Test d'ANOVA"
   ]
  },
  {
   "cell_type": "code",
   "execution_count": 62,
   "id": "6da17473",
   "metadata": {},
   "outputs": [],
   "source": [
    "from scipy.stats import f_oneway"
   ]
  },
  {
   "cell_type": "code",
   "execution_count": 63,
   "id": "c01428a5",
   "metadata": {},
   "outputs": [
    {
     "name": "stdout",
     "output_type": "stream",
     "text": [
      "Help on function f_oneway in module scipy.stats.stats:\n",
      "\n",
      "f_oneway(*args, axis=0)\n",
      "    Perform one-way ANOVA.\n",
      "    \n",
      "    The one-way ANOVA tests the null hypothesis that two or more groups have\n",
      "    the same population mean.  The test is applied to samples from two or\n",
      "    more groups, possibly with differing sizes.\n",
      "    \n",
      "    Parameters\n",
      "    ----------\n",
      "    sample1, sample2, ... : array_like\n",
      "        The sample measurements for each group.  There must be at least\n",
      "        two arguments.  If the arrays are multidimensional, then all the\n",
      "        dimensions of the array must be the same except for `axis`.\n",
      "    axis : int, optional\n",
      "        Axis of the input arrays along which the test is applied.\n",
      "        Default is 0.\n",
      "    \n",
      "    Returns\n",
      "    -------\n",
      "    statistic : float\n",
      "        The computed F statistic of the test.\n",
      "    pvalue : float\n",
      "        The associated p-value from the F distribution.\n",
      "    \n",
      "    Warns\n",
      "    -----\n",
      "    F_onewayConstantInputWarning\n",
      "        Raised if each of the input arrays is constant array.\n",
      "        In this case the F statistic is either infinite or isn't defined,\n",
      "        so ``np.inf`` or ``np.nan`` is returned.\n",
      "    \n",
      "    F_onewayBadInputSizesWarning\n",
      "        Raised if the length of any input array is 0, or if all the input\n",
      "        arrays have length 1.  ``np.nan`` is returned for the F statistic\n",
      "        and the p-value in these cases.\n",
      "    \n",
      "    Notes\n",
      "    -----\n",
      "    The ANOVA test has important assumptions that must be satisfied in order\n",
      "    for the associated p-value to be valid.\n",
      "    \n",
      "    1. The samples are independent.\n",
      "    2. Each sample is from a normally distributed population.\n",
      "    3. The population standard deviations of the groups are all equal.  This\n",
      "       property is known as homoscedasticity.\n",
      "    \n",
      "    If these assumptions are not true for a given set of data, it may still\n",
      "    be possible to use the Kruskal-Wallis H-test (`scipy.stats.kruskal`) or\n",
      "    the Alexander-Govern test (`scipy.stats.alexandergovern`) although with\n",
      "    some loss of power.\n",
      "    \n",
      "    The length of each group must be at least one, and there must be at\n",
      "    least one group with length greater than one.  If these conditions\n",
      "    are not satisfied, a warning is generated and (``np.nan``, ``np.nan``)\n",
      "    is returned.\n",
      "    \n",
      "    If each group contains constant values, and there exist at least two\n",
      "    groups with different values, the function generates a warning and\n",
      "    returns (``np.inf``, 0).\n",
      "    \n",
      "    If all values in all groups are the same, function generates a warning\n",
      "    and returns (``np.nan``, ``np.nan``).\n",
      "    \n",
      "    The algorithm is from Heiman [2]_, pp.394-7.\n",
      "    \n",
      "    References\n",
      "    ----------\n",
      "    .. [1] R. Lowry, \"Concepts and Applications of Inferential Statistics\",\n",
      "           Chapter 14, 2014, http://vassarstats.net/textbook/\n",
      "    \n",
      "    .. [2] G.W. Heiman, \"Understanding research methods and statistics: An\n",
      "           integrated introduction for psychology\", Houghton, Mifflin and\n",
      "           Company, 2001.\n",
      "    \n",
      "    .. [3] G.H. McDonald, \"Handbook of Biological Statistics\", One-way ANOVA.\n",
      "           http://www.biostathandbook.com/onewayanova.html\n",
      "    \n",
      "    Examples\n",
      "    --------\n",
      "    >>> from scipy.stats import f_oneway\n",
      "    \n",
      "    Here are some data [3]_ on a shell measurement (the length of the anterior\n",
      "    adductor muscle scar, standardized by dividing by length) in the mussel\n",
      "    Mytilus trossulus from five locations: Tillamook, Oregon; Newport, Oregon;\n",
      "    Petersburg, Alaska; Magadan, Russia; and Tvarminne, Finland, taken from a\n",
      "    much larger data set used in McDonald et al. (1991).\n",
      "    \n",
      "    >>> tillamook = [0.0571, 0.0813, 0.0831, 0.0976, 0.0817, 0.0859, 0.0735,\n",
      "    ...              0.0659, 0.0923, 0.0836]\n",
      "    >>> newport = [0.0873, 0.0662, 0.0672, 0.0819, 0.0749, 0.0649, 0.0835,\n",
      "    ...            0.0725]\n",
      "    >>> petersburg = [0.0974, 0.1352, 0.0817, 0.1016, 0.0968, 0.1064, 0.105]\n",
      "    >>> magadan = [0.1033, 0.0915, 0.0781, 0.0685, 0.0677, 0.0697, 0.0764,\n",
      "    ...            0.0689]\n",
      "    >>> tvarminne = [0.0703, 0.1026, 0.0956, 0.0973, 0.1039, 0.1045]\n",
      "    >>> f_oneway(tillamook, newport, petersburg, magadan, tvarminne)\n",
      "    F_onewayResult(statistic=7.121019471642447, pvalue=0.0002812242314534544)\n",
      "    \n",
      "    `f_oneway` accepts multidimensional input arrays.  When the inputs\n",
      "    are multidimensional and `axis` is not given, the test is performed\n",
      "    along the first axis of the input arrays.  For the following data, the\n",
      "    test is performed three times, once for each column.\n",
      "    \n",
      "    >>> a = np.array([[9.87, 9.03, 6.81],\n",
      "    ...               [7.18, 8.35, 7.00],\n",
      "    ...               [8.39, 7.58, 7.68],\n",
      "    ...               [7.45, 6.33, 9.35],\n",
      "    ...               [6.41, 7.10, 9.33],\n",
      "    ...               [8.00, 8.24, 8.44]])\n",
      "    >>> b = np.array([[6.35, 7.30, 7.16],\n",
      "    ...               [6.65, 6.68, 7.63],\n",
      "    ...               [5.72, 7.73, 6.72],\n",
      "    ...               [7.01, 9.19, 7.41],\n",
      "    ...               [7.75, 7.87, 8.30],\n",
      "    ...               [6.90, 7.97, 6.97]])\n",
      "    >>> c = np.array([[3.31, 8.77, 1.01],\n",
      "    ...               [8.25, 3.24, 3.62],\n",
      "    ...               [6.32, 8.81, 5.19],\n",
      "    ...               [7.48, 8.83, 8.91],\n",
      "    ...               [8.59, 6.01, 6.07],\n",
      "    ...               [3.07, 9.72, 7.48]])\n",
      "    >>> F, p = f_oneway(a, b, c)\n",
      "    >>> F\n",
      "    array([1.75676344, 0.03701228, 3.76439349])\n",
      "    >>> p\n",
      "    array([0.20630784, 0.96375203, 0.04733157])\n",
      "\n"
     ]
    }
   ],
   "source": [
    "help(f_oneway)"
   ]
  },
  {
   "cell_type": "code",
   "execution_count": 64,
   "id": "6dde1f22",
   "metadata": {},
   "outputs": [
    {
     "data": {
      "text/html": [
       "<div>\n",
       "<style scoped>\n",
       "    .dataframe tbody tr th:only-of-type {\n",
       "        vertical-align: middle;\n",
       "    }\n",
       "\n",
       "    .dataframe tbody tr th {\n",
       "        vertical-align: top;\n",
       "    }\n",
       "\n",
       "    .dataframe thead th {\n",
       "        text-align: right;\n",
       "    }\n",
       "</style>\n",
       "<table border=\"1\" class=\"dataframe\">\n",
       "  <thead>\n",
       "    <tr style=\"text-align: right;\">\n",
       "      <th></th>\n",
       "      <th>variable</th>\n",
       "      <th>stat</th>\n",
       "      <th>p_value</th>\n",
       "    </tr>\n",
       "  </thead>\n",
       "  <tbody>\n",
       "    <tr>\n",
       "      <th>0</th>\n",
       "      <td>montant_pret</td>\n",
       "      <td>33.792800</td>\n",
       "      <td>6.448273e-09</td>\n",
       "    </tr>\n",
       "    <tr>\n",
       "      <th>1</th>\n",
       "      <td>hypo</td>\n",
       "      <td>12.652409</td>\n",
       "      <td>3.779976e-04</td>\n",
       "    </tr>\n",
       "    <tr>\n",
       "      <th>2</th>\n",
       "      <td>valeur_prop</td>\n",
       "      <td>7.944813</td>\n",
       "      <td>4.838447e-03</td>\n",
       "    </tr>\n",
       "    <tr>\n",
       "      <th>3</th>\n",
       "      <td>annee_emploi</td>\n",
       "      <td>20.329566</td>\n",
       "      <td>6.643425e-06</td>\n",
       "    </tr>\n",
       "    <tr>\n",
       "      <th>4</th>\n",
       "      <td>signal</td>\n",
       "      <td>446.606907</td>\n",
       "      <td>1.188443e-95</td>\n",
       "    </tr>\n",
       "    <tr>\n",
       "      <th>5</th>\n",
       "      <td>cred_souffre</td>\n",
       "      <td>786.419992</td>\n",
       "      <td>1.199135e-162</td>\n",
       "    </tr>\n",
       "    <tr>\n",
       "      <th>6</th>\n",
       "      <td>age_cred</td>\n",
       "      <td>166.981128</td>\n",
       "      <td>1.079815e-37</td>\n",
       "    </tr>\n",
       "    <tr>\n",
       "      <th>7</th>\n",
       "      <td>nbre_demande</td>\n",
       "      <td>174.852019</td>\n",
       "      <td>2.302823e-39</td>\n",
       "    </tr>\n",
       "    <tr>\n",
       "      <th>8</th>\n",
       "      <td>nbre_credit</td>\n",
       "      <td>0.122945</td>\n",
       "      <td>7.258743e-01</td>\n",
       "    </tr>\n",
       "    <tr>\n",
       "      <th>9</th>\n",
       "      <td>dette_rev</td>\n",
       "      <td>93.534858</td>\n",
       "      <td>5.784140e-22</td>\n",
       "    </tr>\n",
       "  </tbody>\n",
       "</table>\n",
       "</div>"
      ],
      "text/plain": [
       "       variable        stat        p_value\n",
       "0  montant_pret   33.792800   6.448273e-09\n",
       "1          hypo   12.652409   3.779976e-04\n",
       "2   valeur_prop    7.944813   4.838447e-03\n",
       "3  annee_emploi   20.329566   6.643425e-06\n",
       "4        signal  446.606907   1.188443e-95\n",
       "5  cred_souffre  786.419992  1.199135e-162\n",
       "6      age_cred  166.981128   1.079815e-37\n",
       "7  nbre_demande  174.852019   2.302823e-39\n",
       "8   nbre_credit    0.122945   7.258743e-01\n",
       "9     dette_rev   93.534858   5.784140e-22"
      ]
     },
     "execution_count": 64,
     "metadata": {},
     "output_type": "execute_result"
    }
   ],
   "source": [
    "####\n",
    "stat_val, pval=f_oneway(y0[var_copy],y1[var_copy])\n",
    "\n",
    "res_anova=pd.DataFrame({'variable':var_copy,\n",
    "                       'stat':stat_val,\n",
    "                       'p_value' :pval})\n",
    "res_anova"
   ]
  },
  {
   "cell_type": "markdown",
   "id": "270c0e32",
   "metadata": {},
   "source": [
    "# Normalité des variables"
   ]
  },
  {
   "cell_type": "markdown",
   "id": "dc0a7367",
   "metadata": {},
   "source": [
    "### Skewness et Kurtosis"
   ]
  },
  {
   "cell_type": "code",
   "execution_count": 65,
   "id": "a0e00b0a",
   "metadata": {},
   "outputs": [],
   "source": [
    "from scipy.stats import skew, kurtosis"
   ]
  },
  {
   "cell_type": "markdown",
   "id": "d6973d02",
   "metadata": {},
   "source": [
    "Classe 0"
   ]
  },
  {
   "cell_type": "code",
   "execution_count": 66,
   "id": "a346cbdc",
   "metadata": {},
   "outputs": [
    {
     "data": {
      "text/html": [
       "<div>\n",
       "<style scoped>\n",
       "    .dataframe tbody tr th:only-of-type {\n",
       "        vertical-align: middle;\n",
       "    }\n",
       "\n",
       "    .dataframe tbody tr th {\n",
       "        vertical-align: top;\n",
       "    }\n",
       "\n",
       "    .dataframe thead th {\n",
       "        text-align: right;\n",
       "    }\n",
       "</style>\n",
       "<table border=\"1\" class=\"dataframe\">\n",
       "  <thead>\n",
       "    <tr style=\"text-align: right;\">\n",
       "      <th></th>\n",
       "      <th>Variable</th>\n",
       "      <th>symétrie</th>\n",
       "      <th>applatissement</th>\n",
       "    </tr>\n",
       "  </thead>\n",
       "  <tbody>\n",
       "    <tr>\n",
       "      <th>0</th>\n",
       "      <td>montant_pret</td>\n",
       "      <td>2.148768</td>\n",
       "      <td>7.792859</td>\n",
       "    </tr>\n",
       "    <tr>\n",
       "      <th>1</th>\n",
       "      <td>hypo</td>\n",
       "      <td>1.763267</td>\n",
       "      <td>6.268184</td>\n",
       "    </tr>\n",
       "    <tr>\n",
       "      <th>2</th>\n",
       "      <td>valeur_prop</td>\n",
       "      <td>1.768143</td>\n",
       "      <td>5.510114</td>\n",
       "    </tr>\n",
       "    <tr>\n",
       "      <th>3</th>\n",
       "      <td>annee_emploi</td>\n",
       "      <td>0.991560</td>\n",
       "      <td>0.496857</td>\n",
       "    </tr>\n",
       "    <tr>\n",
       "      <th>4</th>\n",
       "      <td>signal</td>\n",
       "      <td>5.993423</td>\n",
       "      <td>49.361378</td>\n",
       "    </tr>\n",
       "    <tr>\n",
       "      <th>5</th>\n",
       "      <td>cred_souffre</td>\n",
       "      <td>3.525376</td>\n",
       "      <td>14.902346</td>\n",
       "    </tr>\n",
       "    <tr>\n",
       "      <th>6</th>\n",
       "      <td>age_cred</td>\n",
       "      <td>0.935877</td>\n",
       "      <td>2.462848</td>\n",
       "    </tr>\n",
       "    <tr>\n",
       "      <th>7</th>\n",
       "      <td>nbre_demande</td>\n",
       "      <td>2.773101</td>\n",
       "      <td>11.431806</td>\n",
       "    </tr>\n",
       "    <tr>\n",
       "      <th>8</th>\n",
       "      <td>nbre_credit</td>\n",
       "      <td>0.774890</td>\n",
       "      <td>1.031151</td>\n",
       "    </tr>\n",
       "    <tr>\n",
       "      <th>9</th>\n",
       "      <td>dette_rev</td>\n",
       "      <td>-0.964605</td>\n",
       "      <td>1.316854</td>\n",
       "    </tr>\n",
       "  </tbody>\n",
       "</table>\n",
       "</div>"
      ],
      "text/plain": [
       "       Variable  symétrie  applatissement\n",
       "0  montant_pret  2.148768        7.792859\n",
       "1          hypo  1.763267        6.268184\n",
       "2   valeur_prop  1.768143        5.510114\n",
       "3  annee_emploi  0.991560        0.496857\n",
       "4        signal  5.993423       49.361378\n",
       "5  cred_souffre  3.525376       14.902346\n",
       "6      age_cred  0.935877        2.462848\n",
       "7  nbre_demande  2.773101       11.431806\n",
       "8   nbre_credit  0.774890        1.031151\n",
       "9     dette_rev -0.964605        1.316854"
      ]
     },
     "execution_count": 66,
     "metadata": {},
     "output_type": "execute_result"
    }
   ],
   "source": [
    "###\n",
    "sym=[]\n",
    "applat=[]\n",
    "VAR=[]\n",
    "###\n",
    "for var in hmeq_num.columns[1:]:\n",
    "    VAR.append(var)\n",
    "    sym.append(skew(y0[var]))\n",
    "    applat.append(kurtosis(y0[var]))\n",
    "\n",
    "    \n",
    "y0_norm=pd.DataFrame({\n",
    "    'Variable':VAR,\n",
    "    'symétrie':sym,\n",
    "    'applatissement' : applat\n",
    "})\n",
    "\n",
    "y0_norm"
   ]
  },
  {
   "cell_type": "markdown",
   "id": "d1a6b3b1",
   "metadata": {},
   "source": [
    "Classe 1 "
   ]
  },
  {
   "cell_type": "code",
   "execution_count": 67,
   "id": "42656742",
   "metadata": {},
   "outputs": [
    {
     "data": {
      "text/html": [
       "<div>\n",
       "<style scoped>\n",
       "    .dataframe tbody tr th:only-of-type {\n",
       "        vertical-align: middle;\n",
       "    }\n",
       "\n",
       "    .dataframe tbody tr th {\n",
       "        vertical-align: top;\n",
       "    }\n",
       "\n",
       "    .dataframe thead th {\n",
       "        text-align: right;\n",
       "    }\n",
       "</style>\n",
       "<table border=\"1\" class=\"dataframe\">\n",
       "  <thead>\n",
       "    <tr style=\"text-align: right;\">\n",
       "      <th></th>\n",
       "      <th>Variable</th>\n",
       "      <th>symétrie</th>\n",
       "      <th>applatissement</th>\n",
       "    </tr>\n",
       "  </thead>\n",
       "  <tbody>\n",
       "    <tr>\n",
       "      <th>0</th>\n",
       "      <td>montant_pret</td>\n",
       "      <td>1.663643</td>\n",
       "      <td>3.944150</td>\n",
       "    </tr>\n",
       "    <tr>\n",
       "      <th>1</th>\n",
       "      <td>hypo</td>\n",
       "      <td>2.368014</td>\n",
       "      <td>10.778869</td>\n",
       "    </tr>\n",
       "    <tr>\n",
       "      <th>2</th>\n",
       "      <td>valeur_prop</td>\n",
       "      <td>5.134644</td>\n",
       "      <td>45.129284</td>\n",
       "    </tr>\n",
       "    <tr>\n",
       "      <th>3</th>\n",
       "      <td>annee_emploi</td>\n",
       "      <td>1.218924</td>\n",
       "      <td>1.673855</td>\n",
       "    </tr>\n",
       "    <tr>\n",
       "      <th>4</th>\n",
       "      <td>signal</td>\n",
       "      <td>3.237705</td>\n",
       "      <td>12.394274</td>\n",
       "    </tr>\n",
       "    <tr>\n",
       "      <th>5</th>\n",
       "      <td>cred_souffre</td>\n",
       "      <td>2.410436</td>\n",
       "      <td>7.847979</td>\n",
       "    </tr>\n",
       "    <tr>\n",
       "      <th>6</th>\n",
       "      <td>age_cred</td>\n",
       "      <td>3.486034</td>\n",
       "      <td>36.815012</td>\n",
       "    </tr>\n",
       "    <tr>\n",
       "      <th>7</th>\n",
       "      <td>nbre_demande</td>\n",
       "      <td>2.208870</td>\n",
       "      <td>6.656958</td>\n",
       "    </tr>\n",
       "    <tr>\n",
       "      <th>8</th>\n",
       "      <td>nbre_credit</td>\n",
       "      <td>0.847420</td>\n",
       "      <td>1.528802</td>\n",
       "    </tr>\n",
       "    <tr>\n",
       "      <th>9</th>\n",
       "      <td>dette_rev</td>\n",
       "      <td>6.524384</td>\n",
       "      <td>79.426936</td>\n",
       "    </tr>\n",
       "  </tbody>\n",
       "</table>\n",
       "</div>"
      ],
      "text/plain": [
       "       Variable  symétrie  applatissement\n",
       "0  montant_pret  1.663643        3.944150\n",
       "1          hypo  2.368014       10.778869\n",
       "2   valeur_prop  5.134644       45.129284\n",
       "3  annee_emploi  1.218924        1.673855\n",
       "4        signal  3.237705       12.394274\n",
       "5  cred_souffre  2.410436        7.847979\n",
       "6      age_cred  3.486034       36.815012\n",
       "7  nbre_demande  2.208870        6.656958\n",
       "8   nbre_credit  0.847420        1.528802\n",
       "9     dette_rev  6.524384       79.426936"
      ]
     },
     "execution_count": 67,
     "metadata": {},
     "output_type": "execute_result"
    }
   ],
   "source": [
    "###\n",
    "sym=[]\n",
    "applat=[]\n",
    "VAR=[]\n",
    "###\n",
    "for var in hmeq_num.columns[1:]:\n",
    "    VAR.append(var)\n",
    "    sym.append(skew(y1[var]))\n",
    "    applat.append(kurtosis(y1[var]))\n",
    "\n",
    "    \n",
    "y1_norm=pd.DataFrame({\n",
    "    'Variable':VAR,\n",
    "    'symétrie':sym,\n",
    "    'applatissement' : applat\n",
    "})\n",
    "\n",
    "y1_norm"
   ]
  },
  {
   "cell_type": "markdown",
   "id": "9f79cb5c",
   "metadata": {},
   "source": [
    "### Histogramme"
   ]
  },
  {
   "cell_type": "code",
   "execution_count": 68,
   "id": "b88ed96f",
   "metadata": {},
   "outputs": [
    {
     "data": {
      "image/png": "[encoded data removed]",
      "text/plain": [
       "<Figure size 1152x864 with 12 Axes>"
      ]
     },
     "metadata": {
      "needs_background": "light"
     },
     "output_type": "display_data"
    }
   ],
   "source": [
    "_=hmeq_new[hmeq_num.columns[1:]].hist(figsize=(16,12))"
   ]
  },
  {
   "cell_type": "markdown",
   "id": "701ace6b",
   "metadata": {},
   "source": [
    "### Test de Shapiro"
   ]
  },
  {
   "cell_type": "markdown",
   "id": "2de2f2ef",
   "metadata": {},
   "source": [
    "Classe 0"
   ]
  },
  {
   "cell_type": "code",
   "execution_count": 69,
   "id": "c7dbe8e2",
   "metadata": {},
   "outputs": [
    {
     "data": {
      "text/html": [
       "<div>\n",
       "<style scoped>\n",
       "    .dataframe tbody tr th:only-of-type {\n",
       "        vertical-align: middle;\n",
       "    }\n",
       "\n",
       "    .dataframe tbody tr th {\n",
       "        vertical-align: top;\n",
       "    }\n",
       "\n",
       "    .dataframe thead th {\n",
       "        text-align: right;\n",
       "    }\n",
       "</style>\n",
       "<table border=\"1\" class=\"dataframe\">\n",
       "  <thead>\n",
       "    <tr style=\"text-align: right;\">\n",
       "      <th></th>\n",
       "      <th>variables</th>\n",
       "      <th>statistic</th>\n",
       "      <th>p-value</th>\n",
       "    </tr>\n",
       "  </thead>\n",
       "  <tbody>\n",
       "    <tr>\n",
       "      <th>0</th>\n",
       "      <td>montant_pret</td>\n",
       "      <td>0.839861</td>\n",
       "      <td>0.000000e+00</td>\n",
       "    </tr>\n",
       "    <tr>\n",
       "      <th>1</th>\n",
       "      <td>hypo</td>\n",
       "      <td>0.882699</td>\n",
       "      <td>0.000000e+00</td>\n",
       "    </tr>\n",
       "    <tr>\n",
       "      <th>2</th>\n",
       "      <td>valeur_prop</td>\n",
       "      <td>0.871156</td>\n",
       "      <td>0.000000e+00</td>\n",
       "    </tr>\n",
       "    <tr>\n",
       "      <th>3</th>\n",
       "      <td>annee_emploi</td>\n",
       "      <td>0.913049</td>\n",
       "      <td>0.000000e+00</td>\n",
       "    </tr>\n",
       "    <tr>\n",
       "      <th>4</th>\n",
       "      <td>signal</td>\n",
       "      <td>0.339266</td>\n",
       "      <td>0.000000e+00</td>\n",
       "    </tr>\n",
       "    <tr>\n",
       "      <th>5</th>\n",
       "      <td>cred_souffre</td>\n",
       "      <td>0.477061</td>\n",
       "      <td>0.000000e+00</td>\n",
       "    </tr>\n",
       "    <tr>\n",
       "      <th>6</th>\n",
       "      <td>age_cred</td>\n",
       "      <td>0.954426</td>\n",
       "      <td>3.337076e-36</td>\n",
       "    </tr>\n",
       "    <tr>\n",
       "      <th>7</th>\n",
       "      <td>nbre_demande</td>\n",
       "      <td>0.691129</td>\n",
       "      <td>0.000000e+00</td>\n",
       "    </tr>\n",
       "    <tr>\n",
       "      <th>8</th>\n",
       "      <td>nbre_credit</td>\n",
       "      <td>0.963477</td>\n",
       "      <td>4.187294e-33</td>\n",
       "    </tr>\n",
       "    <tr>\n",
       "      <th>9</th>\n",
       "      <td>dette_rev</td>\n",
       "      <td>0.944938</td>\n",
       "      <td>5.777524e-39</td>\n",
       "    </tr>\n",
       "  </tbody>\n",
       "</table>\n",
       "</div>"
      ],
      "text/plain": [
       "      variables  statistic       p-value\n",
       "0  montant_pret   0.839861  0.000000e+00\n",
       "1          hypo   0.882699  0.000000e+00\n",
       "2   valeur_prop   0.871156  0.000000e+00\n",
       "3  annee_emploi   0.913049  0.000000e+00\n",
       "4        signal   0.339266  0.000000e+00\n",
       "5  cred_souffre   0.477061  0.000000e+00\n",
       "6      age_cred   0.954426  3.337076e-36\n",
       "7  nbre_demande   0.691129  0.000000e+00\n",
       "8   nbre_credit   0.963477  4.187294e-33\n",
       "9     dette_rev   0.944938  5.777524e-39"
      ]
     },
     "execution_count": 69,
     "metadata": {},
     "output_type": "execute_result"
    }
   ],
   "source": [
    "###\n",
    "stat0=[]\n",
    "pv0=[]\n",
    "\n",
    "for var in hmeq_num.columns[1:]:\n",
    "    N_stat=stats.shapiro(y0[var])\n",
    "    stat0.append(N_stat.statistic)\n",
    "    pv0.append(N_stat.pvalue)\n",
    "\n",
    "y0_shapiro=pd.DataFrame({\n",
    "    'variables': hmeq_num.columns[1:],\n",
    "    'statistic':stat0,\n",
    "    'p-value':pv0\n",
    "})\n",
    "y0_shapiro"
   ]
  },
  {
   "cell_type": "markdown",
   "id": "ee396510",
   "metadata": {},
   "source": [
    "Classe 1"
   ]
  },
  {
   "cell_type": "code",
   "execution_count": 70,
   "id": "ec80ca71",
   "metadata": {},
   "outputs": [
    {
     "data": {
      "text/html": [
       "<div>\n",
       "<style scoped>\n",
       "    .dataframe tbody tr th:only-of-type {\n",
       "        vertical-align: middle;\n",
       "    }\n",
       "\n",
       "    .dataframe tbody tr th {\n",
       "        vertical-align: top;\n",
       "    }\n",
       "\n",
       "    .dataframe thead th {\n",
       "        text-align: right;\n",
       "    }\n",
       "</style>\n",
       "<table border=\"1\" class=\"dataframe\">\n",
       "  <thead>\n",
       "    <tr style=\"text-align: right;\">\n",
       "      <th></th>\n",
       "      <th>variables</th>\n",
       "      <th>statistic</th>\n",
       "      <th>p-value</th>\n",
       "    </tr>\n",
       "  </thead>\n",
       "  <tbody>\n",
       "    <tr>\n",
       "      <th>0</th>\n",
       "      <td>montant_pret</td>\n",
       "      <td>0.870638</td>\n",
       "      <td>2.947418e-30</td>\n",
       "    </tr>\n",
       "    <tr>\n",
       "      <th>1</th>\n",
       "      <td>hypo</td>\n",
       "      <td>0.831010</td>\n",
       "      <td>1.142985e-33</td>\n",
       "    </tr>\n",
       "    <tr>\n",
       "      <th>2</th>\n",
       "      <td>valeur_prop</td>\n",
       "      <td>0.646421</td>\n",
       "      <td>4.344025e-44</td>\n",
       "    </tr>\n",
       "    <tr>\n",
       "      <th>3</th>\n",
       "      <td>annee_emploi</td>\n",
       "      <td>0.898133</td>\n",
       "      <td>2.279235e-27</td>\n",
       "    </tr>\n",
       "    <tr>\n",
       "      <th>4</th>\n",
       "      <td>signal</td>\n",
       "      <td>0.538666</td>\n",
       "      <td>0.000000e+00</td>\n",
       "    </tr>\n",
       "    <tr>\n",
       "      <th>5</th>\n",
       "      <td>cred_souffre</td>\n",
       "      <td>0.681448</td>\n",
       "      <td>1.579263e-42</td>\n",
       "    </tr>\n",
       "    <tr>\n",
       "      <th>6</th>\n",
       "      <td>age_cred</td>\n",
       "      <td>0.827312</td>\n",
       "      <td>5.932976e-34</td>\n",
       "    </tr>\n",
       "    <tr>\n",
       "      <th>7</th>\n",
       "      <td>nbre_demande</td>\n",
       "      <td>0.755597</td>\n",
       "      <td>1.078126e-38</td>\n",
       "    </tr>\n",
       "    <tr>\n",
       "      <th>8</th>\n",
       "      <td>nbre_credit</td>\n",
       "      <td>0.959383</td>\n",
       "      <td>1.114468e-17</td>\n",
       "    </tr>\n",
       "    <tr>\n",
       "      <th>9</th>\n",
       "      <td>dette_rev</td>\n",
       "      <td>0.448242</td>\n",
       "      <td>0.000000e+00</td>\n",
       "    </tr>\n",
       "  </tbody>\n",
       "</table>\n",
       "</div>"
      ],
      "text/plain": [
       "      variables  statistic       p-value\n",
       "0  montant_pret   0.870638  2.947418e-30\n",
       "1          hypo   0.831010  1.142985e-33\n",
       "2   valeur_prop   0.646421  4.344025e-44\n",
       "3  annee_emploi   0.898133  2.279235e-27\n",
       "4        signal   0.538666  0.000000e+00\n",
       "5  cred_souffre   0.681448  1.579263e-42\n",
       "6      age_cred   0.827312  5.932976e-34\n",
       "7  nbre_demande   0.755597  1.078126e-38\n",
       "8   nbre_credit   0.959383  1.114468e-17\n",
       "9     dette_rev   0.448242  0.000000e+00"
      ]
     },
     "execution_count": 70,
     "metadata": {},
     "output_type": "execute_result"
    }
   ],
   "source": [
    "###\n",
    "stat1=[]\n",
    "pv1=[]\n",
    "\n",
    "for var in hmeq_num.columns[1:]:\n",
    "    N_stat=stats.shapiro(y1[var])\n",
    "    stat1.append(N_stat.statistic)\n",
    "    pv1.append(N_stat.pvalue)\n",
    "\n",
    "y1_shapiro=pd.DataFrame({\n",
    "    'variables': hmeq_num.columns[1:],\n",
    "    'statistic':stat1,\n",
    "    'p-value':pv1\n",
    "})\n",
    "y1_shapiro"
   ]
  },
  {
   "cell_type": "markdown",
   "id": "a3053185",
   "metadata": {},
   "source": [
    "# Résumé "
   ]
  },
  {
   "cell_type": "markdown",
   "id": "f974f394",
   "metadata": {},
   "source": [
    "1) Les variables fortement corrélées sont '$\\textbf{la valeur de la propriété}$' et '$\\textbf{hypo}$'.\n",
    "\n",
    "2) Les médianes sont différentes dans les deux classes (test de Kruskal-Wallis) pour toutes les variables quantitatives sauf la variable '$\\textbf{nombre de crédit}$'.\n",
    "\n",
    "3) Les moyennes des deux classes sont différentes (ANOVA) par variables quantitatives sauf la variable '$\\textbf{nombre de crédit}$'.\n",
    "\n",
    "4) Les deux variables qualitatives sont dépendantes des classes.\n",
    "\n",
    "5) Les variables quantitatives dans les deux classes ne suivent pas des lois gaussiennes."
   ]
  },
  {
   "cell_type": "markdown",
   "id": "036f9784",
   "metadata": {},
   "source": [
    "# Conversion des variables catégorielles en variables indicatrices"
   ]
  },
  {
   "cell_type": "code",
   "execution_count": 71,
   "id": "f40f06a6",
   "metadata": {},
   "outputs": [
    {
     "name": "stdout",
     "output_type": "stream",
     "text": [
      "Help on function get_dummies in module pandas.core.reshape.reshape:\n",
      "\n",
      "get_dummies(data, prefix=None, prefix_sep='_', dummy_na: 'bool' = False, columns=None, sparse: 'bool' = False, drop_first: 'bool' = False, dtype: 'Dtype | None' = None) -> 'DataFrame'\n",
      "    Convert categorical variable into dummy/indicator variables.\n",
      "    \n",
      "    Parameters\n",
      "    ----------\n",
      "    data : array-like, Series, or DataFrame\n",
      "        Data of which to get dummy indicators.\n",
      "    prefix : str, list of str, or dict of str, default None\n",
      "        String to append DataFrame column names.\n",
      "        Pass a list with length equal to the number of columns\n",
      "        when calling get_dummies on a DataFrame. Alternatively, `prefix`\n",
      "        can be a dictionary mapping column names to prefixes.\n",
      "    prefix_sep : str, default '_'\n",
      "        If appending prefix, separator/delimiter to use. Or pass a\n",
      "        list or dictionary as with `prefix`.\n",
      "    dummy_na : bool, default False\n",
      "        Add a column to indicate NaNs, if False NaNs are ignored.\n",
      "    columns : list-like, default None\n",
      "        Column names in the DataFrame to be encoded.\n",
      "        If `columns` is None then all the columns with\n",
      "        `object` or `category` dtype will be converted.\n",
      "    sparse : bool, default False\n",
      "        Whether the dummy-encoded columns should be backed by\n",
      "        a :class:`SparseArray` (True) or a regular NumPy array (False).\n",
      "    drop_first : bool, default False\n",
      "        Whether to get k-1 dummies out of k categorical levels by removing the\n",
      "        first level.\n",
      "    dtype : dtype, default np.uint8\n",
      "        Data type for new columns. Only a single dtype is allowed.\n",
      "    \n",
      "    Returns\n",
      "    -------\n",
      "    DataFrame\n",
      "        Dummy-coded data.\n",
      "    \n",
      "    See Also\n",
      "    --------\n",
      "    Series.str.get_dummies : Convert Series to dummy codes.\n",
      "    \n",
      "    Notes\n",
      "    -----\n",
      "    Reference :ref:`the user guide <reshaping.dummies>` for more examples.\n",
      "    \n",
      "    Examples\n",
      "    --------\n",
      "    >>> s = pd.Series(list('abca'))\n",
      "    \n",
      "    >>> pd.get_dummies(s)\n",
      "       a  b  c\n",
      "    0  1  0  0\n",
      "    1  0  1  0\n",
      "    2  0  0  1\n",
      "    3  1  0  0\n",
      "    \n",
      "    >>> s1 = ['a', 'b', np.nan]\n",
      "    \n",
      "    >>> pd.get_dummies(s1)\n",
      "       a  b\n",
      "    0  1  0\n",
      "    1  0  1\n",
      "    2  0  0\n",
      "    \n",
      "    >>> pd.get_dummies(s1, dummy_na=True)\n",
      "       a  b  NaN\n",
      "    0  1  0    0\n",
      "    1  0  1    0\n",
      "    2  0  0    1\n",
      "    \n",
      "    >>> df = pd.DataFrame({'A': ['a', 'b', 'a'], 'B': ['b', 'a', 'c'],\n",
      "    ...                    'C': [1, 2, 3]})\n",
      "    \n",
      "    >>> pd.get_dummies(df, prefix=['col1', 'col2'])\n",
      "       C  col1_a  col1_b  col2_a  col2_b  col2_c\n",
      "    0  1       1       0       0       1       0\n",
      "    1  2       0       1       1       0       0\n",
      "    2  3       1       0       0       0       1\n",
      "    \n",
      "    >>> pd.get_dummies(pd.Series(list('abcaa')))\n",
      "       a  b  c\n",
      "    0  1  0  0\n",
      "    1  0  1  0\n",
      "    2  0  0  1\n",
      "    3  1  0  0\n",
      "    4  1  0  0\n",
      "    \n",
      "    >>> pd.get_dummies(pd.Series(list('abcaa')), drop_first=True)\n",
      "       b  c\n",
      "    0  0  0\n",
      "    1  1  0\n",
      "    2  0  1\n",
      "    3  0  0\n",
      "    4  0  0\n",
      "    \n",
      "    >>> pd.get_dummies(pd.Series(list('abc')), dtype=float)\n",
      "         a    b    c\n",
      "    0  1.0  0.0  0.0\n",
      "    1  0.0  1.0  0.0\n",
      "    2  0.0  0.0  1.0\n",
      "\n"
     ]
    }
   ],
   "source": [
    "help(pd.get_dummies)"
   ]
  },
  {
   "cell_type": "code",
   "execution_count": 72,
   "id": "7350eeaa",
   "metadata": {},
   "outputs": [
    {
     "data": {
      "text/html": [
       "<div>\n",
       "<style scoped>\n",
       "    .dataframe tbody tr th:only-of-type {\n",
       "        vertical-align: middle;\n",
       "    }\n",
       "\n",
       "    .dataframe tbody tr th {\n",
       "        vertical-align: top;\n",
       "    }\n",
       "\n",
       "    .dataframe thead th {\n",
       "        text-align: right;\n",
       "    }\n",
       "</style>\n",
       "<table border=\"1\" class=\"dataframe\">\n",
       "  <thead>\n",
       "    <tr style=\"text-align: right;\">\n",
       "      <th></th>\n",
       "      <th>reponse</th>\n",
       "      <th>montant_pret</th>\n",
       "      <th>valeur_prop</th>\n",
       "      <th>nbre_credit</th>\n",
       "      <th>hypo</th>\n",
       "      <th>annee_emploi</th>\n",
       "      <th>signal</th>\n",
       "      <th>cred_souffre</th>\n",
       "      <th>age_cred</th>\n",
       "      <th>nbre_demande</th>\n",
       "      <th>dette_rev</th>\n",
       "      <th>but_HomeImp</th>\n",
       "      <th>emploi_Office</th>\n",
       "      <th>emploi_Other</th>\n",
       "      <th>emploi_ProfExe</th>\n",
       "      <th>emploi_Sales</th>\n",
       "      <th>emploi_Self</th>\n",
       "    </tr>\n",
       "  </thead>\n",
       "  <tbody>\n",
       "    <tr>\n",
       "      <th>0</th>\n",
       "      <td>1</td>\n",
       "      <td>1100</td>\n",
       "      <td>39025.0</td>\n",
       "      <td>9.0</td>\n",
       "      <td>25860.0000</td>\n",
       "      <td>10.500000</td>\n",
       "      <td>0.00000</td>\n",
       "      <td>0.000000</td>\n",
       "      <td>94.366667</td>\n",
       "      <td>1.000000</td>\n",
       "      <td>33.779915</td>\n",
       "      <td>1</td>\n",
       "      <td>0</td>\n",
       "      <td>1</td>\n",
       "      <td>0</td>\n",
       "      <td>0</td>\n",
       "      <td>0</td>\n",
       "    </tr>\n",
       "    <tr>\n",
       "      <th>1</th>\n",
       "      <td>1</td>\n",
       "      <td>1300</td>\n",
       "      <td>68400.0</td>\n",
       "      <td>14.0</td>\n",
       "      <td>70053.0000</td>\n",
       "      <td>7.000000</td>\n",
       "      <td>0.00000</td>\n",
       "      <td>2.000000</td>\n",
       "      <td>121.833333</td>\n",
       "      <td>0.000000</td>\n",
       "      <td>33.779915</td>\n",
       "      <td>1</td>\n",
       "      <td>0</td>\n",
       "      <td>1</td>\n",
       "      <td>0</td>\n",
       "      <td>0</td>\n",
       "      <td>0</td>\n",
       "    </tr>\n",
       "    <tr>\n",
       "      <th>2</th>\n",
       "      <td>1</td>\n",
       "      <td>1500</td>\n",
       "      <td>16700.0</td>\n",
       "      <td>10.0</td>\n",
       "      <td>13500.0000</td>\n",
       "      <td>4.000000</td>\n",
       "      <td>0.00000</td>\n",
       "      <td>0.000000</td>\n",
       "      <td>149.466667</td>\n",
       "      <td>1.000000</td>\n",
       "      <td>33.779915</td>\n",
       "      <td>1</td>\n",
       "      <td>0</td>\n",
       "      <td>1</td>\n",
       "      <td>0</td>\n",
       "      <td>0</td>\n",
       "      <td>0</td>\n",
       "    </tr>\n",
       "    <tr>\n",
       "      <th>3</th>\n",
       "      <td>1</td>\n",
       "      <td>1500</td>\n",
       "      <td>89235.5</td>\n",
       "      <td>20.0</td>\n",
       "      <td>73760.8172</td>\n",
       "      <td>8.922268</td>\n",
       "      <td>0.25457</td>\n",
       "      <td>0.449442</td>\n",
       "      <td>179.766275</td>\n",
       "      <td>1.186055</td>\n",
       "      <td>33.779915</td>\n",
       "      <td>0</td>\n",
       "      <td>0</td>\n",
       "      <td>1</td>\n",
       "      <td>0</td>\n",
       "      <td>0</td>\n",
       "      <td>0</td>\n",
       "    </tr>\n",
       "    <tr>\n",
       "      <th>4</th>\n",
       "      <td>0</td>\n",
       "      <td>1700</td>\n",
       "      <td>112000.0</td>\n",
       "      <td>14.0</td>\n",
       "      <td>97800.0000</td>\n",
       "      <td>3.000000</td>\n",
       "      <td>0.00000</td>\n",
       "      <td>0.000000</td>\n",
       "      <td>93.333333</td>\n",
       "      <td>0.000000</td>\n",
       "      <td>33.779915</td>\n",
       "      <td>1</td>\n",
       "      <td>1</td>\n",
       "      <td>0</td>\n",
       "      <td>0</td>\n",
       "      <td>0</td>\n",
       "      <td>0</td>\n",
       "    </tr>\n",
       "    <tr>\n",
       "      <th>...</th>\n",
       "      <td>...</td>\n",
       "      <td>...</td>\n",
       "      <td>...</td>\n",
       "      <td>...</td>\n",
       "      <td>...</td>\n",
       "      <td>...</td>\n",
       "      <td>...</td>\n",
       "      <td>...</td>\n",
       "      <td>...</td>\n",
       "      <td>...</td>\n",
       "      <td>...</td>\n",
       "      <td>...</td>\n",
       "      <td>...</td>\n",
       "      <td>...</td>\n",
       "      <td>...</td>\n",
       "      <td>...</td>\n",
       "      <td>...</td>\n",
       "    </tr>\n",
       "    <tr>\n",
       "      <th>5955</th>\n",
       "      <td>0</td>\n",
       "      <td>88900</td>\n",
       "      <td>90185.0</td>\n",
       "      <td>16.0</td>\n",
       "      <td>57264.0000</td>\n",
       "      <td>16.000000</td>\n",
       "      <td>0.00000</td>\n",
       "      <td>0.000000</td>\n",
       "      <td>221.808718</td>\n",
       "      <td>0.000000</td>\n",
       "      <td>36.112347</td>\n",
       "      <td>0</td>\n",
       "      <td>0</td>\n",
       "      <td>1</td>\n",
       "      <td>0</td>\n",
       "      <td>0</td>\n",
       "      <td>0</td>\n",
       "    </tr>\n",
       "    <tr>\n",
       "      <th>5956</th>\n",
       "      <td>0</td>\n",
       "      <td>89000</td>\n",
       "      <td>92937.0</td>\n",
       "      <td>15.0</td>\n",
       "      <td>54576.0000</td>\n",
       "      <td>16.000000</td>\n",
       "      <td>0.00000</td>\n",
       "      <td>0.000000</td>\n",
       "      <td>208.692070</td>\n",
       "      <td>0.000000</td>\n",
       "      <td>35.859971</td>\n",
       "      <td>0</td>\n",
       "      <td>0</td>\n",
       "      <td>1</td>\n",
       "      <td>0</td>\n",
       "      <td>0</td>\n",
       "      <td>0</td>\n",
       "    </tr>\n",
       "    <tr>\n",
       "      <th>5957</th>\n",
       "      <td>0</td>\n",
       "      <td>89200</td>\n",
       "      <td>92924.0</td>\n",
       "      <td>15.0</td>\n",
       "      <td>54045.0000</td>\n",
       "      <td>15.000000</td>\n",
       "      <td>0.00000</td>\n",
       "      <td>0.000000</td>\n",
       "      <td>212.279697</td>\n",
       "      <td>0.000000</td>\n",
       "      <td>35.556590</td>\n",
       "      <td>0</td>\n",
       "      <td>0</td>\n",
       "      <td>1</td>\n",
       "      <td>0</td>\n",
       "      <td>0</td>\n",
       "      <td>0</td>\n",
       "    </tr>\n",
       "    <tr>\n",
       "      <th>5958</th>\n",
       "      <td>0</td>\n",
       "      <td>89800</td>\n",
       "      <td>91861.0</td>\n",
       "      <td>16.0</td>\n",
       "      <td>50370.0000</td>\n",
       "      <td>14.000000</td>\n",
       "      <td>0.00000</td>\n",
       "      <td>0.000000</td>\n",
       "      <td>213.892709</td>\n",
       "      <td>0.000000</td>\n",
       "      <td>34.340882</td>\n",
       "      <td>0</td>\n",
       "      <td>0</td>\n",
       "      <td>1</td>\n",
       "      <td>0</td>\n",
       "      <td>0</td>\n",
       "      <td>0</td>\n",
       "    </tr>\n",
       "    <tr>\n",
       "      <th>5959</th>\n",
       "      <td>0</td>\n",
       "      <td>89900</td>\n",
       "      <td>88934.0</td>\n",
       "      <td>16.0</td>\n",
       "      <td>48811.0000</td>\n",
       "      <td>15.000000</td>\n",
       "      <td>0.00000</td>\n",
       "      <td>0.000000</td>\n",
       "      <td>219.601002</td>\n",
       "      <td>0.000000</td>\n",
       "      <td>34.571519</td>\n",
       "      <td>0</td>\n",
       "      <td>0</td>\n",
       "      <td>1</td>\n",
       "      <td>0</td>\n",
       "      <td>0</td>\n",
       "      <td>0</td>\n",
       "    </tr>\n",
       "  </tbody>\n",
       "</table>\n",
       "<p>5960 rows × 17 columns</p>\n",
       "</div>"
      ],
      "text/plain": [
       "      reponse  montant_pret  valeur_prop  nbre_credit        hypo  \\\n",
       "0           1          1100      39025.0          9.0  25860.0000   \n",
       "1           1          1300      68400.0         14.0  70053.0000   \n",
       "2           1          1500      16700.0         10.0  13500.0000   \n",
       "3           1          1500      89235.5         20.0  73760.8172   \n",
       "4           0          1700     112000.0         14.0  97800.0000   \n",
       "...       ...           ...          ...          ...         ...   \n",
       "5955        0         88900      90185.0         16.0  57264.0000   \n",
       "5956        0         89000      92937.0         15.0  54576.0000   \n",
       "5957        0         89200      92924.0         15.0  54045.0000   \n",
       "5958        0         89800      91861.0         16.0  50370.0000   \n",
       "5959        0         89900      88934.0         16.0  48811.0000   \n",
       "\n",
       "      annee_emploi   signal  cred_souffre    age_cred  nbre_demande  \\\n",
       "0        10.500000  0.00000      0.000000   94.366667      1.000000   \n",
       "1         7.000000  0.00000      2.000000  121.833333      0.000000   \n",
       "2         4.000000  0.00000      0.000000  149.466667      1.000000   \n",
       "3         8.922268  0.25457      0.449442  179.766275      1.186055   \n",
       "4         3.000000  0.00000      0.000000   93.333333      0.000000   \n",
       "...            ...      ...           ...         ...           ...   \n",
       "5955     16.000000  0.00000      0.000000  221.808718      0.000000   \n",
       "5956     16.000000  0.00000      0.000000  208.692070      0.000000   \n",
       "5957     15.000000  0.00000      0.000000  212.279697      0.000000   \n",
       "5958     14.000000  0.00000      0.000000  213.892709      0.000000   \n",
       "5959     15.000000  0.00000      0.000000  219.601002      0.000000   \n",
       "\n",
       "      dette_rev  but_HomeImp  emploi_Office  emploi_Other  emploi_ProfExe  \\\n",
       "0     33.779915            1              0             1               0   \n",
       "1     33.779915            1              0             1               0   \n",
       "2     33.779915            1              0             1               0   \n",
       "3     33.779915            0              0             1               0   \n",
       "4     33.779915            1              1             0               0   \n",
       "...         ...          ...            ...           ...             ...   \n",
       "5955  36.112347            0              0             1               0   \n",
       "5956  35.859971            0              0             1               0   \n",
       "5957  35.556590            0              0             1               0   \n",
       "5958  34.340882            0              0             1               0   \n",
       "5959  34.571519            0              0             1               0   \n",
       "\n",
       "      emploi_Sales  emploi_Self  \n",
       "0                0            0  \n",
       "1                0            0  \n",
       "2                0            0  \n",
       "3                0            0  \n",
       "4                0            0  \n",
       "...            ...          ...  \n",
       "5955             0            0  \n",
       "5956             0            0  \n",
       "5957             0            0  \n",
       "5958             0            0  \n",
       "5959             0            0  \n",
       "\n",
       "[5960 rows x 17 columns]"
      ]
     },
     "execution_count": 72,
     "metadata": {},
     "output_type": "execute_result"
    }
   ],
   "source": [
    "hmeq_NEW=pd.get_dummies(hmeq_new,columns=['but','emploi'],drop_first=True)\n",
    "hmeq_NEW"
   ]
  },
  {
   "cell_type": "markdown",
   "id": "5a819259",
   "metadata": {},
   "source": [
    "# Choix de modèle"
   ]
  },
  {
   "cell_type": "code",
   "execution_count": 73,
   "id": "d245d021",
   "metadata": {
    "scrolled": true
   },
   "outputs": [
    {
     "data": {
      "text/plain": [
       "0       1\n",
       "1       1\n",
       "2       1\n",
       "3       1\n",
       "4       0\n",
       "       ..\n",
       "5955    0\n",
       "5956    0\n",
       "5957    0\n",
       "5958    0\n",
       "5959    0\n",
       "Name: reponse, Length: 5960, dtype: int64"
      ]
     },
     "execution_count": 73,
     "metadata": {},
     "output_type": "execute_result"
    }
   ],
   "source": [
    "X_gene=hmeq_NEW[hmeq_NEW.columns[1:]]  ###Toutes les variables explicatives\n",
    "##Enlever la valeur_prop\n",
    "X1=hmeq_NEW[['montant_pret', 'nbre_credit', 'hypo', 'annee_emploi',\n",
    "       'signal', 'cred_souffre', 'age_cred', 'nbre_demande', 'dette_rev',\n",
    "       'but_HomeImp', 'emploi_Office', 'emploi_Other', 'emploi_ProfExe',\n",
    "       'emploi_Sales', 'emploi_Self']]\n",
    "###Enlever hypo\n",
    "X2=hmeq_NEW[['montant_pret', 'valeur_prop', 'nbre_credit', 'annee_emploi',\n",
    "       'signal', 'cred_souffre', 'age_cred', 'nbre_demande', 'dette_rev',\n",
    "       'but_HomeImp', 'emploi_Office', 'emploi_Other', 'emploi_ProfExe',\n",
    "       'emploi_Sales', 'emploi_Self']]\n",
    "##Enlever le nombre de crédit\n",
    "X3=hmeq_NEW[['montant_pret', 'valeur_prop', 'hypo', 'annee_emploi',\n",
    "       'signal', 'cred_souffre', 'age_cred', 'nbre_demande', 'dette_rev',\n",
    "       'but_HomeImp', 'emploi_Office', 'emploi_Other', 'emploi_ProfExe',\n",
    "       'emploi_Sales', 'emploi_Self']]\n",
    "y=hmeq_NEW['reponse']\n",
    "y"
   ]
  },
  {
   "cell_type": "code",
   "execution_count": 74,
   "id": "ed23f685",
   "metadata": {},
   "outputs": [],
   "source": [
    "import statsmodels.api as sm"
   ]
  },
  {
   "cell_type": "markdown",
   "id": "aa971190",
   "metadata": {},
   "source": [
    "Modèle 1"
   ]
  },
  {
   "cell_type": "code",
   "execution_count": 75,
   "id": "8c6d04c9",
   "metadata": {},
   "outputs": [
    {
     "name": "stdout",
     "output_type": "stream",
     "text": [
      "Optimization terminated successfully.\n",
      "         Current function value: 0.392966\n",
      "         Iterations 7\n"
     ]
    },
    {
     "data": {
      "text/html": [
       "<table class=\"simpletable\">\n",
       "<caption>Logit Regression Results</caption>\n",
       "<tr>\n",
       "  <th>Dep. Variable:</th>        <td>reponse</td>     <th>  No. Observations:  </th>   <td>  5960</td>  \n",
       "</tr>\n",
       "<tr>\n",
       "  <th>Model:</th>                 <td>Logit</td>      <th>  Df Residuals:      </th>   <td>  5943</td>  \n",
       "</tr>\n",
       "<tr>\n",
       "  <th>Method:</th>                 <td>MLE</td>       <th>  Df Model:          </th>   <td>    16</td>  \n",
       "</tr>\n",
       "<tr>\n",
       "  <th>Date:</th>            <td>Fri, 12 Apr 2024</td> <th>  Pseudo R-squ.:     </th>   <td>0.2136</td>  \n",
       "</tr>\n",
       "<tr>\n",
       "  <th>Time:</th>                <td>11:17:54</td>     <th>  Log-Likelihood:    </th>  <td> -2342.1</td> \n",
       "</tr>\n",
       "<tr>\n",
       "  <th>converged:</th>             <td>True</td>       <th>  LL-Null:           </th>  <td> -2978.2</td> \n",
       "</tr>\n",
       "<tr>\n",
       "  <th>Covariance Type:</th>     <td>nonrobust</td>    <th>  LLR p-value:       </th> <td>4.435e-261</td>\n",
       "</tr>\n",
       "</table>\n",
       "<table class=\"simpletable\">\n",
       "<tr>\n",
       "         <td></td>           <th>coef</th>     <th>std err</th>      <th>z</th>      <th>P>|z|</th>  <th>[0.025</th>    <th>0.975]</th>  \n",
       "</tr>\n",
       "<tr>\n",
       "  <th>const</th>          <td>   -2.4294</td> <td>    0.261</td> <td>   -9.293</td> <td> 0.000</td> <td>   -2.942</td> <td>   -1.917</td>\n",
       "</tr>\n",
       "<tr>\n",
       "  <th>montant_pret</th>   <td>-1.935e-05</td> <td> 4.08e-06</td> <td>   -4.741</td> <td> 0.000</td> <td>-2.73e-05</td> <td>-1.14e-05</td>\n",
       "</tr>\n",
       "<tr>\n",
       "  <th>valeur_prop</th>    <td> 3.398e-06</td> <td> 9.89e-07</td> <td>    3.435</td> <td> 0.001</td> <td> 1.46e-06</td> <td> 5.34e-06</td>\n",
       "</tr>\n",
       "<tr>\n",
       "  <th>nbre_credit</th>    <td>   -0.0134</td> <td>    0.004</td> <td>   -3.112</td> <td> 0.002</td> <td>   -0.022</td> <td>   -0.005</td>\n",
       "</tr>\n",
       "<tr>\n",
       "  <th>hypo</th>           <td>-4.355e-06</td> <td>  1.4e-06</td> <td>   -3.109</td> <td> 0.002</td> <td> -7.1e-06</td> <td>-1.61e-06</td>\n",
       "</tr>\n",
       "<tr>\n",
       "  <th>annee_emploi</th>   <td>   -0.0106</td> <td>    0.006</td> <td>   -1.829</td> <td> 0.067</td> <td>   -0.022</td> <td>    0.001</td>\n",
       "</tr>\n",
       "<tr>\n",
       "  <th>signal</th>         <td>    0.5510</td> <td>    0.049</td> <td>   11.348</td> <td> 0.000</td> <td>    0.456</td> <td>    0.646</td>\n",
       "</tr>\n",
       "<tr>\n",
       "  <th>cred_souffre</th>   <td>    0.7582</td> <td>    0.038</td> <td>   19.696</td> <td> 0.000</td> <td>    0.683</td> <td>    0.834</td>\n",
       "</tr>\n",
       "<tr>\n",
       "  <th>age_cred</th>       <td>   -0.0056</td> <td>    0.001</td> <td>  -10.296</td> <td> 0.000</td> <td>   -0.007</td> <td>   -0.005</td>\n",
       "</tr>\n",
       "<tr>\n",
       "  <th>nbre_demande</th>   <td>    0.1672</td> <td>    0.021</td> <td>    8.123</td> <td> 0.000</td> <td>    0.127</td> <td>    0.208</td>\n",
       "</tr>\n",
       "<tr>\n",
       "  <th>dette_rev</th>      <td>    0.0519</td> <td>    0.006</td> <td>    8.572</td> <td> 0.000</td> <td>    0.040</td> <td>    0.064</td>\n",
       "</tr>\n",
       "<tr>\n",
       "  <th>but_HomeImp</th>    <td>    0.2679</td> <td>    0.084</td> <td>    3.195</td> <td> 0.001</td> <td>    0.104</td> <td>    0.432</td>\n",
       "</tr>\n",
       "<tr>\n",
       "  <th>emploi_Office</th>  <td>   -0.6007</td> <td>    0.150</td> <td>   -4.005</td> <td> 0.000</td> <td>   -0.895</td> <td>   -0.307</td>\n",
       "</tr>\n",
       "<tr>\n",
       "  <th>emploi_Other</th>   <td>    0.0302</td> <td>    0.115</td> <td>    0.262</td> <td> 0.793</td> <td>   -0.196</td> <td>    0.256</td>\n",
       "</tr>\n",
       "<tr>\n",
       "  <th>emploi_ProfExe</th> <td>    0.0168</td> <td>    0.134</td> <td>    0.125</td> <td> 0.900</td> <td>   -0.246</td> <td>    0.279</td>\n",
       "</tr>\n",
       "<tr>\n",
       "  <th>emploi_Sales</th>   <td>    0.9906</td> <td>    0.260</td> <td>    3.814</td> <td> 0.000</td> <td>    0.482</td> <td>    1.500</td>\n",
       "</tr>\n",
       "<tr>\n",
       "  <th>emploi_Self</th>    <td>    0.5847</td> <td>    0.215</td> <td>    2.719</td> <td> 0.007</td> <td>    0.163</td> <td>    1.006</td>\n",
       "</tr>\n",
       "</table>"
      ],
      "text/plain": [
       "<class 'statsmodels.iolib.summary.Summary'>\n",
       "\"\"\"\n",
       "                           Logit Regression Results                           \n",
       "==============================================================================\n",
       "Dep. Variable:                reponse   No. Observations:                 5960\n",
       "Model:                          Logit   Df Residuals:                     5943\n",
       "Method:                           MLE   Df Model:                           16\n",
       "Date:                Fri, 12 Apr 2024   Pseudo R-squ.:                  0.2136\n",
       "Time:                        11:17:54   Log-Likelihood:                -2342.1\n",
       "converged:                       True   LL-Null:                       -2978.2\n",
       "Covariance Type:            nonrobust   LLR p-value:                4.435e-261\n",
       "==================================================================================\n",
       "                     coef    std err          z      P>|z|      [0.025      0.975]\n",
       "----------------------------------------------------------------------------------\n",
       "const             -2.4294      0.261     -9.293      0.000      -2.942      -1.917\n",
       "montant_pret   -1.935e-05   4.08e-06     -4.741      0.000   -2.73e-05   -1.14e-05\n",
       "valeur_prop     3.398e-06   9.89e-07      3.435      0.001    1.46e-06    5.34e-06\n",
       "nbre_credit       -0.0134      0.004     -3.112      0.002      -0.022      -0.005\n",
       "hypo           -4.355e-06    1.4e-06     -3.109      0.002    -7.1e-06   -1.61e-06\n",
       "annee_emploi      -0.0106      0.006     -1.829      0.067      -0.022       0.001\n",
       "signal             0.5510      0.049     11.348      0.000       0.456       0.646\n",
       "cred_souffre       0.7582      0.038     19.696      0.000       0.683       0.834\n",
       "age_cred          -0.0056      0.001    -10.296      0.000      -0.007      -0.005\n",
       "nbre_demande       0.1672      0.021      8.123      0.000       0.127       0.208\n",
       "dette_rev          0.0519      0.006      8.572      0.000       0.040       0.064\n",
       "but_HomeImp        0.2679      0.084      3.195      0.001       0.104       0.432\n",
       "emploi_Office     -0.6007      0.150     -4.005      0.000      -0.895      -0.307\n",
       "emploi_Other       0.0302      0.115      0.262      0.793      -0.196       0.256\n",
       "emploi_ProfExe     0.0168      0.134      0.125      0.900      -0.246       0.279\n",
       "emploi_Sales       0.9906      0.260      3.814      0.000       0.482       1.500\n",
       "emploi_Self        0.5847      0.215      2.719      0.007       0.163       1.006\n",
       "==================================================================================\n",
       "\"\"\""
      ]
     },
     "execution_count": 75,
     "metadata": {},
     "output_type": "execute_result"
    }
   ],
   "source": [
    "X_gene=sm.add_constant(X_gene)\n",
    "model1=sm.Logit(y,X_gene)\n",
    "res1=model1.fit()\n",
    "res1.summary()"
   ]
  },
  {
   "cell_type": "code",
   "execution_count": 76,
   "id": "1469b44a",
   "metadata": {},
   "outputs": [
    {
     "name": "stdout",
     "output_type": "stream",
     "text": [
      "Optimization terminated successfully.\n",
      "         Current function value: 0.393922\n",
      "         Iterations 7\n"
     ]
    },
    {
     "data": {
      "text/html": [
       "<table class=\"simpletable\">\n",
       "<caption>Logit Regression Results</caption>\n",
       "<tr>\n",
       "  <th>Dep. Variable:</th>        <td>reponse</td>     <th>  No. Observations:  </th>   <td>  5960</td>  \n",
       "</tr>\n",
       "<tr>\n",
       "  <th>Model:</th>                 <td>Logit</td>      <th>  Df Residuals:      </th>   <td>  5944</td>  \n",
       "</tr>\n",
       "<tr>\n",
       "  <th>Method:</th>                 <td>MLE</td>       <th>  Df Model:          </th>   <td>    15</td>  \n",
       "</tr>\n",
       "<tr>\n",
       "  <th>Date:</th>            <td>Fri, 12 Apr 2024</td> <th>  Pseudo R-squ.:     </th>   <td>0.2117</td>  \n",
       "</tr>\n",
       "<tr>\n",
       "  <th>Time:</th>                <td>11:17:54</td>     <th>  Log-Likelihood:    </th>  <td> -2347.8</td> \n",
       "</tr>\n",
       "<tr>\n",
       "  <th>converged:</th>             <td>True</td>       <th>  LL-Null:           </th>  <td> -2978.2</td> \n",
       "</tr>\n",
       "<tr>\n",
       "  <th>Covariance Type:</th>     <td>nonrobust</td>    <th>  LLR p-value:       </th> <td>1.334e-259</td>\n",
       "</tr>\n",
       "</table>\n",
       "<table class=\"simpletable\">\n",
       "<tr>\n",
       "         <td></td>           <th>coef</th>     <th>std err</th>      <th>z</th>      <th>P>|z|</th>  <th>[0.025</th>    <th>0.975]</th>  \n",
       "</tr>\n",
       "<tr>\n",
       "  <th>const</th>          <td>   -2.4362</td> <td>    0.262</td> <td>   -9.297</td> <td> 0.000</td> <td>   -2.950</td> <td>   -1.923</td>\n",
       "</tr>\n",
       "<tr>\n",
       "  <th>montant_pret</th>   <td>-1.612e-05</td> <td> 3.93e-06</td> <td>   -4.106</td> <td> 0.000</td> <td>-2.38e-05</td> <td>-8.43e-06</td>\n",
       "</tr>\n",
       "<tr>\n",
       "  <th>nbre_credit</th>    <td>   -0.0130</td> <td>    0.004</td> <td>   -3.032</td> <td> 0.002</td> <td>   -0.021</td> <td>   -0.005</td>\n",
       "</tr>\n",
       "<tr>\n",
       "  <th>hypo</th>           <td>-1.255e-06</td> <td> 1.06e-06</td> <td>   -1.189</td> <td> 0.234</td> <td>-3.32e-06</td> <td> 8.13e-07</td>\n",
       "</tr>\n",
       "<tr>\n",
       "  <th>annee_emploi</th>   <td>   -0.0090</td> <td>    0.006</td> <td>   -1.569</td> <td> 0.117</td> <td>   -0.020</td> <td>    0.002</td>\n",
       "</tr>\n",
       "<tr>\n",
       "  <th>signal</th>         <td>    0.5435</td> <td>    0.048</td> <td>   11.241</td> <td> 0.000</td> <td>    0.449</td> <td>    0.638</td>\n",
       "</tr>\n",
       "<tr>\n",
       "  <th>cred_souffre</th>   <td>    0.7530</td> <td>    0.038</td> <td>   19.677</td> <td> 0.000</td> <td>    0.678</td> <td>    0.828</td>\n",
       "</tr>\n",
       "<tr>\n",
       "  <th>age_cred</th>       <td>   -0.0056</td> <td>    0.001</td> <td>  -10.145</td> <td> 0.000</td> <td>   -0.007</td> <td>   -0.004</td>\n",
       "</tr>\n",
       "<tr>\n",
       "  <th>nbre_demande</th>   <td>    0.1645</td> <td>    0.021</td> <td>    7.998</td> <td> 0.000</td> <td>    0.124</td> <td>    0.205</td>\n",
       "</tr>\n",
       "<tr>\n",
       "  <th>dette_rev</th>      <td>    0.0525</td> <td>    0.006</td> <td>    8.685</td> <td> 0.000</td> <td>    0.041</td> <td>    0.064</td>\n",
       "</tr>\n",
       "<tr>\n",
       "  <th>but_HomeImp</th>    <td>    0.2887</td> <td>    0.083</td> <td>    3.458</td> <td> 0.001</td> <td>    0.125</td> <td>    0.452</td>\n",
       "</tr>\n",
       "<tr>\n",
       "  <th>emploi_Office</th>  <td>   -0.5934</td> <td>    0.150</td> <td>   -3.965</td> <td> 0.000</td> <td>   -0.887</td> <td>   -0.300</td>\n",
       "</tr>\n",
       "<tr>\n",
       "  <th>emploi_Other</th>   <td>    0.0229</td> <td>    0.115</td> <td>    0.198</td> <td> 0.843</td> <td>   -0.203</td> <td>    0.249</td>\n",
       "</tr>\n",
       "<tr>\n",
       "  <th>emploi_ProfExe</th> <td>    0.0471</td> <td>    0.133</td> <td>    0.353</td> <td> 0.724</td> <td>   -0.214</td> <td>    0.308</td>\n",
       "</tr>\n",
       "<tr>\n",
       "  <th>emploi_Sales</th>   <td>    1.0209</td> <td>    0.260</td> <td>    3.921</td> <td> 0.000</td> <td>    0.511</td> <td>    1.531</td>\n",
       "</tr>\n",
       "<tr>\n",
       "  <th>emploi_Self</th>    <td>    0.6458</td> <td>    0.214</td> <td>    3.016</td> <td> 0.003</td> <td>    0.226</td> <td>    1.066</td>\n",
       "</tr>\n",
       "</table>"
      ],
      "text/plain": [
       "<class 'statsmodels.iolib.summary.Summary'>\n",
       "\"\"\"\n",
       "                           Logit Regression Results                           \n",
       "==============================================================================\n",
       "Dep. Variable:                reponse   No. Observations:                 5960\n",
       "Model:                          Logit   Df Residuals:                     5944\n",
       "Method:                           MLE   Df Model:                           15\n",
       "Date:                Fri, 12 Apr 2024   Pseudo R-squ.:                  0.2117\n",
       "Time:                        11:17:54   Log-Likelihood:                -2347.8\n",
       "converged:                       True   LL-Null:                       -2978.2\n",
       "Covariance Type:            nonrobust   LLR p-value:                1.334e-259\n",
       "==================================================================================\n",
       "                     coef    std err          z      P>|z|      [0.025      0.975]\n",
       "----------------------------------------------------------------------------------\n",
       "const             -2.4362      0.262     -9.297      0.000      -2.950      -1.923\n",
       "montant_pret   -1.612e-05   3.93e-06     -4.106      0.000   -2.38e-05   -8.43e-06\n",
       "nbre_credit       -0.0130      0.004     -3.032      0.002      -0.021      -0.005\n",
       "hypo           -1.255e-06   1.06e-06     -1.189      0.234   -3.32e-06    8.13e-07\n",
       "annee_emploi      -0.0090      0.006     -1.569      0.117      -0.020       0.002\n",
       "signal             0.5435      0.048     11.241      0.000       0.449       0.638\n",
       "cred_souffre       0.7530      0.038     19.677      0.000       0.678       0.828\n",
       "age_cred          -0.0056      0.001    -10.145      0.000      -0.007      -0.004\n",
       "nbre_demande       0.1645      0.021      7.998      0.000       0.124       0.205\n",
       "dette_rev          0.0525      0.006      8.685      0.000       0.041       0.064\n",
       "but_HomeImp        0.2887      0.083      3.458      0.001       0.125       0.452\n",
       "emploi_Office     -0.5934      0.150     -3.965      0.000      -0.887      -0.300\n",
       "emploi_Other       0.0229      0.115      0.198      0.843      -0.203       0.249\n",
       "emploi_ProfExe     0.0471      0.133      0.353      0.724      -0.214       0.308\n",
       "emploi_Sales       1.0209      0.260      3.921      0.000       0.511       1.531\n",
       "emploi_Self        0.6458      0.214      3.016      0.003       0.226       1.066\n",
       "==================================================================================\n",
       "\"\"\""
      ]
     },
     "execution_count": 76,
     "metadata": {},
     "output_type": "execute_result"
    }
   ],
   "source": [
    "X1=sm.add_constant(X1)\n",
    "model2=sm.Logit(y,X1)\n",
    "res2=model2.fit()\n",
    "res2.summary()"
   ]
  },
  {
   "cell_type": "code",
   "execution_count": 77,
   "id": "96b4034f",
   "metadata": {},
   "outputs": [
    {
     "name": "stdout",
     "output_type": "stream",
     "text": [
      "Optimization terminated successfully.\n",
      "         Current function value: 0.393798\n",
      "         Iterations 7\n"
     ]
    },
    {
     "data": {
      "text/html": [
       "<table class=\"simpletable\">\n",
       "<caption>Logit Regression Results</caption>\n",
       "<tr>\n",
       "  <th>Dep. Variable:</th>        <td>reponse</td>     <th>  No. Observations:  </th>   <td>  5960</td>  \n",
       "</tr>\n",
       "<tr>\n",
       "  <th>Model:</th>                 <td>Logit</td>      <th>  Df Residuals:      </th>   <td>  5944</td>  \n",
       "</tr>\n",
       "<tr>\n",
       "  <th>Method:</th>                 <td>MLE</td>       <th>  Df Model:          </th>   <td>    15</td>  \n",
       "</tr>\n",
       "<tr>\n",
       "  <th>Date:</th>            <td>Fri, 12 Apr 2024</td> <th>  Pseudo R-squ.:     </th>   <td>0.2119</td>  \n",
       "</tr>\n",
       "<tr>\n",
       "  <th>Time:</th>                <td>11:17:54</td>     <th>  Log-Likelihood:    </th>  <td> -2347.0</td> \n",
       "</tr>\n",
       "<tr>\n",
       "  <th>converged:</th>             <td>True</td>       <th>  LL-Null:           </th>  <td> -2978.2</td> \n",
       "</tr>\n",
       "<tr>\n",
       "  <th>Covariance Type:</th>     <td>nonrobust</td>    <th>  LLR p-value:       </th> <td>6.409e-260</td>\n",
       "</tr>\n",
       "</table>\n",
       "<table class=\"simpletable\">\n",
       "<tr>\n",
       "         <td></td>           <th>coef</th>     <th>std err</th>      <th>z</th>      <th>P>|z|</th>  <th>[0.025</th>    <th>0.975]</th>  \n",
       "</tr>\n",
       "<tr>\n",
       "  <th>const</th>          <td>   -2.5075</td> <td>    0.260</td> <td>   -9.644</td> <td> 0.000</td> <td>   -3.017</td> <td>   -1.998</td>\n",
       "</tr>\n",
       "<tr>\n",
       "  <th>montant_pret</th>   <td>-1.927e-05</td> <td>  4.1e-06</td> <td>   -4.698</td> <td> 0.000</td> <td>-2.73e-05</td> <td>-1.12e-05</td>\n",
       "</tr>\n",
       "<tr>\n",
       "  <th>valeur_prop</th>    <td> 1.324e-06</td> <td> 7.58e-07</td> <td>    1.747</td> <td> 0.081</td> <td>-1.61e-07</td> <td> 2.81e-06</td>\n",
       "</tr>\n",
       "<tr>\n",
       "  <th>nbre_credit</th>    <td>   -0.0151</td> <td>    0.004</td> <td>   -3.570</td> <td> 0.000</td> <td>   -0.023</td> <td>   -0.007</td>\n",
       "</tr>\n",
       "<tr>\n",
       "  <th>annee_emploi</th>   <td>   -0.0082</td> <td>    0.006</td> <td>   -1.431</td> <td> 0.152</td> <td>   -0.019</td> <td>    0.003</td>\n",
       "</tr>\n",
       "<tr>\n",
       "  <th>signal</th>         <td>    0.5522</td> <td>    0.049</td> <td>   11.384</td> <td> 0.000</td> <td>    0.457</td> <td>    0.647</td>\n",
       "</tr>\n",
       "<tr>\n",
       "  <th>cred_souffre</th>   <td>    0.7570</td> <td>    0.038</td> <td>   19.736</td> <td> 0.000</td> <td>    0.682</td> <td>    0.832</td>\n",
       "</tr>\n",
       "<tr>\n",
       "  <th>age_cred</th>       <td>   -0.0057</td> <td>    0.001</td> <td>  -10.399</td> <td> 0.000</td> <td>   -0.007</td> <td>   -0.005</td>\n",
       "</tr>\n",
       "<tr>\n",
       "  <th>nbre_demande</th>   <td>    0.1655</td> <td>    0.021</td> <td>    8.045</td> <td> 0.000</td> <td>    0.125</td> <td>    0.206</td>\n",
       "</tr>\n",
       "<tr>\n",
       "  <th>dette_rev</th>      <td>    0.0514</td> <td>    0.006</td> <td>    8.505</td> <td> 0.000</td> <td>    0.040</td> <td>    0.063</td>\n",
       "</tr>\n",
       "<tr>\n",
       "  <th>but_HomeImp</th>    <td>    0.2741</td> <td>    0.084</td> <td>    3.276</td> <td> 0.001</td> <td>    0.110</td> <td>    0.438</td>\n",
       "</tr>\n",
       "<tr>\n",
       "  <th>emploi_Office</th>  <td>   -0.5713</td> <td>    0.149</td> <td>   -3.827</td> <td> 0.000</td> <td>   -0.864</td> <td>   -0.279</td>\n",
       "</tr>\n",
       "<tr>\n",
       "  <th>emploi_Other</th>   <td>    0.0569</td> <td>    0.115</td> <td>    0.495</td> <td> 0.620</td> <td>   -0.168</td> <td>    0.282</td>\n",
       "</tr>\n",
       "<tr>\n",
       "  <th>emploi_ProfExe</th> <td>    0.0044</td> <td>    0.134</td> <td>    0.033</td> <td> 0.974</td> <td>   -0.258</td> <td>    0.267</td>\n",
       "</tr>\n",
       "<tr>\n",
       "  <th>emploi_Sales</th>   <td>    0.9890</td> <td>    0.261</td> <td>    3.787</td> <td> 0.000</td> <td>    0.477</td> <td>    1.501</td>\n",
       "</tr>\n",
       "<tr>\n",
       "  <th>emploi_Self</th>    <td>    0.5983</td> <td>    0.215</td> <td>    2.784</td> <td> 0.005</td> <td>    0.177</td> <td>    1.020</td>\n",
       "</tr>\n",
       "</table>"
      ],
      "text/plain": [
       "<class 'statsmodels.iolib.summary.Summary'>\n",
       "\"\"\"\n",
       "                           Logit Regression Results                           \n",
       "==============================================================================\n",
       "Dep. Variable:                reponse   No. Observations:                 5960\n",
       "Model:                          Logit   Df Residuals:                     5944\n",
       "Method:                           MLE   Df Model:                           15\n",
       "Date:                Fri, 12 Apr 2024   Pseudo R-squ.:                  0.2119\n",
       "Time:                        11:17:54   Log-Likelihood:                -2347.0\n",
       "converged:                       True   LL-Null:                       -2978.2\n",
       "Covariance Type:            nonrobust   LLR p-value:                6.409e-260\n",
       "==================================================================================\n",
       "                     coef    std err          z      P>|z|      [0.025      0.975]\n",
       "----------------------------------------------------------------------------------\n",
       "const             -2.5075      0.260     -9.644      0.000      -3.017      -1.998\n",
       "montant_pret   -1.927e-05    4.1e-06     -4.698      0.000   -2.73e-05   -1.12e-05\n",
       "valeur_prop     1.324e-06   7.58e-07      1.747      0.081   -1.61e-07    2.81e-06\n",
       "nbre_credit       -0.0151      0.004     -3.570      0.000      -0.023      -0.007\n",
       "annee_emploi      -0.0082      0.006     -1.431      0.152      -0.019       0.003\n",
       "signal             0.5522      0.049     11.384      0.000       0.457       0.647\n",
       "cred_souffre       0.7570      0.038     19.736      0.000       0.682       0.832\n",
       "age_cred          -0.0057      0.001    -10.399      0.000      -0.007      -0.005\n",
       "nbre_demande       0.1655      0.021      8.045      0.000       0.125       0.206\n",
       "dette_rev          0.0514      0.006      8.505      0.000       0.040       0.063\n",
       "but_HomeImp        0.2741      0.084      3.276      0.001       0.110       0.438\n",
       "emploi_Office     -0.5713      0.149     -3.827      0.000      -0.864      -0.279\n",
       "emploi_Other       0.0569      0.115      0.495      0.620      -0.168       0.282\n",
       "emploi_ProfExe     0.0044      0.134      0.033      0.974      -0.258       0.267\n",
       "emploi_Sales       0.9890      0.261      3.787      0.000       0.477       1.501\n",
       "emploi_Self        0.5983      0.215      2.784      0.005       0.177       1.020\n",
       "==================================================================================\n",
       "\"\"\""
      ]
     },
     "execution_count": 77,
     "metadata": {},
     "output_type": "execute_result"
    }
   ],
   "source": [
    "X2=sm.add_constant(X2)\n",
    "model3=sm.Logit(y,X2)\n",
    "res3=model3.fit()\n",
    "res3.summary()"
   ]
  },
  {
   "cell_type": "code",
   "execution_count": 78,
   "id": "01e62e53",
   "metadata": {},
   "outputs": [
    {
     "name": "stdout",
     "output_type": "stream",
     "text": [
      "Optimization terminated successfully.\n",
      "         Current function value: 0.393789\n",
      "         Iterations 7\n"
     ]
    },
    {
     "data": {
      "text/html": [
       "<table class=\"simpletable\">\n",
       "<caption>Logit Regression Results</caption>\n",
       "<tr>\n",
       "  <th>Dep. Variable:</th>        <td>reponse</td>     <th>  No. Observations:  </th>   <td>  5960</td>  \n",
       "</tr>\n",
       "<tr>\n",
       "  <th>Model:</th>                 <td>Logit</td>      <th>  Df Residuals:      </th>   <td>  5944</td>  \n",
       "</tr>\n",
       "<tr>\n",
       "  <th>Method:</th>                 <td>MLE</td>       <th>  Df Model:          </th>   <td>    15</td>  \n",
       "</tr>\n",
       "<tr>\n",
       "  <th>Date:</th>            <td>Fri, 12 Apr 2024</td> <th>  Pseudo R-squ.:     </th>   <td>0.2120</td>  \n",
       "</tr>\n",
       "<tr>\n",
       "  <th>Time:</th>                <td>11:17:54</td>     <th>  Log-Likelihood:    </th>  <td> -2347.0</td> \n",
       "</tr>\n",
       "<tr>\n",
       "  <th>converged:</th>             <td>True</td>       <th>  LL-Null:           </th>  <td> -2978.2</td> \n",
       "</tr>\n",
       "<tr>\n",
       "  <th>Covariance Type:</th>     <td>nonrobust</td>    <th>  LLR p-value:       </th> <td>6.072e-260</td>\n",
       "</tr>\n",
       "</table>\n",
       "<table class=\"simpletable\">\n",
       "<tr>\n",
       "         <td></td>           <th>coef</th>     <th>std err</th>      <th>z</th>      <th>P>|z|</th>  <th>[0.025</th>    <th>0.975]</th>  \n",
       "</tr>\n",
       "<tr>\n",
       "  <th>const</th>          <td>   -2.5065</td> <td>    0.260</td> <td>   -9.658</td> <td> 0.000</td> <td>   -3.015</td> <td>   -1.998</td>\n",
       "</tr>\n",
       "<tr>\n",
       "  <th>montant_pret</th>   <td>-1.941e-05</td> <td> 4.08e-06</td> <td>   -4.752</td> <td> 0.000</td> <td>-2.74e-05</td> <td>-1.14e-05</td>\n",
       "</tr>\n",
       "<tr>\n",
       "  <th>valeur_prop</th>    <td> 3.301e-06</td> <td> 9.83e-07</td> <td>    3.357</td> <td> 0.001</td> <td> 1.37e-06</td> <td> 5.23e-06</td>\n",
       "</tr>\n",
       "<tr>\n",
       "  <th>hypo</th>           <td>-4.921e-06</td> <td> 1.38e-06</td> <td>   -3.564</td> <td> 0.000</td> <td>-7.63e-06</td> <td>-2.21e-06</td>\n",
       "</tr>\n",
       "<tr>\n",
       "  <th>annee_emploi</th>   <td>   -0.0109</td> <td>    0.006</td> <td>   -1.874</td> <td> 0.061</td> <td>   -0.022</td> <td>    0.000</td>\n",
       "</tr>\n",
       "<tr>\n",
       "  <th>signal</th>         <td>    0.5411</td> <td>    0.048</td> <td>   11.182</td> <td> 0.000</td> <td>    0.446</td> <td>    0.636</td>\n",
       "</tr>\n",
       "<tr>\n",
       "  <th>cred_souffre</th>   <td>    0.7364</td> <td>    0.037</td> <td>   19.684</td> <td> 0.000</td> <td>    0.663</td> <td>    0.810</td>\n",
       "</tr>\n",
       "<tr>\n",
       "  <th>age_cred</th>       <td>   -0.0060</td> <td>    0.001</td> <td>  -11.190</td> <td> 0.000</td> <td>   -0.007</td> <td>   -0.005</td>\n",
       "</tr>\n",
       "<tr>\n",
       "  <th>nbre_demande</th>   <td>    0.1625</td> <td>    0.020</td> <td>    7.931</td> <td> 0.000</td> <td>    0.122</td> <td>    0.203</td>\n",
       "</tr>\n",
       "<tr>\n",
       "  <th>dette_rev</th>      <td>    0.0494</td> <td>    0.006</td> <td>    8.271</td> <td> 0.000</td> <td>    0.038</td> <td>    0.061</td>\n",
       "</tr>\n",
       "<tr>\n",
       "  <th>but_HomeImp</th>    <td>    0.3026</td> <td>    0.083</td> <td>    3.645</td> <td> 0.000</td> <td>    0.140</td> <td>    0.465</td>\n",
       "</tr>\n",
       "<tr>\n",
       "  <th>emploi_Office</th>  <td>   -0.5872</td> <td>    0.150</td> <td>   -3.922</td> <td> 0.000</td> <td>   -0.881</td> <td>   -0.294</td>\n",
       "</tr>\n",
       "<tr>\n",
       "  <th>emploi_Other</th>   <td>    0.0550</td> <td>    0.115</td> <td>    0.480</td> <td> 0.631</td> <td>   -0.170</td> <td>    0.279</td>\n",
       "</tr>\n",
       "<tr>\n",
       "  <th>emploi_ProfExe</th> <td>   -0.0093</td> <td>    0.133</td> <td>   -0.069</td> <td> 0.945</td> <td>   -0.270</td> <td>    0.252</td>\n",
       "</tr>\n",
       "<tr>\n",
       "  <th>emploi_Sales</th>   <td>    0.9650</td> <td>    0.259</td> <td>    3.729</td> <td> 0.000</td> <td>    0.458</td> <td>    1.472</td>\n",
       "</tr>\n",
       "<tr>\n",
       "  <th>emploi_Self</th>    <td>    0.5900</td> <td>    0.214</td> <td>    2.760</td> <td> 0.006</td> <td>    0.171</td> <td>    1.009</td>\n",
       "</tr>\n",
       "</table>"
      ],
      "text/plain": [
       "<class 'statsmodels.iolib.summary.Summary'>\n",
       "\"\"\"\n",
       "                           Logit Regression Results                           \n",
       "==============================================================================\n",
       "Dep. Variable:                reponse   No. Observations:                 5960\n",
       "Model:                          Logit   Df Residuals:                     5944\n",
       "Method:                           MLE   Df Model:                           15\n",
       "Date:                Fri, 12 Apr 2024   Pseudo R-squ.:                  0.2120\n",
       "Time:                        11:17:54   Log-Likelihood:                -2347.0\n",
       "converged:                       True   LL-Null:                       -2978.2\n",
       "Covariance Type:            nonrobust   LLR p-value:                6.072e-260\n",
       "==================================================================================\n",
       "                     coef    std err          z      P>|z|      [0.025      0.975]\n",
       "----------------------------------------------------------------------------------\n",
       "const             -2.5065      0.260     -9.658      0.000      -3.015      -1.998\n",
       "montant_pret   -1.941e-05   4.08e-06     -4.752      0.000   -2.74e-05   -1.14e-05\n",
       "valeur_prop     3.301e-06   9.83e-07      3.357      0.001    1.37e-06    5.23e-06\n",
       "hypo           -4.921e-06   1.38e-06     -3.564      0.000   -7.63e-06   -2.21e-06\n",
       "annee_emploi      -0.0109      0.006     -1.874      0.061      -0.022       0.000\n",
       "signal             0.5411      0.048     11.182      0.000       0.446       0.636\n",
       "cred_souffre       0.7364      0.037     19.684      0.000       0.663       0.810\n",
       "age_cred          -0.0060      0.001    -11.190      0.000      -0.007      -0.005\n",
       "nbre_demande       0.1625      0.020      7.931      0.000       0.122       0.203\n",
       "dette_rev          0.0494      0.006      8.271      0.000       0.038       0.061\n",
       "but_HomeImp        0.3026      0.083      3.645      0.000       0.140       0.465\n",
       "emploi_Office     -0.5872      0.150     -3.922      0.000      -0.881      -0.294\n",
       "emploi_Other       0.0550      0.115      0.480      0.631      -0.170       0.279\n",
       "emploi_ProfExe    -0.0093      0.133     -0.069      0.945      -0.270       0.252\n",
       "emploi_Sales       0.9650      0.259      3.729      0.000       0.458       1.472\n",
       "emploi_Self        0.5900      0.214      2.760      0.006       0.171       1.009\n",
       "==================================================================================\n",
       "\"\"\""
      ]
     },
     "execution_count": 78,
     "metadata": {},
     "output_type": "execute_result"
    }
   ],
   "source": [
    "X3=sm.add_constant(X3)\n",
    "model4=sm.Logit(y,X3)\n",
    "res4=model4.fit()\n",
    "res4.summary()"
   ]
  },
  {
   "cell_type": "code",
   "execution_count": 79,
   "id": "3a34fe7c",
   "metadata": {},
   "outputs": [
    {
     "data": {
      "text/html": [
       "<div>\n",
       "<style scoped>\n",
       "    .dataframe tbody tr th:only-of-type {\n",
       "        vertical-align: middle;\n",
       "    }\n",
       "\n",
       "    .dataframe tbody tr th {\n",
       "        vertical-align: top;\n",
       "    }\n",
       "\n",
       "    .dataframe thead th {\n",
       "        text-align: right;\n",
       "    }\n",
       "</style>\n",
       "<table border=\"1\" class=\"dataframe\">\n",
       "  <thead>\n",
       "    <tr style=\"text-align: right;\">\n",
       "      <th></th>\n",
       "      <th>Modèle</th>\n",
       "      <th>AIC</th>\n",
       "      <th>BIC</th>\n",
       "    </tr>\n",
       "  </thead>\n",
       "  <tbody>\n",
       "    <tr>\n",
       "      <th>0</th>\n",
       "      <td>Model1</td>\n",
       "      <td>4718.151475</td>\n",
       "      <td>4831.929513</td>\n",
       "    </tr>\n",
       "    <tr>\n",
       "      <th>1</th>\n",
       "      <td>Model2</td>\n",
       "      <td>4727.551241</td>\n",
       "      <td>4834.636453</td>\n",
       "    </tr>\n",
       "    <tr>\n",
       "      <th>2</th>\n",
       "      <td>Model3</td>\n",
       "      <td>4726.069788</td>\n",
       "      <td>4833.155000</td>\n",
       "    </tr>\n",
       "    <tr>\n",
       "      <th>3</th>\n",
       "      <td>Model4</td>\n",
       "      <td>4725.960683</td>\n",
       "      <td>4833.045895</td>\n",
       "    </tr>\n",
       "  </tbody>\n",
       "</table>\n",
       "</div>"
      ],
      "text/plain": [
       "   Modèle          AIC          BIC\n",
       "0  Model1  4718.151475  4831.929513\n",
       "1  Model2  4727.551241  4834.636453\n",
       "2  Model3  4726.069788  4833.155000\n",
       "3  Model4  4725.960683  4833.045895"
      ]
     },
     "execution_count": 79,
     "metadata": {},
     "output_type": "execute_result"
    }
   ],
   "source": [
    "tab_aic=pd.DataFrame({\n",
    "    'Modèle':['Model1','Model2','Model3','Model4'],\n",
    "    'AIC':[res1.aic,res2.aic,res3.aic,res4.aic],\n",
    "    'BIC':[res1.bic,res2.bic,res3.bic,res4.bic]\n",
    "})\n",
    "tab_aic"
   ]
  },
  {
   "cell_type": "markdown",
   "id": "32590fff",
   "metadata": {},
   "source": [
    "### Echentillonnage de la base de données"
   ]
  },
  {
   "cell_type": "code",
   "execution_count": 80,
   "id": "18d6bf83",
   "metadata": {},
   "outputs": [],
   "source": [
    "from sklearn.model_selection import train_test_split\n",
    "\n",
    "X=sm.add_constant(hmeq_NEW[hmeq_NEW.columns[1:]])\n",
    "###\n",
    "X_train, X_test, y_train, y_test = train_test_split(X,hmeq_NEW['reponse'], test_size=0.2, random_state=42)"
   ]
  },
  {
   "cell_type": "code",
   "execution_count": 81,
   "id": "ecc96a2c",
   "metadata": {},
   "outputs": [
    {
     "data": {
      "text/plain": [
       "(4768, 17)"
      ]
     },
     "execution_count": 81,
     "metadata": {},
     "output_type": "execute_result"
    }
   ],
   "source": [
    "X_train.shape"
   ]
  },
  {
   "cell_type": "markdown",
   "id": "64594f3b",
   "metadata": {},
   "source": [
    "### Mesures de performance du modèle 1"
   ]
  },
  {
   "cell_type": "code",
   "execution_count": 82,
   "id": "f8193785",
   "metadata": {},
   "outputs": [],
   "source": [
    "from sklearn.metrics import accuracy_score,classification_report\n",
    "from sklearn.metrics import confusion_matrix, ConfusionMatrixDisplay"
   ]
  },
  {
   "cell_type": "code",
   "execution_count": 83,
   "id": "f6a7c6cc",
   "metadata": {},
   "outputs": [
    {
     "name": "stdout",
     "output_type": "stream",
     "text": [
      "Optimization terminated successfully.\n",
      "         Current function value: 0.383680\n",
      "         Iterations 7\n"
     ]
    },
    {
     "data": {
      "text/html": [
       "<table class=\"simpletable\">\n",
       "<caption>Logit Regression Results</caption>\n",
       "<tr>\n",
       "  <th>Dep. Variable:</th>        <td>reponse</td>     <th>  No. Observations:  </th>   <td>  4768</td>  \n",
       "</tr>\n",
       "<tr>\n",
       "  <th>Model:</th>                 <td>Logit</td>      <th>  Df Residuals:      </th>   <td>  4751</td>  \n",
       "</tr>\n",
       "<tr>\n",
       "  <th>Method:</th>                 <td>MLE</td>       <th>  Df Model:          </th>   <td>    16</td>  \n",
       "</tr>\n",
       "<tr>\n",
       "  <th>Date:</th>            <td>Fri, 12 Apr 2024</td> <th>  Pseudo R-squ.:     </th>   <td>0.2196</td>  \n",
       "</tr>\n",
       "<tr>\n",
       "  <th>Time:</th>                <td>11:17:54</td>     <th>  Log-Likelihood:    </th>  <td> -1829.4</td> \n",
       "</tr>\n",
       "<tr>\n",
       "  <th>converged:</th>             <td>True</td>       <th>  LL-Null:           </th>  <td> -2344.3</td> \n",
       "</tr>\n",
       "<tr>\n",
       "  <th>Covariance Type:</th>     <td>nonrobust</td>    <th>  LLR p-value:       </th> <td>4.570e-209</td>\n",
       "</tr>\n",
       "</table>\n",
       "<table class=\"simpletable\">\n",
       "<tr>\n",
       "         <td></td>           <th>coef</th>     <th>std err</th>      <th>z</th>      <th>P>|z|</th>  <th>[0.025</th>    <th>0.975]</th>  \n",
       "</tr>\n",
       "<tr>\n",
       "  <th>const</th>          <td>   -2.5552</td> <td>    0.293</td> <td>   -8.716</td> <td> 0.000</td> <td>   -3.130</td> <td>   -1.981</td>\n",
       "</tr>\n",
       "<tr>\n",
       "  <th>montant_pret</th>   <td>-1.853e-05</td> <td> 4.65e-06</td> <td>   -3.985</td> <td> 0.000</td> <td>-2.77e-05</td> <td>-9.42e-06</td>\n",
       "</tr>\n",
       "<tr>\n",
       "  <th>valeur_prop</th>    <td> 3.604e-06</td> <td> 1.14e-06</td> <td>    3.153</td> <td> 0.002</td> <td> 1.36e-06</td> <td> 5.84e-06</td>\n",
       "</tr>\n",
       "<tr>\n",
       "  <th>nbre_credit</th>    <td>   -0.0162</td> <td>    0.005</td> <td>   -3.310</td> <td> 0.001</td> <td>   -0.026</td> <td>   -0.007</td>\n",
       "</tr>\n",
       "<tr>\n",
       "  <th>hypo</th>           <td>-4.109e-06</td> <td> 1.59e-06</td> <td>   -2.580</td> <td> 0.010</td> <td>-7.23e-06</td> <td>-9.87e-07</td>\n",
       "</tr>\n",
       "<tr>\n",
       "  <th>annee_emploi</th>   <td>   -0.0164</td> <td>    0.007</td> <td>   -2.497</td> <td> 0.013</td> <td>   -0.029</td> <td>   -0.004</td>\n",
       "</tr>\n",
       "<tr>\n",
       "  <th>signal</th>         <td>    0.6112</td> <td>    0.055</td> <td>   11.026</td> <td> 0.000</td> <td>    0.503</td> <td>    0.720</td>\n",
       "</tr>\n",
       "<tr>\n",
       "  <th>cred_souffre</th>   <td>    0.7725</td> <td>    0.044</td> <td>   17.458</td> <td> 0.000</td> <td>    0.686</td> <td>    0.859</td>\n",
       "</tr>\n",
       "<tr>\n",
       "  <th>age_cred</th>       <td>   -0.0053</td> <td>    0.001</td> <td>   -8.546</td> <td> 0.000</td> <td>   -0.006</td> <td>   -0.004</td>\n",
       "</tr>\n",
       "<tr>\n",
       "  <th>nbre_demande</th>   <td>    0.1854</td> <td>    0.023</td> <td>    8.073</td> <td> 0.000</td> <td>    0.140</td> <td>    0.230</td>\n",
       "</tr>\n",
       "<tr>\n",
       "  <th>dette_rev</th>      <td>    0.0501</td> <td>    0.007</td> <td>    7.403</td> <td> 0.000</td> <td>    0.037</td> <td>    0.063</td>\n",
       "</tr>\n",
       "<tr>\n",
       "  <th>but_HomeImp</th>    <td>    0.3202</td> <td>    0.095</td> <td>    3.381</td> <td> 0.001</td> <td>    0.135</td> <td>    0.506</td>\n",
       "</tr>\n",
       "<tr>\n",
       "  <th>emploi_Office</th>  <td>   -0.5019</td> <td>    0.173</td> <td>   -2.909</td> <td> 0.004</td> <td>   -0.840</td> <td>   -0.164</td>\n",
       "</tr>\n",
       "<tr>\n",
       "  <th>emploi_Other</th>   <td>    0.1356</td> <td>    0.132</td> <td>    1.026</td> <td> 0.305</td> <td>   -0.123</td> <td>    0.395</td>\n",
       "</tr>\n",
       "<tr>\n",
       "  <th>emploi_ProfExe</th> <td>    0.0933</td> <td>    0.153</td> <td>    0.611</td> <td> 0.541</td> <td>   -0.206</td> <td>    0.393</td>\n",
       "</tr>\n",
       "<tr>\n",
       "  <th>emploi_Sales</th>   <td>    1.2520</td> <td>    0.283</td> <td>    4.422</td> <td> 0.000</td> <td>    0.697</td> <td>    1.807</td>\n",
       "</tr>\n",
       "<tr>\n",
       "  <th>emploi_Self</th>    <td>    0.6376</td> <td>    0.241</td> <td>    2.649</td> <td> 0.008</td> <td>    0.166</td> <td>    1.110</td>\n",
       "</tr>\n",
       "</table>"
      ],
      "text/plain": [
       "<class 'statsmodels.iolib.summary.Summary'>\n",
       "\"\"\"\n",
       "                           Logit Regression Results                           \n",
       "==============================================================================\n",
       "Dep. Variable:                reponse   No. Observations:                 4768\n",
       "Model:                          Logit   Df Residuals:                     4751\n",
       "Method:                           MLE   Df Model:                           16\n",
       "Date:                Fri, 12 Apr 2024   Pseudo R-squ.:                  0.2196\n",
       "Time:                        11:17:54   Log-Likelihood:                -1829.4\n",
       "converged:                       True   LL-Null:                       -2344.3\n",
       "Covariance Type:            nonrobust   LLR p-value:                4.570e-209\n",
       "==================================================================================\n",
       "                     coef    std err          z      P>|z|      [0.025      0.975]\n",
       "----------------------------------------------------------------------------------\n",
       "const             -2.5552      0.293     -8.716      0.000      -3.130      -1.981\n",
       "montant_pret   -1.853e-05   4.65e-06     -3.985      0.000   -2.77e-05   -9.42e-06\n",
       "valeur_prop     3.604e-06   1.14e-06      3.153      0.002    1.36e-06    5.84e-06\n",
       "nbre_credit       -0.0162      0.005     -3.310      0.001      -0.026      -0.007\n",
       "hypo           -4.109e-06   1.59e-06     -2.580      0.010   -7.23e-06   -9.87e-07\n",
       "annee_emploi      -0.0164      0.007     -2.497      0.013      -0.029      -0.004\n",
       "signal             0.6112      0.055     11.026      0.000       0.503       0.720\n",
       "cred_souffre       0.7725      0.044     17.458      0.000       0.686       0.859\n",
       "age_cred          -0.0053      0.001     -8.546      0.000      -0.006      -0.004\n",
       "nbre_demande       0.1854      0.023      8.073      0.000       0.140       0.230\n",
       "dette_rev          0.0501      0.007      7.403      0.000       0.037       0.063\n",
       "but_HomeImp        0.3202      0.095      3.381      0.001       0.135       0.506\n",
       "emploi_Office     -0.5019      0.173     -2.909      0.004      -0.840      -0.164\n",
       "emploi_Other       0.1356      0.132      1.026      0.305      -0.123       0.395\n",
       "emploi_ProfExe     0.0933      0.153      0.611      0.541      -0.206       0.393\n",
       "emploi_Sales       1.2520      0.283      4.422      0.000       0.697       1.807\n",
       "emploi_Self        0.6376      0.241      2.649      0.008       0.166       1.110\n",
       "==================================================================================\n",
       "\"\"\""
      ]
     },
     "execution_count": 83,
     "metadata": {},
     "output_type": "execute_result"
    }
   ],
   "source": [
    "Model1=sm.Logit(y_train,X_train)\n",
    "Res1=Model1.fit()\n",
    "Res1.summary()"
   ]
  },
  {
   "cell_type": "code",
   "execution_count": 84,
   "id": "0d80056d",
   "metadata": {},
   "outputs": [
    {
     "data": {
      "text/plain": [
       "0.8179530201342282"
      ]
     },
     "execution_count": 84,
     "metadata": {},
     "output_type": "execute_result"
    }
   ],
   "source": [
    "###Accuracy score\n",
    "y_pred=Res1.predict(X_test)\n",
    "yp=accuracy_score(y_test,list(map(round,y_pred)))\n",
    "yp"
   ]
  },
  {
   "cell_type": "code",
   "execution_count": 106,
   "id": "2f267aa7",
   "metadata": {},
   "outputs": [
    {
     "name": "stdout",
     "output_type": "stream",
     "text": [
      "              precision    recall  f1-score   support\n",
      "\n",
      "           0       0.83      0.96      0.89       927\n",
      "           1       0.70      0.32      0.44       265\n",
      "\n",
      "    accuracy                           0.82      1192\n",
      "   macro avg       0.77      0.64      0.66      1192\n",
      "weighted avg       0.80      0.82      0.79      1192\n",
      "\n"
     ]
    }
   ],
   "source": [
    "mes=classification_report(y_test,list(map(round,y_pred)))\n",
    "print(mes)"
   ]
  },
  {
   "cell_type": "code",
   "execution_count": 85,
   "id": "f5dabded",
   "metadata": {},
   "outputs": [
    {
     "data": {
      "image/png": "[encoded data removed]",
      "text/plain": [
       "<Figure size 432x288 with 2 Axes>"
      ]
     },
     "metadata": {
      "needs_background": "light"
     },
     "output_type": "display_data"
    }
   ],
   "source": [
    "###Matrice de confusion\n",
    "cmat=confusion_matrix(y_test, list(map(round,y_pred)))\n",
    "conf = ConfusionMatrixDisplay(cmat).plot()"
   ]
  },
  {
   "cell_type": "markdown",
   "id": "aa982bd6",
   "metadata": {},
   "source": [
    "### Mesures de performance du modèle 4"
   ]
  },
  {
   "cell_type": "code",
   "execution_count": 86,
   "id": "8ef629dc",
   "metadata": {},
   "outputs": [],
   "source": [
    "Xn_train=X_train[['montant_pret', 'valeur_prop', 'hypo', 'annee_emploi',\n",
    "       'signal', 'cred_souffre', 'age_cred', 'nbre_demande', 'dette_rev',\n",
    "       'but_HomeImp', 'emploi_Office', 'emploi_Other', 'emploi_ProfExe',\n",
    "       'emploi_Sales', 'emploi_Self']]\n",
    "#\n",
    "yn_train=y_train\n",
    "#\n",
    "Xn_test=X_test[['montant_pret', 'valeur_prop', 'hypo', 'annee_emploi',\n",
    "       'signal', 'cred_souffre', 'age_cred', 'nbre_demande', 'dette_rev',\n",
    "       'but_HomeImp', 'emploi_Office', 'emploi_Other', 'emploi_ProfExe',\n",
    "       'emploi_Sales', 'emploi_Self']]\n",
    "##\n",
    "yn_test=y_test"
   ]
  },
  {
   "cell_type": "code",
   "execution_count": 87,
   "id": "868cc112",
   "metadata": {},
   "outputs": [
    {
     "data": {
      "text/plain": [
       "(4768,)"
      ]
     },
     "execution_count": 87,
     "metadata": {},
     "output_type": "execute_result"
    }
   ],
   "source": [
    "yn_train.shape"
   ]
  },
  {
   "cell_type": "code",
   "execution_count": 88,
   "id": "e79d1e82",
   "metadata": {},
   "outputs": [
    {
     "name": "stdout",
     "output_type": "stream",
     "text": [
      "Optimization terminated successfully.\n",
      "         Current function value: 0.394804\n",
      "         Iterations 7\n"
     ]
    },
    {
     "data": {
      "text/html": [
       "<table class=\"simpletable\">\n",
       "<caption>Logit Regression Results</caption>\n",
       "<tr>\n",
       "  <th>Dep. Variable:</th>        <td>reponse</td>     <th>  No. Observations:  </th>   <td>  4768</td>  \n",
       "</tr>\n",
       "<tr>\n",
       "  <th>Model:</th>                 <td>Logit</td>      <th>  Df Residuals:      </th>   <td>  4753</td>  \n",
       "</tr>\n",
       "<tr>\n",
       "  <th>Method:</th>                 <td>MLE</td>       <th>  Df Model:          </th>   <td>    14</td>  \n",
       "</tr>\n",
       "<tr>\n",
       "  <th>Date:</th>            <td>Fri, 12 Apr 2024</td> <th>  Pseudo R-squ.:     </th>   <td>0.1970</td>  \n",
       "</tr>\n",
       "<tr>\n",
       "  <th>Time:</th>                <td>11:17:55</td>     <th>  Log-Likelihood:    </th>  <td> -1882.4</td> \n",
       "</tr>\n",
       "<tr>\n",
       "  <th>converged:</th>             <td>True</td>       <th>  LL-Null:           </th>  <td> -2344.3</td> \n",
       "</tr>\n",
       "<tr>\n",
       "  <th>Covariance Type:</th>     <td>nonrobust</td>    <th>  LLR p-value:       </th> <td>3.500e-188</td>\n",
       "</tr>\n",
       "</table>\n",
       "<table class=\"simpletable\">\n",
       "<tr>\n",
       "         <td></td>           <th>coef</th>     <th>std err</th>      <th>z</th>      <th>P>|z|</th>  <th>[0.025</th>    <th>0.975]</th>  \n",
       "</tr>\n",
       "<tr>\n",
       "  <th>montant_pret</th>   <td>-2.574e-05</td> <td> 4.71e-06</td> <td>   -5.470</td> <td> 0.000</td> <td> -3.5e-05</td> <td>-1.65e-05</td>\n",
       "</tr>\n",
       "<tr>\n",
       "  <th>valeur_prop</th>    <td> 3.627e-06</td> <td> 1.12e-06</td> <td>    3.231</td> <td> 0.001</td> <td> 1.43e-06</td> <td> 5.83e-06</td>\n",
       "</tr>\n",
       "<tr>\n",
       "  <th>hypo</th>           <td>-7.011e-06</td> <td> 1.57e-06</td> <td>   -4.452</td> <td> 0.000</td> <td>-1.01e-05</td> <td>-3.92e-06</td>\n",
       "</tr>\n",
       "<tr>\n",
       "  <th>annee_emploi</th>   <td>   -0.0295</td> <td>    0.007</td> <td>   -4.507</td> <td> 0.000</td> <td>   -0.042</td> <td>   -0.017</td>\n",
       "</tr>\n",
       "<tr>\n",
       "  <th>signal</th>         <td>    0.5549</td> <td>    0.053</td> <td>   10.383</td> <td> 0.000</td> <td>    0.450</td> <td>    0.660</td>\n",
       "</tr>\n",
       "<tr>\n",
       "  <th>cred_souffre</th>   <td>    0.7338</td> <td>    0.043</td> <td>   17.043</td> <td> 0.000</td> <td>    0.649</td> <td>    0.818</td>\n",
       "</tr>\n",
       "<tr>\n",
       "  <th>age_cred</th>       <td>   -0.0071</td> <td>    0.001</td> <td>  -12.068</td> <td> 0.000</td> <td>   -0.008</td> <td>   -0.006</td>\n",
       "</tr>\n",
       "<tr>\n",
       "  <th>nbre_demande</th>   <td>    0.1529</td> <td>    0.023</td> <td>    6.701</td> <td> 0.000</td> <td>    0.108</td> <td>    0.198</td>\n",
       "</tr>\n",
       "<tr>\n",
       "  <th>dette_rev</th>      <td>    0.0044</td> <td>    0.004</td> <td>    1.103</td> <td> 0.270</td> <td>   -0.003</td> <td>    0.012</td>\n",
       "</tr>\n",
       "<tr>\n",
       "  <th>but_HomeImp</th>    <td>    0.2180</td> <td>    0.092</td> <td>    2.370</td> <td> 0.018</td> <td>    0.038</td> <td>    0.398</td>\n",
       "</tr>\n",
       "<tr>\n",
       "  <th>emploi_Office</th>  <td>   -0.9673</td> <td>    0.157</td> <td>   -6.145</td> <td> 0.000</td> <td>   -1.276</td> <td>   -0.659</td>\n",
       "</tr>\n",
       "<tr>\n",
       "  <th>emploi_Other</th>   <td>   -0.3631</td> <td>    0.111</td> <td>   -3.280</td> <td> 0.001</td> <td>   -0.580</td> <td>   -0.146</td>\n",
       "</tr>\n",
       "<tr>\n",
       "  <th>emploi_ProfExe</th> <td>   -0.3959</td> <td>    0.136</td> <td>   -2.904</td> <td> 0.004</td> <td>   -0.663</td> <td>   -0.129</td>\n",
       "</tr>\n",
       "<tr>\n",
       "  <th>emploi_Sales</th>   <td>    0.7185</td> <td>    0.273</td> <td>    2.633</td> <td> 0.008</td> <td>    0.184</td> <td>    1.253</td>\n",
       "</tr>\n",
       "<tr>\n",
       "  <th>emploi_Self</th>    <td>    0.2869</td> <td>    0.234</td> <td>    1.228</td> <td> 0.219</td> <td>   -0.171</td> <td>    0.745</td>\n",
       "</tr>\n",
       "</table>"
      ],
      "text/plain": [
       "<class 'statsmodels.iolib.summary.Summary'>\n",
       "\"\"\"\n",
       "                           Logit Regression Results                           \n",
       "==============================================================================\n",
       "Dep. Variable:                reponse   No. Observations:                 4768\n",
       "Model:                          Logit   Df Residuals:                     4753\n",
       "Method:                           MLE   Df Model:                           14\n",
       "Date:                Fri, 12 Apr 2024   Pseudo R-squ.:                  0.1970\n",
       "Time:                        11:17:55   Log-Likelihood:                -1882.4\n",
       "converged:                       True   LL-Null:                       -2344.3\n",
       "Covariance Type:            nonrobust   LLR p-value:                3.500e-188\n",
       "==================================================================================\n",
       "                     coef    std err          z      P>|z|      [0.025      0.975]\n",
       "----------------------------------------------------------------------------------\n",
       "montant_pret   -2.574e-05   4.71e-06     -5.470      0.000    -3.5e-05   -1.65e-05\n",
       "valeur_prop     3.627e-06   1.12e-06      3.231      0.001    1.43e-06    5.83e-06\n",
       "hypo           -7.011e-06   1.57e-06     -4.452      0.000   -1.01e-05   -3.92e-06\n",
       "annee_emploi      -0.0295      0.007     -4.507      0.000      -0.042      -0.017\n",
       "signal             0.5549      0.053     10.383      0.000       0.450       0.660\n",
       "cred_souffre       0.7338      0.043     17.043      0.000       0.649       0.818\n",
       "age_cred          -0.0071      0.001    -12.068      0.000      -0.008      -0.006\n",
       "nbre_demande       0.1529      0.023      6.701      0.000       0.108       0.198\n",
       "dette_rev          0.0044      0.004      1.103      0.270      -0.003       0.012\n",
       "but_HomeImp        0.2180      0.092      2.370      0.018       0.038       0.398\n",
       "emploi_Office     -0.9673      0.157     -6.145      0.000      -1.276      -0.659\n",
       "emploi_Other      -0.3631      0.111     -3.280      0.001      -0.580      -0.146\n",
       "emploi_ProfExe    -0.3959      0.136     -2.904      0.004      -0.663      -0.129\n",
       "emploi_Sales       0.7185      0.273      2.633      0.008       0.184       1.253\n",
       "emploi_Self        0.2869      0.234      1.228      0.219      -0.171       0.745\n",
       "==================================================================================\n",
       "\"\"\""
      ]
     },
     "execution_count": 88,
     "metadata": {},
     "output_type": "execute_result"
    }
   ],
   "source": [
    "Model4=sm.Logit(yn_train,Xn_train)\n",
    "Res4=Model4.fit()\n",
    "Res4.summary()"
   ]
  },
  {
   "cell_type": "code",
   "execution_count": 89,
   "id": "8494b54d",
   "metadata": {},
   "outputs": [
    {
     "data": {
      "text/plain": [
       "0.8062080536912751"
      ]
     },
     "execution_count": 89,
     "metadata": {},
     "output_type": "execute_result"
    }
   ],
   "source": [
    "###Accuracy score\n",
    "yn_pred=Res4.predict(Xn_test)\n",
    "ynp=accuracy_score(yn_test,list(map(round,yn_pred)))\n",
    "ynp"
   ]
  },
  {
   "cell_type": "code",
   "execution_count": 107,
   "id": "4eddd224",
   "metadata": {},
   "outputs": [
    {
     "name": "stdout",
     "output_type": "stream",
     "text": [
      "              precision    recall  f1-score   support\n",
      "\n",
      "           0       0.83      0.95      0.88       927\n",
      "           1       0.63      0.31      0.42       265\n",
      "\n",
      "    accuracy                           0.81      1192\n",
      "   macro avg       0.73      0.63      0.65      1192\n",
      "weighted avg       0.78      0.81      0.78      1192\n",
      "\n"
     ]
    }
   ],
   "source": [
    "mesn=classification_report(yn_test,list(map(round,yn_pred)))\n",
    "print(mesn)"
   ]
  },
  {
   "cell_type": "code",
   "execution_count": 90,
   "id": "08725d81",
   "metadata": {},
   "outputs": [
    {
     "data": {
      "image/png": "[encoded data removed]",
      "text/plain": [
       "<Figure size 432x288 with 2 Axes>"
      ]
     },
     "metadata": {
      "needs_background": "light"
     },
     "output_type": "display_data"
    }
   ],
   "source": [
    "###Matrice de confusion\n",
    "cmat4=confusion_matrix(yn_test, list(map(round,yn_pred)))\n",
    "conf4 = ConfusionMatrixDisplay(cmat4).plot()"
   ]
  },
  {
   "cell_type": "markdown",
   "id": "49fc0eae",
   "metadata": {},
   "source": [
    "### Seuil optimal"
   ]
  },
  {
   "cell_type": "markdown",
   "id": "946a9c87",
   "metadata": {},
   "source": [
    "Courbe ROC"
   ]
  },
  {
   "cell_type": "code",
   "execution_count": 92,
   "id": "ee82d097",
   "metadata": {},
   "outputs": [],
   "source": [
    "from sklearn.metrics import roc_curve, auc"
   ]
  },
  {
   "cell_type": "markdown",
   "id": "37d18f0b",
   "metadata": {},
   "source": [
    "Model 1"
   ]
  },
  {
   "cell_type": "code",
   "execution_count": 101,
   "id": "7d9dec6c",
   "metadata": {},
   "outputs": [],
   "source": [
    "spec_mod1, sens1, seuil1 = roc_curve(y_test,y_pred)"
   ]
  },
  {
   "cell_type": "code",
   "execution_count": 102,
   "id": "b9fc3db1",
   "metadata": {},
   "outputs": [
    {
     "data": {
      "text/plain": [
       "<matplotlib.legend.Legend at 0x25d8d4eeeb0>"
      ]
     },
     "execution_count": 102,
     "metadata": {},
     "output_type": "execute_result"
    },
    {
     "data": {
      "image/png": "[encoded data removed]",
      "text/plain": [
       "<Figure size 576x360 with 1 Axes>"
      ]
     },
     "metadata": {
      "needs_background": "light"
     },
     "output_type": "display_data"
    }
   ],
   "source": [
    "###Graphic representation\n",
    "plt.figure(figsize=(8,5))\n",
    "plt.plot(spec_mod1,sens1,color=\"green\",lw=2,label='ROC curve')\n",
    "plt.plot([0,1],[0,1],linestyle='--')\n",
    "###\n",
    "plt.xlim([0.0,1.0])\n",
    "plt.ylim([0.0,1.05])\n",
    "plt.xlabel(\"1-specificity\")\n",
    "plt.ylabel(\"sensitivity\")\n",
    "plt.title(\"ROC curve\")\n",
    "plt.legend()"
   ]
  },
  {
   "cell_type": "code",
   "execution_count": 103,
   "id": "5291b095",
   "metadata": {},
   "outputs": [
    {
     "data": {
      "text/plain": [
       "0.2560603245379334"
      ]
     },
     "execution_count": 103,
     "metadata": {},
     "output_type": "execute_result"
    }
   ],
   "source": [
    "###Seuil optimal\n",
    "###Approche basée sur la courbe ROC\n",
    "thres=seuil1[np.argmax(sens1-spec_mod1)]\n",
    "thres"
   ]
  },
  {
   "cell_type": "code",
   "execution_count": 110,
   "id": "612a2de8",
   "metadata": {},
   "outputs": [
    {
     "data": {
      "text/plain": [
       "0.7911073825503355"
      ]
     },
     "execution_count": 110,
     "metadata": {},
     "output_type": "execute_result"
    }
   ],
   "source": [
    "Y_pred=Res1.predict(X_test)>thres\n",
    "Yp=accuracy_score(y_test,list(map(round,Y_pred)))\n",
    "Yp"
   ]
  },
  {
   "cell_type": "code",
   "execution_count": 113,
   "id": "cfb36328",
   "metadata": {},
   "outputs": [
    {
     "data": {
      "text/plain": [
       "0.2560603245379334"
      ]
     },
     "execution_count": 113,
     "metadata": {},
     "output_type": "execute_result"
    }
   ],
   "source": [
    "###Equilibre Précision-Recall\n",
    "from sklearn.metrics import precision_recall_curve\n",
    "prec1, rec1, seuil11=precision_recall_curve(y_test,y_pred)\n",
    "thres1=seuil11[np.argmax(prec1+rec1)]\n",
    "thres"
   ]
  },
  {
   "cell_type": "code",
   "execution_count": null,
   "id": "ebf46287",
   "metadata": {},
   "outputs": [],
   "source": []
  }
 ],
 "metadata": {
  "kernelspec": {
   "display_name": "Python 3 (ipykernel)",
   "language": "python",
   "name": "python3"
  },
  "language_info": {
   "codemirror_mode": {
    "name": "ipython",
    "version": 3
   },
   "file_extension": ".py",
   "mimetype": "text/x-python",
   "name": "python",
   "nbconvert_exporter": "python",
   "pygments_lexer": "ipython3",
   "version": "3.9.12"
  }
 },
 "nbformat": 4,
 "nbformat_minor": 5
}
