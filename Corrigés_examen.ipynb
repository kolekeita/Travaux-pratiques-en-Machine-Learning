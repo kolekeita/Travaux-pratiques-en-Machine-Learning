{
 "cells": [
  {
   "cell_type": "markdown",
   "id": "3332a869",
   "metadata": {},
   "source": [
    "$\\textbf{Exercice 1}$ :  on définit la variable  var=(-1,0,2,-3,1.5,6,-2.5,6.1)."
   ]
  },
  {
   "cell_type": "code",
   "execution_count": 19,
   "id": "2f691ecd",
   "metadata": {},
   "outputs": [],
   "source": [
    "import numpy as np"
   ]
  },
  {
   "cell_type": "code",
   "execution_count": 20,
   "id": "61d17862",
   "metadata": {},
   "outputs": [],
   "source": [
    "var=np.array([-1,0,2,-3,1.5,6,-2.5,6.1])"
   ]
  },
  {
   "cell_type": "markdown",
   "id": "5d042264",
   "metadata": {},
   "source": [
    "1) \tDonner les instructions python qui permettent d’obtenir l’élément de var qui occupe la cinquième position. Donner la valeur de cet élément."
   ]
  },
  {
   "cell_type": "code",
   "execution_count": 21,
   "id": "5032279a",
   "metadata": {},
   "outputs": [
    {
     "data": {
      "text/plain": [
       "1.5"
      ]
     },
     "execution_count": 21,
     "metadata": {},
     "output_type": "execute_result"
    }
   ],
   "source": [
    "var[4]"
   ]
  },
  {
   "cell_type": "markdown",
   "id": "a6cf80fc",
   "metadata": {},
   "source": [
    "2) Ecrire les lignes de code qui calculent le maximum, le minimum, la moyenne,\n",
    "    la médiane et l’écart-type de var."
   ]
  },
  {
   "cell_type": "code",
   "execution_count": 22,
   "id": "3de4f205",
   "metadata": {},
   "outputs": [
    {
     "data": {
      "text/plain": [
       "-3.0"
      ]
     },
     "execution_count": 22,
     "metadata": {},
     "output_type": "execute_result"
    }
   ],
   "source": [
    "###Minimum\n",
    "min(var)"
   ]
  },
  {
   "cell_type": "code",
   "execution_count": 23,
   "id": "42bd38bf",
   "metadata": {},
   "outputs": [
    {
     "data": {
      "text/plain": [
       "6.1"
      ]
     },
     "execution_count": 23,
     "metadata": {},
     "output_type": "execute_result"
    }
   ],
   "source": [
    "###Maximum\n",
    "max(var)"
   ]
  },
  {
   "cell_type": "code",
   "execution_count": 24,
   "id": "13b1691d",
   "metadata": {},
   "outputs": [
    {
     "data": {
      "text/plain": [
       "1.1375"
      ]
     },
     "execution_count": 24,
     "metadata": {},
     "output_type": "execute_result"
    }
   ],
   "source": [
    "var.mean()"
   ]
  },
  {
   "cell_type": "code",
   "execution_count": 25,
   "id": "2069071f",
   "metadata": {},
   "outputs": [
    {
     "data": {
      "text/plain": [
       "3.2664726770631343"
      ]
     },
     "execution_count": 25,
     "metadata": {},
     "output_type": "execute_result"
    }
   ],
   "source": [
    "var.std()"
   ]
  },
  {
   "cell_type": "markdown",
   "id": "bce9a066",
   "metadata": {},
   "source": [
    "3) \tDéfinir une variable qui récupère tous les éléments inférieurs ou égaux à 0 de la variable var."
   ]
  },
  {
   "cell_type": "code",
   "execution_count": 26,
   "id": "48442ae5",
   "metadata": {},
   "outputs": [
    {
     "data": {
      "text/plain": [
       "array([-1. ,  0. , -3. , -2.5])"
      ]
     },
     "execution_count": 26,
     "metadata": {},
     "output_type": "execute_result"
    }
   ],
   "source": [
    "V=var[var<=0]\n",
    "V"
   ]
  },
  {
   "cell_type": "markdown",
   "id": "a580845c",
   "metadata": {},
   "source": [
    "4) \tEcrire les lignes de code d’une matrice Mat de dimension (4,2) dont les éléments correspondent à la variable var."
   ]
  },
  {
   "cell_type": "code",
   "execution_count": 34,
   "id": "da00c2ab",
   "metadata": {},
   "outputs": [
    {
     "data": {
      "text/plain": [
       "array([[-1. ,  0. ],\n",
       "       [ 2. , -3. ],\n",
       "       [ 1.5,  6. ],\n",
       "       [-2.5,  6.1]])"
      ]
     },
     "execution_count": 34,
     "metadata": {},
     "output_type": "execute_result"
    }
   ],
   "source": [
    "Mat=var.reshape((4,2))\n",
    "Mat"
   ]
  },
  {
   "cell_type": "markdown",
   "id": "08f7bb91",
   "metadata": {},
   "source": [
    "$\\textbf{Exercice 2 :}$ on veut résoudre le système linéaire suivant\n",
    "\\begin{equation*}\n",
    " \\left\\{\n",
    "  \\begin{array}{rcl}\n",
    "   2x+y-z &=& 1 \\\\\n",
    "   x-2y+z &=& 2 \\\\\n",
    "   x+y-2z &=& -1\n",
    "  \\end{array}\n",
    " \\right.\n",
    "\\end{equation*}"
   ]
  },
  {
   "cell_type": "markdown",
   "id": "25f8cc99",
   "metadata": {},
   "source": [
    "2) Rappeler les lignes de code qui calculent le déterminant, les valeurs propres de la matrice A"
   ]
  },
  {
   "cell_type": "code",
   "execution_count": 36,
   "id": "e6fbaf37",
   "metadata": {},
   "outputs": [
    {
     "data": {
      "text/plain": [
       "(3, 3)"
      ]
     },
     "execution_count": 36,
     "metadata": {},
     "output_type": "execute_result"
    }
   ],
   "source": [
    "A=np.array([[2,1,-1],[1,-2,1],[1,1,-2]])"
   ]
  },
  {
   "cell_type": "code",
   "execution_count": 39,
   "id": "769454a9",
   "metadata": {},
   "outputs": [
    {
     "data": {
      "text/plain": [
       "6.000000000000001"
      ]
     },
     "execution_count": 39,
     "metadata": {},
     "output_type": "execute_result"
    }
   ],
   "source": [
    "###Calcul de détermiant\n",
    "np.linalg.det(A)"
   ]
  },
  {
   "cell_type": "code",
   "execution_count": 42,
   "id": "3ca2d423",
   "metadata": {},
   "outputs": [
    {
     "data": {
      "text/plain": [
       "array([ 2., -1., -3.])"
      ]
     },
     "execution_count": 42,
     "metadata": {},
     "output_type": "execute_result"
    }
   ],
   "source": [
    "##Les valeurs propres\n",
    "np.linalg.eig(A)[0]"
   ]
  },
  {
   "cell_type": "markdown",
   "id": "6ecb6e82",
   "metadata": {},
   "source": [
    "4) \tEcrire les lignes de code pour la résolution du système (S). Donner la solution du système."
   ]
  },
  {
   "cell_type": "code",
   "execution_count": 43,
   "id": "73baba40",
   "metadata": {},
   "outputs": [],
   "source": [
    "b=np.array([1,2,-1])"
   ]
  },
  {
   "cell_type": "code",
   "execution_count": 44,
   "id": "e533e048",
   "metadata": {},
   "outputs": [
    {
     "data": {
      "text/plain": [
       "array([ 1., -0.,  1.])"
      ]
     },
     "execution_count": 44,
     "metadata": {},
     "output_type": "execute_result"
    }
   ],
   "source": [
    "Sol=np.linalg.solve(A,b)\n",
    "Sol"
   ]
  },
  {
   "cell_type": "markdown",
   "id": "a0d45148",
   "metadata": {},
   "source": [
    "$\\textbf{Exercice 3 :}$ on considère 3 variables aléatoires $p,q$ et $C$ qui représentent les  prix unitaires, les quantités produites et les coûts de production. On suppose que $p\\~N(500,10),q\\~N(1000,50)$ et $C\\~U(500000,535500)$."
   ]
  },
  {
   "cell_type": "markdown",
   "id": "39a7a38e",
   "metadata": {},
   "source": [
    "1) \tEcrire les lignes de code qui génèrent 100 observations des trois variables."
   ]
  },
  {
   "cell_type": "code",
   "execution_count": 45,
   "id": "1c7dbee8",
   "metadata": {},
   "outputs": [
    {
     "data": {
      "text/plain": [
       "array([496.01315867, 495.29112372, 499.55785789, 489.20314251,\n",
       "       497.05902463, 486.4182854 , 511.11220201, 492.37682686,\n",
       "       511.24471491, 509.25032576, 503.2846803 , 505.726394  ,\n",
       "       501.9679866 , 505.90400193, 504.54799992, 497.81615505,\n",
       "       497.6762533 , 519.67845731, 489.39928181, 486.86574534,\n",
       "       492.06000749, 514.84920615, 497.20726799, 496.84360392,\n",
       "       491.65506167, 500.47389362, 482.25810902, 489.38432839,\n",
       "       499.00775993, 521.49644598, 518.50570373, 499.71322261,\n",
       "       492.93095053, 504.59010498, 500.64208447, 511.17198817,\n",
       "       483.88315947, 502.27804636, 499.11108899, 503.56355288,\n",
       "       499.83816195, 492.58249212, 501.1666916 , 503.7859211 ,\n",
       "       508.84482041, 518.43758148, 501.36816091, 516.98068442,\n",
       "       493.44539253, 505.92036376, 502.2058659 , 500.58904561,\n",
       "       490.84475475, 513.18872331, 507.69766904, 508.33154068,\n",
       "       510.14189821, 494.57944967, 489.79352566, 497.84546276,\n",
       "       501.09138189, 503.79837587, 496.61225592, 497.10608766,\n",
       "       506.64043005, 510.93750643, 510.63003631, 504.84371788,\n",
       "       483.79070865, 486.94864045, 505.80623475, 493.64188372,\n",
       "       499.11967478, 497.19672844, 509.56710736, 489.36101685,\n",
       "       503.22927431, 504.97230485, 504.7284412 , 512.45416974,\n",
       "       493.04715381, 504.19357316, 505.27316654, 480.12180483,\n",
       "       501.22644156, 513.5672382 , 503.36954295, 492.90919599,\n",
       "       507.14341368, 520.67595964, 491.39426194, 513.48221826,\n",
       "       512.58477525, 502.9105641 , 500.76775445, 503.63597078,\n",
       "       480.56459239, 506.19044785, 506.67158585, 496.99382537])"
      ]
     },
     "execution_count": 45,
     "metadata": {},
     "output_type": "execute_result"
    }
   ],
   "source": [
    "p=np.random.normal(loc=500,scale=10,size=100)\n",
    "p"
   ]
  },
  {
   "cell_type": "code",
   "execution_count": 46,
   "id": "40a1bbd1",
   "metadata": {},
   "outputs": [],
   "source": [
    "q=np.random.normal(loc=1000,scale=50,size=100)"
   ]
  },
  {
   "cell_type": "code",
   "execution_count": 47,
   "id": "5cfaa661",
   "metadata": {},
   "outputs": [],
   "source": [
    "C=np.random.uniform(500000,535500,100)"
   ]
  },
  {
   "cell_type": "markdown",
   "id": "62c37d16",
   "metadata": {},
   "source": [
    "2) \tDéfinir un data frame dont les colonnes sont composées des variables p,q et C (donner les lignes de commande)."
   ]
  },
  {
   "cell_type": "code",
   "execution_count": 48,
   "id": "67b9d876",
   "metadata": {},
   "outputs": [],
   "source": [
    "import pandas as pd"
   ]
  },
  {
   "cell_type": "code",
   "execution_count": 52,
   "id": "cfed1e4e",
   "metadata": {},
   "outputs": [
    {
     "data": {
      "text/html": [
       "<div>\n",
       "<style scoped>\n",
       "    .dataframe tbody tr th:only-of-type {\n",
       "        vertical-align: middle;\n",
       "    }\n",
       "\n",
       "    .dataframe tbody tr th {\n",
       "        vertical-align: top;\n",
       "    }\n",
       "\n",
       "    .dataframe thead th {\n",
       "        text-align: right;\n",
       "    }\n",
       "</style>\n",
       "<table border=\"1\" class=\"dataframe\">\n",
       "  <thead>\n",
       "    <tr style=\"text-align: right;\">\n",
       "      <th></th>\n",
       "      <th>p</th>\n",
       "      <th>q</th>\n",
       "      <th>C</th>\n",
       "    </tr>\n",
       "  </thead>\n",
       "  <tbody>\n",
       "    <tr>\n",
       "      <th>0</th>\n",
       "      <td>496.013159</td>\n",
       "      <td>939.567483</td>\n",
       "      <td>533153.410697</td>\n",
       "    </tr>\n",
       "    <tr>\n",
       "      <th>1</th>\n",
       "      <td>495.291124</td>\n",
       "      <td>959.080942</td>\n",
       "      <td>502076.059900</td>\n",
       "    </tr>\n",
       "    <tr>\n",
       "      <th>2</th>\n",
       "      <td>499.557858</td>\n",
       "      <td>1001.925942</td>\n",
       "      <td>527040.011399</td>\n",
       "    </tr>\n",
       "    <tr>\n",
       "      <th>3</th>\n",
       "      <td>489.203143</td>\n",
       "      <td>972.914302</td>\n",
       "      <td>503972.345243</td>\n",
       "    </tr>\n",
       "    <tr>\n",
       "      <th>4</th>\n",
       "      <td>497.059025</td>\n",
       "      <td>1051.322450</td>\n",
       "      <td>502108.886412</td>\n",
       "    </tr>\n",
       "    <tr>\n",
       "      <th>...</th>\n",
       "      <td>...</td>\n",
       "      <td>...</td>\n",
       "      <td>...</td>\n",
       "    </tr>\n",
       "    <tr>\n",
       "      <th>95</th>\n",
       "      <td>503.635971</td>\n",
       "      <td>1084.217813</td>\n",
       "      <td>526989.876165</td>\n",
       "    </tr>\n",
       "    <tr>\n",
       "      <th>96</th>\n",
       "      <td>480.564592</td>\n",
       "      <td>1023.083778</td>\n",
       "      <td>500799.613527</td>\n",
       "    </tr>\n",
       "    <tr>\n",
       "      <th>97</th>\n",
       "      <td>506.190448</td>\n",
       "      <td>1006.681092</td>\n",
       "      <td>523143.356952</td>\n",
       "    </tr>\n",
       "    <tr>\n",
       "      <th>98</th>\n",
       "      <td>506.671586</td>\n",
       "      <td>950.993979</td>\n",
       "      <td>532688.312059</td>\n",
       "    </tr>\n",
       "    <tr>\n",
       "      <th>99</th>\n",
       "      <td>496.993825</td>\n",
       "      <td>1026.242372</td>\n",
       "      <td>531256.664802</td>\n",
       "    </tr>\n",
       "  </tbody>\n",
       "</table>\n",
       "<p>100 rows × 3 columns</p>\n",
       "</div>"
      ],
      "text/plain": [
       "             p            q              C\n",
       "0   496.013159   939.567483  533153.410697\n",
       "1   495.291124   959.080942  502076.059900\n",
       "2   499.557858  1001.925942  527040.011399\n",
       "3   489.203143   972.914302  503972.345243\n",
       "4   497.059025  1051.322450  502108.886412\n",
       "..         ...          ...            ...\n",
       "95  503.635971  1084.217813  526989.876165\n",
       "96  480.564592  1023.083778  500799.613527\n",
       "97  506.190448  1006.681092  523143.356952\n",
       "98  506.671586   950.993979  532688.312059\n",
       "99  496.993825  1026.242372  531256.664802\n",
       "\n",
       "[100 rows x 3 columns]"
      ]
     },
     "execution_count": 52,
     "metadata": {},
     "output_type": "execute_result"
    }
   ],
   "source": [
    "Df=pd.DataFrame({\n",
    "    'p':p,\n",
    "    'q':q,\n",
    "    'C':C\n",
    "})\n",
    "Df"
   ]
  },
  {
   "cell_type": "markdown",
   "id": "e3e3c566",
   "metadata": {},
   "source": [
    "3) Donner les lignes de code qui renomment les variables dans le data frame."
   ]
  },
  {
   "cell_type": "code",
   "execution_count": 53,
   "id": "eb122f29",
   "metadata": {},
   "outputs": [
    {
     "data": {
      "text/html": [
       "<div>\n",
       "<style scoped>\n",
       "    .dataframe tbody tr th:only-of-type {\n",
       "        vertical-align: middle;\n",
       "    }\n",
       "\n",
       "    .dataframe tbody tr th {\n",
       "        vertical-align: top;\n",
       "    }\n",
       "\n",
       "    .dataframe thead th {\n",
       "        text-align: right;\n",
       "    }\n",
       "</style>\n",
       "<table border=\"1\" class=\"dataframe\">\n",
       "  <thead>\n",
       "    <tr style=\"text-align: right;\">\n",
       "      <th></th>\n",
       "      <th>Prix</th>\n",
       "      <th>Quantité</th>\n",
       "      <th>Coût</th>\n",
       "    </tr>\n",
       "  </thead>\n",
       "  <tbody>\n",
       "    <tr>\n",
       "      <th>0</th>\n",
       "      <td>496.013159</td>\n",
       "      <td>939.567483</td>\n",
       "      <td>533153.410697</td>\n",
       "    </tr>\n",
       "    <tr>\n",
       "      <th>1</th>\n",
       "      <td>495.291124</td>\n",
       "      <td>959.080942</td>\n",
       "      <td>502076.059900</td>\n",
       "    </tr>\n",
       "    <tr>\n",
       "      <th>2</th>\n",
       "      <td>499.557858</td>\n",
       "      <td>1001.925942</td>\n",
       "      <td>527040.011399</td>\n",
       "    </tr>\n",
       "    <tr>\n",
       "      <th>3</th>\n",
       "      <td>489.203143</td>\n",
       "      <td>972.914302</td>\n",
       "      <td>503972.345243</td>\n",
       "    </tr>\n",
       "    <tr>\n",
       "      <th>4</th>\n",
       "      <td>497.059025</td>\n",
       "      <td>1051.322450</td>\n",
       "      <td>502108.886412</td>\n",
       "    </tr>\n",
       "    <tr>\n",
       "      <th>...</th>\n",
       "      <td>...</td>\n",
       "      <td>...</td>\n",
       "      <td>...</td>\n",
       "    </tr>\n",
       "    <tr>\n",
       "      <th>95</th>\n",
       "      <td>503.635971</td>\n",
       "      <td>1084.217813</td>\n",
       "      <td>526989.876165</td>\n",
       "    </tr>\n",
       "    <tr>\n",
       "      <th>96</th>\n",
       "      <td>480.564592</td>\n",
       "      <td>1023.083778</td>\n",
       "      <td>500799.613527</td>\n",
       "    </tr>\n",
       "    <tr>\n",
       "      <th>97</th>\n",
       "      <td>506.190448</td>\n",
       "      <td>1006.681092</td>\n",
       "      <td>523143.356952</td>\n",
       "    </tr>\n",
       "    <tr>\n",
       "      <th>98</th>\n",
       "      <td>506.671586</td>\n",
       "      <td>950.993979</td>\n",
       "      <td>532688.312059</td>\n",
       "    </tr>\n",
       "    <tr>\n",
       "      <th>99</th>\n",
       "      <td>496.993825</td>\n",
       "      <td>1026.242372</td>\n",
       "      <td>531256.664802</td>\n",
       "    </tr>\n",
       "  </tbody>\n",
       "</table>\n",
       "<p>100 rows × 3 columns</p>\n",
       "</div>"
      ],
      "text/plain": [
       "          Prix     Quantité           Coût\n",
       "0   496.013159   939.567483  533153.410697\n",
       "1   495.291124   959.080942  502076.059900\n",
       "2   499.557858  1001.925942  527040.011399\n",
       "3   489.203143   972.914302  503972.345243\n",
       "4   497.059025  1051.322450  502108.886412\n",
       "..         ...          ...            ...\n",
       "95  503.635971  1084.217813  526989.876165\n",
       "96  480.564592  1023.083778  500799.613527\n",
       "97  506.190448  1006.681092  523143.356952\n",
       "98  506.671586   950.993979  532688.312059\n",
       "99  496.993825  1026.242372  531256.664802\n",
       "\n",
       "[100 rows x 3 columns]"
      ]
     },
     "execution_count": 53,
     "metadata": {},
     "output_type": "execute_result"
    }
   ],
   "source": [
    "Df=Df.rename(columns={\n",
    "    'p':'Prix',\n",
    "    'q': 'Quantité',\n",
    "    'C' : 'Coût'\n",
    "})\n",
    "Df"
   ]
  },
  {
   "cell_type": "markdown",
   "id": "9dfa325f",
   "metadata": {},
   "source": [
    "4) Programmer des représentations en nuages de points de C en fonction de q et de p en fonction de q."
   ]
  },
  {
   "cell_type": "code",
   "execution_count": 55,
   "id": "dee7889f",
   "metadata": {},
   "outputs": [],
   "source": [
    "import matplotlib.pyplot as plt"
   ]
  },
  {
   "cell_type": "code",
   "execution_count": 56,
   "id": "27e41bd7",
   "metadata": {},
   "outputs": [
    {
     "data": {
      "text/plain": [
       "<function matplotlib.pyplot.show(close=None, block=None)>"
      ]
     },
     "execution_count": 56,
     "metadata": {},
     "output_type": "execute_result"
    },
    {
     "data": {
      "image/png": "[encoded data removed]",
      "text/plain": [
       "<Figure size 432x288 with 1 Axes>"
      ]
     },
     "metadata": {
      "needs_background": "light"
     },
     "output_type": "display_data"
    }
   ],
   "source": [
    "plt.figure()\n",
    "plt.plot(q,C,'o',color='red')\n",
    "plt.show"
   ]
  },
  {
   "cell_type": "code",
   "execution_count": 57,
   "id": "1cd310d4",
   "metadata": {},
   "outputs": [
    {
     "data": {
      "text/plain": [
       "<function matplotlib.pyplot.show(close=None, block=None)>"
      ]
     },
     "execution_count": 57,
     "metadata": {},
     "output_type": "execute_result"
    },
    {
     "data": {
      "image/png": "[encoded data removed]",
      "text/plain": [
       "<Figure size 432x288 with 1 Axes>"
      ]
     },
     "metadata": {
      "needs_background": "light"
     },
     "output_type": "display_data"
    }
   ],
   "source": [
    "plt.figure()\n",
    "plt.plot(q,p,'o',color='blue')\n",
    "plt.show"
   ]
  },
  {
   "cell_type": "markdown",
   "id": "6b8f1735",
   "metadata": {},
   "source": [
    "5) \tExiste-t-il une relation linéaire entre C et q et entre  p et q ?(Donner les lignes de code)"
   ]
  },
  {
   "cell_type": "code",
   "execution_count": 58,
   "id": "dc430050",
   "metadata": {},
   "outputs": [],
   "source": [
    "from scipy.stats import pearsonr"
   ]
  },
  {
   "cell_type": "code",
   "execution_count": 59,
   "id": "655d1731",
   "metadata": {},
   "outputs": [
    {
     "data": {
      "text/plain": [
       "(-0.02319220957709959, 0.8188401151731136)"
      ]
     },
     "execution_count": 59,
     "metadata": {},
     "output_type": "execute_result"
    }
   ],
   "source": [
    "pearsonr(C,q)"
   ]
  },
  {
   "cell_type": "code",
   "execution_count": 60,
   "id": "25a83fa9",
   "metadata": {},
   "outputs": [
    {
     "data": {
      "text/plain": [
       "(0.1253019531623122, 0.2141745183855741)"
      ]
     },
     "execution_count": 60,
     "metadata": {},
     "output_type": "execute_result"
    }
   ],
   "source": [
    "pearsonr(p,q)"
   ]
  },
  {
   "cell_type": "code",
   "execution_count": null,
   "id": "a1509557",
   "metadata": {},
   "outputs": [],
   "source": []
  }
 ],
 "metadata": {
  "kernelspec": {
   "display_name": "Python 3 (ipykernel)",
   "language": "python",
   "name": "python3"
  },
  "language_info": {
   "codemirror_mode": {
    "name": "ipython",
    "version": 3
   },
   "file_extension": ".py",
   "mimetype": "text/x-python",
   "name": "python",
   "nbconvert_exporter": "python",
   "pygments_lexer": "ipython3",
   "version": "3.9.12"
  }
 },
 "nbformat": 4,
 "nbformat_minor": 5
}
